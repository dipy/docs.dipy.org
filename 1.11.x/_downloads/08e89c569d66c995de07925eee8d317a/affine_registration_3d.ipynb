{
  "cells": [
    {
      "cell_type": "markdown",
      "metadata": {},
      "source": [
        "\n# Affine Registration in 3D\n\nThis example explains how to compute an affine transformation to register two\n3D volumes by maximization of their Mutual Information :footcite:p:`Mattes2003`.\nThe optimization strategy is similar to that implemented in ANTS\n:footcite:p:`Avants2009`.\n\nWe will do this twice. The first part of this tutorial will walk through the\ndetails of the process with the object-oriented interface implemented in\nthe ``dipy.align`` module. The second part will use a simplified functional\ninterface.\n"
      ]
    },
    {
      "cell_type": "code",
      "execution_count": null,
      "metadata": {
        "collapsed": false
      },
      "outputs": [],
      "source": [
        "from os.path import join as pjoin\n\nimport numpy as np\n\nfrom dipy.align import affine_registration, register_dwi_to_template\nfrom dipy.align.imaffine import (\n    AffineMap,\n    AffineRegistration,\n    MutualInformationMetric,\n    transform_centers_of_mass,\n)\nfrom dipy.align.transforms import (\n    AffineTransform3D,\n    RigidTransform3D,\n    TranslationTransform3D,\n)\nfrom dipy.data import fetch_stanford_hardi\nfrom dipy.data.fetcher import fetch_syn_data\nfrom dipy.io.image import load_nifti\nfrom dipy.viz import regtools"
      ]
    },
    {
      "cell_type": "markdown",
      "metadata": {},
      "source": [
        "Let's fetch two b0 volumes, the static image will be the b0 from the Stanford\nHARDI dataset\n\n"
      ]
    },
    {
      "cell_type": "code",
      "execution_count": null,
      "metadata": {
        "collapsed": false
      },
      "outputs": [],
      "source": [
        "files, folder = fetch_stanford_hardi()\nstatic_data, static_affine, static_img = load_nifti(\n    pjoin(folder, \"HARDI150.nii.gz\"), return_img=True\n)\nstatic = np.squeeze(static_data)[..., 0]\nstatic_grid2world = static_affine"
      ]
    },
    {
      "cell_type": "markdown",
      "metadata": {},
      "source": [
        "Now the moving image\n\n"
      ]
    },
    {
      "cell_type": "code",
      "execution_count": null,
      "metadata": {
        "collapsed": false
      },
      "outputs": [],
      "source": [
        "files, folder2 = fetch_syn_data()\nmoving_data, moving_affine, moving_img = load_nifti(\n    pjoin(folder2, \"b0.nii.gz\"), return_img=True\n)\nmoving = moving_data\nmoving_grid2world = moving_affine"
      ]
    },
    {
      "cell_type": "markdown",
      "metadata": {},
      "source": [
        "We can see that the images are far from aligned by drawing one on top of\nthe other. The images don't even have the same number of voxels, so in order\nto draw one on top of the other we need to resample the moving image on a\ngrid of the same dimensions as the static image, we can do this by\n\"transforming\" the moving image using an identity transform\n\n"
      ]
    },
    {
      "cell_type": "code",
      "execution_count": null,
      "metadata": {
        "collapsed": false
      },
      "outputs": [],
      "source": [
        "identity = np.eye(4)\naffine_map = AffineMap(\n    identity,\n    domain_grid_shape=static.shape,\n    domain_grid2world=static_grid2world,\n    codomain_grid_shape=moving.shape,\n    codomain_grid2world=moving_grid2world,\n)\nresampled = affine_map.transform(moving)\nregtools.overlay_slices(\n    static,\n    resampled,\n    slice_index=None,\n    slice_type=0,\n    ltitle=\"Static\",\n    rtitle=\"Moving\",\n    fname=\"resampled_0.png\",\n)\nregtools.overlay_slices(\n    static,\n    resampled,\n    slice_index=None,\n    slice_type=1,\n    ltitle=\"Static\",\n    rtitle=\"Moving\",\n    fname=\"resampled_1.png\",\n)\nregtools.overlay_slices(\n    static,\n    resampled,\n    slice_index=None,\n    slice_type=2,\n    ltitle=\"Static\",\n    rtitle=\"Moving\",\n    fname=\"resampled_2.png\",\n)"
      ]
    },
    {
      "cell_type": "markdown",
      "metadata": {},
      "source": [
        ".. rst-class:: centered small fst-italic fw-semibold\n\nInput images before alignment.\n\n\nWe can obtain a very rough (and fast) registration by just aligning the\ncenters of mass of the two images\n\n"
      ]
    },
    {
      "cell_type": "code",
      "execution_count": null,
      "metadata": {
        "collapsed": false
      },
      "outputs": [],
      "source": [
        "c_of_mass = transform_centers_of_mass(\n    static,\n    static_grid2world,\n    moving,\n    moving_grid2world,\n)"
      ]
    },
    {
      "cell_type": "markdown",
      "metadata": {},
      "source": [
        "We can now transform the moving image and draw it on top of the static image,\nregistration is not likely to be good, but at least they will occupy roughly\nthe same space\n\n"
      ]
    },
    {
      "cell_type": "code",
      "execution_count": null,
      "metadata": {
        "collapsed": false
      },
      "outputs": [],
      "source": [
        "transformed = c_of_mass.transform(moving)\nregtools.overlay_slices(\n    static,\n    transformed,\n    slice_index=None,\n    slice_type=0,\n    ltitle=\"Static\",\n    rtitle=\"Transformed\",\n    fname=\"transformed_com_0.png\",\n)\nregtools.overlay_slices(\n    static,\n    transformed,\n    slice_index=None,\n    slice_type=1,\n    ltitle=\"Static\",\n    rtitle=\"Transformed\",\n    fname=\"transformed_com_1.png\",\n)\nregtools.overlay_slices(\n    static,\n    transformed,\n    slice_index=None,\n    slice_type=2,\n    ltitle=\"Static\",\n    rtitle=\"Transformed\",\n    fname=\"transformed_com_2.png\",\n)"
      ]
    },
    {
      "cell_type": "markdown",
      "metadata": {},
      "source": [
        ".. rst-class:: centered small fst-italic fw-semibold\n\nRegistration result by aligning the centers of mass of the images.\n\n\nThis was just a translation of the moving image towards the static image,\nnow we will refine it by looking for an affine transform. We first create the\nsimilarity metric (Mutual Information) to be used. We need to specify the\nnumber of bins to be used to discretize the joint and marginal probability\ndistribution functions (PDF), a typical value is 32. We also need to specify\nthe percentage (an integer in (0, 100]) of voxels to be used for computing\nthe PDFs, the most accurate registration will be obtained by using all\nvoxels, but it is also the most time-consuming choice. We specify full\nsampling by passing None instead of an integer\n\n"
      ]
    },
    {
      "cell_type": "code",
      "execution_count": null,
      "metadata": {
        "collapsed": false
      },
      "outputs": [],
      "source": [
        "nbins = 32\nsampling_prop = None\nmetric = MutualInformationMetric(nbins=nbins, sampling_proportion=sampling_prop)"
      ]
    },
    {
      "cell_type": "markdown",
      "metadata": {},
      "source": [
        "To avoid getting stuck at local optima, and to accelerate convergence, we\nuse a multi-resolution strategy (similar to ANTS :footcite:p:`Avants2009`) by\nbuilding a Gaussian Pyramid. To have as much flexibility as possible, the user\ncan specify how this Gaussian Pyramid is built. First of all, we need to\nspecify how many resolutions we want to use. This is indirectly specified by\njust providing a list of the number of iterations we want to perform at each\nresolution. Here we will just specify 3 resolutions and a large number of\niterations, 10000 at the coarsest resolution, 1000 at the medium resolution\nand 100 at the finest. These are the default settings\n\n"
      ]
    },
    {
      "cell_type": "code",
      "execution_count": null,
      "metadata": {
        "collapsed": false
      },
      "outputs": [],
      "source": [
        "level_iters = [10000, 1000, 100]"
      ]
    },
    {
      "cell_type": "markdown",
      "metadata": {},
      "source": [
        "To compute the Gaussian pyramid, the original image is first smoothed at each\nlevel of the pyramid using a Gaussian kernel with the requested sigma.\nA good initial choice is [3.0, 1.0, 0.0], this is the default\n\n"
      ]
    },
    {
      "cell_type": "code",
      "execution_count": null,
      "metadata": {
        "collapsed": false
      },
      "outputs": [],
      "source": [
        "sigmas = [3.0, 1.0, 0.0]"
      ]
    },
    {
      "cell_type": "markdown",
      "metadata": {},
      "source": [
        "Now we specify the sub-sampling factors. A good configuration is [4, 2, 1],\nwhich means that, if the original image shape was (nx, ny, nz) voxels, then\nthe shape of the coarsest image will be about (nx//4, ny//4, nz//4), the\nshape in the middle resolution will be about (nx//2, ny//2, nz//2) and the\nimage at the finest scale has the same size as the original image. This set\nof factors is the default\n\n"
      ]
    },
    {
      "cell_type": "code",
      "execution_count": null,
      "metadata": {
        "collapsed": false
      },
      "outputs": [],
      "source": [
        "factors = [4, 2, 1]"
      ]
    },
    {
      "cell_type": "markdown",
      "metadata": {},
      "source": [
        "Now we go ahead and instantiate the registration class with the configuration\nwe just prepared\n\n"
      ]
    },
    {
      "cell_type": "code",
      "execution_count": null,
      "metadata": {
        "collapsed": false
      },
      "outputs": [],
      "source": [
        "affreg = AffineRegistration(\n    metric=metric, level_iters=level_iters, sigmas=sigmas, factors=factors\n)"
      ]
    },
    {
      "cell_type": "markdown",
      "metadata": {},
      "source": [
        "Using AffineRegistration we can register our images in as many stages as we\nwant, providing previous results as initialization for the next (the same\nlogic as in ANTS). The reason why it is useful is that registration is a\nnon-convex optimization problem (it may have more than one local optima),\nwhich means that it is very important to initialize as close to the solution\nas possible. For example, let's start with our (previously computed) rough\ntransformation aligning the centers of mass of our images, and then refine it\nin three stages. First look for an optimal translation. The dictionary\nregtransforms contains all available transforms, we obtain one of them by\nproviding its name and the dimension (either 2 or 3) of the image we are\nworking with (since we are aligning volumes, the dimension is 3)\n\n"
      ]
    },
    {
      "cell_type": "code",
      "execution_count": null,
      "metadata": {
        "collapsed": false
      },
      "outputs": [],
      "source": [
        "transform = TranslationTransform3D()\nparams0 = None\nstarting_affine = c_of_mass.affine\ntranslation = affreg.optimize(\n    static,\n    moving,\n    transform,\n    params0,\n    static_grid2world=static_grid2world,\n    moving_grid2world=moving_grid2world,\n    starting_affine=starting_affine,\n)"
      ]
    },
    {
      "cell_type": "markdown",
      "metadata": {},
      "source": [
        "If we look at the result, we can see that this translation is much better\nthan simply aligning the centers of mass\n\n"
      ]
    },
    {
      "cell_type": "code",
      "execution_count": null,
      "metadata": {
        "collapsed": false
      },
      "outputs": [],
      "source": [
        "transformed = translation.transform(moving)\nregtools.overlay_slices(\n    static,\n    transformed,\n    slice_index=None,\n    slice_type=0,\n    ltitle=\"Static\",\n    rtitle=\"Transformed\",\n    fname=\"transformed_trans_0.png\",\n)\nregtools.overlay_slices(\n    static,\n    transformed,\n    slice_index=None,\n    slice_type=1,\n    ltitle=\"Static\",\n    rtitle=\"Transformed\",\n    fname=\"transformed_trans_1.png\",\n)\nregtools.overlay_slices(\n    static,\n    transformed,\n    slice_index=None,\n    slice_type=2,\n    ltitle=\"Static\",\n    rtitle=\"Transformed\",\n    fname=\"transformed_trans_2.png\",\n)"
      ]
    },
    {
      "cell_type": "markdown",
      "metadata": {},
      "source": [
        ".. rst-class:: centered small fst-italic fw-semibold\n\nRegistration result by translating the moving image, using Mutual\nInformation.\n\n\n\nNow let's refine with a rigid transform (this may even modify our previously\nfound optimal translation)\n\n"
      ]
    },
    {
      "cell_type": "code",
      "execution_count": null,
      "metadata": {
        "collapsed": false
      },
      "outputs": [],
      "source": [
        "transform = RigidTransform3D()\nparams0 = None\nstarting_affine = translation.affine\nrigid = affreg.optimize(\n    static,\n    moving,\n    transform,\n    params0,\n    static_grid2world=static_grid2world,\n    moving_grid2world=moving_grid2world,\n    starting_affine=starting_affine,\n)"
      ]
    },
    {
      "cell_type": "markdown",
      "metadata": {},
      "source": [
        "This produces a slight rotation, and the images are now better aligned\n\n"
      ]
    },
    {
      "cell_type": "code",
      "execution_count": null,
      "metadata": {
        "collapsed": false
      },
      "outputs": [],
      "source": [
        "transformed = rigid.transform(moving)\nregtools.overlay_slices(\n    static,\n    transformed,\n    slice_index=None,\n    slice_type=0,\n    ltitle=\"Static\",\n    rtitle=\"Transformed\",\n    fname=\"transformed_rigid_0.png\",\n)\nregtools.overlay_slices(\n    static,\n    transformed,\n    slice_index=None,\n    slice_type=1,\n    ltitle=\"Static\",\n    rtitle=\"Transformed\",\n    fname=\"transformed_rigid_1.png\",\n)\nregtools.overlay_slices(\n    static,\n    transformed,\n    slice_index=None,\n    slice_type=2,\n    ltitle=\"Static\",\n    rtitle=\"Transformed\",\n    fname=\"transformed_rigid_2.png\",\n)"
      ]
    },
    {
      "cell_type": "markdown",
      "metadata": {},
      "source": [
        ".. rst-class:: centered small fst-italic fw-semibold\n\nRegistration result with a rigid transform, using Mutual Information.\n\n\n\nFinally, let's refine with a full affine transform (translation, rotation,\nscale and shear), it is safer to fit more degrees of freedom now since we\nmust be very close to the optimal transform\n\n"
      ]
    },
    {
      "cell_type": "code",
      "execution_count": null,
      "metadata": {
        "collapsed": false
      },
      "outputs": [],
      "source": [
        "transform = AffineTransform3D()\nparams0 = None\nstarting_affine = rigid.affine\naffine = affreg.optimize(\n    static,\n    moving,\n    transform,\n    params0,\n    static_grid2world=static_grid2world,\n    moving_grid2world=moving_grid2world,\n    starting_affine=starting_affine,\n)"
      ]
    },
    {
      "cell_type": "markdown",
      "metadata": {},
      "source": [
        "This results in a slight shear and scale\n\n"
      ]
    },
    {
      "cell_type": "code",
      "execution_count": null,
      "metadata": {
        "collapsed": false
      },
      "outputs": [],
      "source": [
        "transformed = affine.transform(moving)\nregtools.overlay_slices(\n    static,\n    transformed,\n    slice_index=None,\n    slice_type=0,\n    ltitle=\"Static\",\n    rtitle=\"Transformed\",\n    fname=\"transformed_affine_0.png\",\n)\nregtools.overlay_slices(\n    static,\n    transformed,\n    slice_index=None,\n    slice_type=1,\n    ltitle=\"Static\",\n    rtitle=\"Transformed\",\n    fname=\"transformed_affine_1.png\",\n)\nregtools.overlay_slices(\n    static,\n    transformed,\n    slice_index=None,\n    slice_type=2,\n    ltitle=\"Static\",\n    rtitle=\"Transformed\",\n    fname=\"transformed_affine_2.png\",\n)"
      ]
    },
    {
      "cell_type": "markdown",
      "metadata": {},
      "source": [
        ".. rst-class:: centered small fst-italic fw-semibold\n\nRegistration result with an affine transform, using Mutual Information.\n\n\n\nNow, let's repeat this process with a simplified functional interface.\nThis interface constructs a pipeline of operations from a given list of\ntransformations.\n\n"
      ]
    },
    {
      "cell_type": "code",
      "execution_count": null,
      "metadata": {
        "collapsed": false
      },
      "outputs": [],
      "source": [
        "pipeline = [\"center_of_mass\", \"translation\", \"rigid\", \"affine\"]"
      ]
    },
    {
      "cell_type": "markdown",
      "metadata": {},
      "source": [
        "And then applies the transformations in the pipeline on the input (from left\nto right) with a call to an `affine_registration` function, which takes\noptional settings for things like the iterations, sigmas and factors. The\npipeline must be a list of strings with one or more of the following\ntransformations: center_of_mass, translation, rigid, rigid_isoscaling,\nrigid_scaling and affine.\n\n"
      ]
    },
    {
      "cell_type": "code",
      "execution_count": null,
      "metadata": {
        "collapsed": false
      },
      "outputs": [],
      "source": [
        "xformed_img, reg_affine = affine_registration(\n    moving,\n    static,\n    moving_affine=moving_affine,\n    static_affine=static_affine,\n    nbins=32,\n    metric=\"MI\",\n    pipeline=pipeline,\n    level_iters=level_iters,\n    sigmas=sigmas,\n    factors=factors,\n)\n\nregtools.overlay_slices(\n    static,\n    xformed_img,\n    slice_index=None,\n    slice_type=0,\n    ltitle=\"Static\",\n    rtitle=\"Transformed\",\n    fname=\"xformed_affine_0.png\",\n)\nregtools.overlay_slices(\n    static,\n    xformed_img,\n    slice_index=None,\n    slice_type=1,\n    ltitle=\"Static\",\n    rtitle=\"Transformed\",\n    fname=\"xformed_affine_1.png\",\n)\nregtools.overlay_slices(\n    static,\n    xformed_img,\n    slice_index=None,\n    slice_type=2,\n    ltitle=\"Static\",\n    rtitle=\"Transformed\",\n    fname=\"xformed_affine_2.png\",\n)"
      ]
    },
    {
      "cell_type": "markdown",
      "metadata": {},
      "source": [
        ".. rst-class:: centered small fst-italic fw-semibold\n\nRegistration result with an affine transform, using functional interface.\n\n\n\n\nAlternatively, you can also use the `register_dwi_to_template` function that\nneeds to also know about the gradient table of the DWI data, provided as a\ntuple of (bvals_file, bvecs_file). In this case, we are going to move the\ndiffusion data to the B0 image (the opposite of the previous examples),\nwhich reverses what is the \"moving\" image and what is \"static\".\n\n"
      ]
    },
    {
      "cell_type": "code",
      "execution_count": null,
      "metadata": {
        "collapsed": false
      },
      "outputs": [],
      "source": [
        "xformed_dwi, reg_affine = register_dwi_to_template(\n    dwi=static_img,\n    gtab=(pjoin(folder, \"HARDI150.bval\"), pjoin(folder, \"HARDI150.bvec\")),\n    template=moving_img,\n    reg_method=\"aff\",\n    nbins=32,\n    metric=\"MI\",\n    pipeline=pipeline,\n    level_iters=level_iters,\n    sigmas=sigmas,\n    factors=factors,\n)\n\nregtools.overlay_slices(\n    moving,\n    xformed_dwi,\n    slice_index=None,\n    slice_type=0,\n    ltitle=\"Static\",\n    rtitle=\"Transformed\",\n    fname=\"xformed_dwi_0.png\",\n)\nregtools.overlay_slices(\n    moving,\n    xformed_dwi,\n    slice_index=None,\n    slice_type=1,\n    ltitle=\"Static\",\n    rtitle=\"Transformed\",\n    fname=\"xformed_dwi_1.png\",\n)\nregtools.overlay_slices(\n    moving,\n    xformed_dwi,\n    slice_index=None,\n    slice_type=2,\n    ltitle=\"Static\",\n    rtitle=\"Transformed\",\n    fname=\"xformed_dwi_2.png\",\n)"
      ]
    },
    {
      "cell_type": "markdown",
      "metadata": {},
      "source": [
        ".. rst-class:: centered small fst-italic fw-semibold\n\nSame again, using the `dwi_to_template` functional interface.\n\n\n## References\n\n.. footbibliography::\n\n\n"
      ]
    },
    {
      "cell_type": "markdown",
      "metadata": {},
      "source": [
        ".. include:: ../../links_names.inc\n\n\n"
      ]
    }
  ],
  "metadata": {
    "kernelspec": {
      "display_name": "Python 3",
      "language": "python",
      "name": "python3"
    },
    "language_info": {
      "codemirror_mode": {
        "name": "ipython",
        "version": 3
      },
      "file_extension": ".py",
      "mimetype": "text/x-python",
      "name": "python",
      "nbconvert_exporter": "python",
      "pygments_lexer": "ipython3",
      "version": "3.10.13"
    }
  },
  "nbformat": 4,
  "nbformat_minor": 0
}