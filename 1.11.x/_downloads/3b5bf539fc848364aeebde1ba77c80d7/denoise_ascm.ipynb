{
  "cells": [
    {
      "cell_type": "markdown",
      "metadata": {},
      "source": [
        "\n# Denoise images using Adaptive Soft Coefficient Matching (ASCM)\n\nThe adaptive soft coefficient matching (ASCM) as described in\n:footcite:p:`Coupe2012` is an improved extension of non-local means (NLMEANS)\ndenoising. ASCM gives a better denoised images from two standard non-local means\ndenoised versions of the original data with different degrees sharpness. Here,\none denoised input is more \"smooth\" than the other (the easiest way to achieve\nthis denoising is use `non_local_means<sphx_glr_examples_built_preprocessing_denoise_nlmeans.py>`\nwith two different patch radii).\n\nASCM involves these basic steps\n\n* Computes wavelet decomposition of the noisy as well as denoised inputs\n\n* Combines the wavelets for the output image in a way that it takes it's\n  smoothness (low frequency components) from the input with larger smoothing,\n  and the sharp features (high frequency components) from the input with\n  less smoothing.\n\nThis way ASCM gives us a well denoised output while preserving the sharpness\nof the image features.\n\nLet us load the necessary modules\n"
      ]
    },
    {
      "cell_type": "code",
      "execution_count": null,
      "metadata": {
        "collapsed": false
      },
      "outputs": [],
      "source": [
        "from time import time\n\nimport matplotlib.pyplot as plt\nimport numpy as np\n\nfrom dipy.core.gradients import gradient_table\nfrom dipy.data import get_fnames\nfrom dipy.denoise.adaptive_soft_matching import adaptive_soft_matching\nfrom dipy.denoise.noise_estimate import estimate_sigma\nfrom dipy.denoise.non_local_means import non_local_means\nfrom dipy.io.gradients import read_bvals_bvecs\nfrom dipy.io.image import load_nifti, save_nifti"
      ]
    },
    {
      "cell_type": "markdown",
      "metadata": {},
      "source": [
        "Choose one of the data from the datasets in dipy_\n\n"
      ]
    },
    {
      "cell_type": "code",
      "execution_count": null,
      "metadata": {
        "collapsed": false
      },
      "outputs": [],
      "source": [
        "dwi_fname, dwi_bval_fname, dwi_bvec_fname = get_fnames(name=\"sherbrooke_3shell\")\ndata, affine = load_nifti(dwi_fname)\nbvals, bvecs = read_bvals_bvecs(dwi_bval_fname, dwi_bvec_fname)\ngtab = gradient_table(bvals, bvecs=bvecs)\n\nmask = data[..., 0] > 80\ndata = data[..., 1]\n\nprint(\"vol size\", data.shape)\n\nt = time()"
      ]
    },
    {
      "cell_type": "markdown",
      "metadata": {},
      "source": [
        "In order to generate the two pre-denoised versions of the data we will use\nthe `non_local_means denoining<sphx_glr_examples_built_preprocessing_denoise_nlmeans.py>`   # noqa: E501\nFor ``non_local_means`` first we need to estimate the standard deviation of\nthe noise. We use N=4 since the Sherbrooke dataset was acquired on a\n1.5T Siemens scanner with a 4 array head coil.\n\n"
      ]
    },
    {
      "cell_type": "code",
      "execution_count": null,
      "metadata": {
        "collapsed": false
      },
      "outputs": [],
      "source": [
        "sigma = estimate_sigma(data, N=4)"
      ]
    },
    {
      "cell_type": "markdown",
      "metadata": {},
      "source": [
        "For the denoised version of the original data which preserves sharper\nfeatures, we perform non-local means with smaller patch size.\n\n"
      ]
    },
    {
      "cell_type": "code",
      "execution_count": null,
      "metadata": {
        "collapsed": false
      },
      "outputs": [],
      "source": [
        "den_small = non_local_means(\n    data, sigma=sigma, mask=mask, patch_radius=1, block_radius=1, rician=True\n)"
      ]
    },
    {
      "cell_type": "markdown",
      "metadata": {},
      "source": [
        "For the denoised version of the original data that implies more smoothing, we\nperform non-local means with larger patch size.\n\n"
      ]
    },
    {
      "cell_type": "code",
      "execution_count": null,
      "metadata": {
        "collapsed": false
      },
      "outputs": [],
      "source": [
        "den_large = non_local_means(\n    data, sigma=sigma, mask=mask, patch_radius=2, block_radius=1, rician=True\n)"
      ]
    },
    {
      "cell_type": "markdown",
      "metadata": {},
      "source": [
        "Now we perform the adaptive soft coefficient matching. Empirically we set the\nadaptive parameter in ascm to be the average of the local noise variance,\nin this case the sigma itself.\n\n"
      ]
    },
    {
      "cell_type": "code",
      "execution_count": null,
      "metadata": {
        "collapsed": false
      },
      "outputs": [],
      "source": [
        "den_final = adaptive_soft_matching(data, den_small, den_large, sigma[0])\n\nprint(\"total time\", time() - t)"
      ]
    },
    {
      "cell_type": "markdown",
      "metadata": {},
      "source": [
        "To access the quality of this denoising procedure, we plot an axial slice\nof the original data, it's denoised output and residuals.\n\n"
      ]
    },
    {
      "cell_type": "code",
      "execution_count": null,
      "metadata": {
        "collapsed": false
      },
      "outputs": [],
      "source": [
        "axial_middle = data.shape[2] // 2\n\noriginal = data[:, :, axial_middle].T\nfinal_output = den_final[:, :, axial_middle].T\ndifference = np.abs(final_output.astype(np.float64) - original.astype(np.float64))\ndifference[~mask[:, :, axial_middle].T] = 0\n\nfig, ax = plt.subplots(1, 3)\nax[0].imshow(original, cmap=\"gray\", origin=\"lower\")\nax[0].set_title(\"Original\")\nax[1].imshow(final_output, cmap=\"gray\", origin=\"lower\")\nax[1].set_title(\"ASCM output\")\nax[2].imshow(difference, cmap=\"gray\", origin=\"lower\")\nax[2].set_title(\"Residual\")\nfor i in range(3):\n    ax[i].set_axis_off()\n\nplt.savefig(\"denoised_ascm.png\", bbox_inches=\"tight\")"
      ]
    },
    {
      "cell_type": "markdown",
      "metadata": {},
      "source": [
        ".. rst-class:: centered small fst-italic fw-semibold\n\nShowing the axial slice without (left) and with (middle) ASCM denoising.\n\n\nFrom the above figure we can see that the residual is really uniform in\nnature which dictates that ASCM denoises the data while preserving the\nsharpness of the features. Now, we are Saving the entire denoised output in\n``denoised_ascm.nii.gz`` file.\n\n"
      ]
    },
    {
      "cell_type": "code",
      "execution_count": null,
      "metadata": {
        "collapsed": false
      },
      "outputs": [],
      "source": [
        "save_nifti(\"denoised_ascm.nii.gz\", den_final, affine)"
      ]
    },
    {
      "cell_type": "markdown",
      "metadata": {},
      "source": [
        "For comparison propose we also plot the outputs of the ``non_local_means``\n(both with the larger as well as with the smaller patch radius) with the ASCM\noutput.\n\n"
      ]
    },
    {
      "cell_type": "code",
      "execution_count": null,
      "metadata": {
        "collapsed": false
      },
      "outputs": [],
      "source": [
        "fig, ax = plt.subplots(1, 4)\nax[0].imshow(original, cmap=\"gray\", origin=\"lower\")\nax[0].set_title(\"Original\")\nax[1].imshow(\n    den_small[..., axial_middle].T, cmap=\"gray\", origin=\"lower\", interpolation=\"none\"\n)\nax[1].set_title(\"NLMEANS small\")\nax[2].imshow(\n    den_large[..., axial_middle].T, cmap=\"gray\", origin=\"lower\", interpolation=\"none\"\n)\nax[2].set_title(\"NLMEANS large\")\nax[3].imshow(final_output, cmap=\"gray\", origin=\"lower\", interpolation=\"none\")\nax[3].set_title(\"ASCM \")\nfor i in range(4):\n    ax[i].set_axis_off()\n\nplt.savefig(\"ascm_comparison.png\", bbox_inches=\"tight\")"
      ]
    },
    {
      "cell_type": "markdown",
      "metadata": {},
      "source": [
        ".. rst-class:: centered small fst-italic fw-semibold\n\nComparing outputs of the NLMEANS and ASCM.\n\n\nFrom the above figure, we can observe that the information of two\npre-denoised versions of the raw data, ASCM outperforms standard non-local\nmeans in suppressing noise and preserving feature sharpness.\n\n## References\n\n.. footbibliography::\n\n\n"
      ]
    },
    {
      "cell_type": "markdown",
      "metadata": {},
      "source": [
        ".. include:: ../../links_names.inc\n\n\n"
      ]
    }
  ],
  "metadata": {
    "kernelspec": {
      "display_name": "Python 3",
      "language": "python",
      "name": "python3"
    },
    "language_info": {
      "codemirror_mode": {
        "name": "ipython",
        "version": 3
      },
      "file_extension": ".py",
      "mimetype": "text/x-python",
      "name": "python",
      "nbconvert_exporter": "python",
      "pygments_lexer": "ipython3",
      "version": "3.10.13"
    }
  },
  "nbformat": 4,
  "nbformat_minor": 0
}