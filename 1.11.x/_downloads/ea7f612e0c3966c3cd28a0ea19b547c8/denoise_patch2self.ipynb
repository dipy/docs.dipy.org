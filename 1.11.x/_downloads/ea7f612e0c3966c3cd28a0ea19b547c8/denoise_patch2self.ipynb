{
  "cells": [
    {
      "cell_type": "markdown",
      "metadata": {},
      "source": [
        "\n# Patch2Self: Self-Supervised Denoising via Statistical Independence\n\nPatch2Self :footcite:p:`Fadnavis2020` and :footcite:p:`Fadnavis2024` is  a self-supervised learning method for\ndenoising DWI data, which uses the entire volume to learn a full-rank locally\nlinear denoiser for that volume. By taking advantage of the oversampled q-space\nof DWI data, Patch2Self can separate structure from noise without requiring an\nexplicit model for either.\n\nClassical denoising algorithms such as Local PCA :footcite:p:`Manjon2013`,\n:footcite:p:`Veraart2016b`, Non-local Means :footcite:p:`Coupe2008`, Total\nVariation Norm :footcite:p:`Knoll2011`, etc. assume certain properties on the\nsignal structure. Patch2Self *does not* make any such assumption on the signal,\ninstead using the fact that the noise across different 3D volumes of the DWI\nsignal originates from random fluctuations in the acquired signal.\n\nSince Patch2Self only relies on the randomness of the noise, it can be applied\nat any step in the pre-processing pipeline. The design of Patch2Self is such\nthat it can work on any type of diffusion data/ any body part without\nrequiring a noise estimation or assumptions on the type of noise (such as its\ndistribution).\n\nThe Patch2Self Framework:\n\n<img src=\"https://github.com/dipy/dipy_data/blob/master/Patch2Self_Framework.PNG?raw=true\" width=\"70 %\" align=\"center\">\n\nThe above figure demonstrates the working of Patch2Self. The idea is to build\na new regressor for denoising each 3D volume of the 4D diffusion data. This is\ndone in the following 2 phases:\n\n(A) Self-supervised training: First, we extract 3D Patches from all the ``n``\nvolumes and hold out the target volume to denoise. Each patch from the rest of\nthe ``(n-1)`` volumes predicts the center voxel of the corresponding patch in\nthe target volume.\n\nThis is done by using the self-supervised loss:\n\n\\begin{align}\\mathcal{L}\\left(\\Phi_{J}\\right)=\\mathbb{E}\\left\\|\\Phi_{J}\\\n     \\left(Y_{*, *,-j}\\right)-Y_{*, 0, j}\\right\\|^{2}\\end{align}\n\n(B) Prediction: The same 'n-1' volumes which were used in the training are now\nfed into the regressor $\\Phi$ built in phase (A). The prediction is a\ndenoised version of held-out volume.\n\nNote: The volume to be denoised is merely used as the target in the training\nphase. But is not used in the training set for (A) nor is used to predict the\ndenoised output in (B).\n\nLet's load the necessary modules:\n"
      ]
    },
    {
      "cell_type": "code",
      "execution_count": null,
      "metadata": {
        "collapsed": false
      },
      "outputs": [],
      "source": [
        "import matplotlib.pyplot as plt\nimport numpy as np\n\nfrom dipy.data import get_fnames\nfrom dipy.denoise.patch2self import patch2self\nfrom dipy.io.image import load_nifti, save_nifti"
      ]
    },
    {
      "cell_type": "markdown",
      "metadata": {},
      "source": [
        "Now let's load an example dataset and denoise it with Patch2Self. Patch2Self\ndoes not require noise estimation and should work with any kind of diffusion\ndata.\n\n"
      ]
    },
    {
      "cell_type": "code",
      "execution_count": null,
      "metadata": {
        "collapsed": false
      },
      "outputs": [],
      "source": [
        "hardi_fname, hardi_bval_fname, hardi_bvec_fname = get_fnames(name=\"stanford_hardi\")\ndata, affine = load_nifti(hardi_fname)\nbvals = np.loadtxt(hardi_bval_fname)\ndenoised_arr = patch2self(\n    data,\n    bvals,\n    model=\"ols\",\n    shift_intensity=True,\n    clip_negative_vals=False,\n    b0_threshold=50,\n)"
      ]
    },
    {
      "cell_type": "markdown",
      "metadata": {},
      "source": [
        "The above parameters should give optimal denoising performance for\nPatch2Self. The ordinary least squares regression ``(model='ols')`` tends to\nbe a little slower depending on the size of the data. In that case, please\nconsider switching to ridge regression ``(model='ridge')``.\n\nPlease do note that sometimes using ridge regression can hamper the\nperformance of Patch2Self. If so, please use ``model='ols'``.\n\nThe array ``denoised_arr`` contains the denoised output obtained from\nPatch2Self.\n\n<div class=\"alert alert-info\"><h4>Note</h4><p>Depending on the acquisition, b0 may exhibit signal attenuation or\n   other artefacts that are not ideal for any denoising algorithm. We\n   therefore provide an option to skip denoising b0 volumes in the data.\n   This can be done by using the option `b0_denoising=False` within\n   Patch2Self.\n\n   Please set ``shift_intensity=True`` and ``clip_negative_vals=False`` by\n   default to avoid negative values in the denoised output.\n\n   The ``b0_threshold`` is used to separate the b0 volumes from the DWI\n   volumes. Changing the value of the b0 threshold is needed if the b0 volumes\n   in the ``bval`` file have a value greater than the default\n   ``b0_threshold``.\n\n   The default value of ``b0_threshold`` in DIPY is set to 50. If using data\n   such as HCP 7T, the b0 volumes tend to have a higher b-value (>=50)\n   associated with them in the `bval` file. Please check the b-values for b0s\n   and adjust the ``b0_threshold``` accordingly.</p></div>\n\nNow let's visualize the output and the residuals obtained from the denoising.\n\n"
      ]
    },
    {
      "cell_type": "code",
      "execution_count": null,
      "metadata": {
        "collapsed": false
      },
      "outputs": [],
      "source": [
        "# Gets the center slice and the middle volume of the 4D diffusion data.\nsli = data.shape[2] // 2\ngra = 60  # pick out a random volume for a particular gradient direction\n\norig = data[:, :, sli, gra]\nden = denoised_arr[:, :, sli, gra]\n\n# computes the residuals\nrms_diff = np.sqrt((orig - den) ** 2)\n\nfig1, ax = plt.subplots(1, 3, figsize=(12, 6), subplot_kw={\"xticks\": [], \"yticks\": []})\n\nfig1.subplots_adjust(hspace=0.3, wspace=0.05)\n\nax.flat[0].imshow(orig.T, cmap=\"gray\", interpolation=\"none\", origin=\"lower\")\nax.flat[0].set_title(\"Original\")\nax.flat[1].imshow(den.T, cmap=\"gray\", interpolation=\"none\", origin=\"lower\")\nax.flat[1].set_title(\"Denoised Output\")\nax.flat[2].imshow(rms_diff.T, cmap=\"gray\", interpolation=\"none\", origin=\"lower\")\nax.flat[2].set_title(\"Residuals\")\n\nfig1.savefig(\"denoised_patch2self.png\")"
      ]
    },
    {
      "cell_type": "markdown",
      "metadata": {},
      "source": [
        ".. rst-class:: centered small fst-italic fw-semibold\n\nPatch2Self preserved anatomical detail. This can be visually verified by\ninspecting the residuals obtained above. Since we do not see any structure in\nthe difference residuals, it is clear that it preserved the underlying signal\nstructure and got rid of the stochastic noise.\n\n\nBelow we show how the denoised data can be saved.\n\n"
      ]
    },
    {
      "cell_type": "code",
      "execution_count": null,
      "metadata": {
        "collapsed": false
      },
      "outputs": [],
      "source": [
        "save_nifti(\"denoised_patch2self.nii.gz\", denoised_arr, affine)"
      ]
    },
    {
      "cell_type": "markdown",
      "metadata": {},
      "source": [
        "You can also use Patch2Self version 1 to denoise the data by using version\nargument. The default version is set to 3. To use version 1, you can call\nPatch2Self as follows::\n\n   patch2self(data, bvals, version=1)\n\nLastly, one can also use Patch2Self in batches if the number of gradient\ndirections is very high (>=200 volumes). For instance, if the data has 300\nvolumes, one can split the data into 2 batches, (150 directions each) and\nstill get the same denoising performance. One can run Patch2Self\nusing::\n\n   denoised_batch1 = patch2self(data[..., :150], bvals[:150])\n   denoised_batch2 = patch2self(data[..., 150:], bvals[150:])\n\nAfter doing this, the 2 denoised batches can be merged as follows::\n\n   denoised_p2s = np.concatenate((denoised_batch1, denoised_batch2), axis=3)\n\nOne can also consider using the above batching approach to denoise each\nshell separately if working with multi-shell data.\n\n\n## References\n\n.. footbibliography::\n\n"
      ]
    },
    {
      "cell_type": "markdown",
      "metadata": {},
      "source": [
        ".. include:: ../../links_names.inc\n\n\n"
      ]
    }
  ],
  "metadata": {
    "kernelspec": {
      "display_name": "Python 3",
      "language": "python",
      "name": "python3"
    },
    "language_info": {
      "codemirror_mode": {
        "name": "ipython",
        "version": 3
      },
      "file_extension": ".py",
      "mimetype": "text/x-python",
      "name": "python",
      "nbconvert_exporter": "python",
      "pygments_lexer": "ipython3",
      "version": "3.10.13"
    }
  },
  "nbformat": 4,
  "nbformat_minor": 0
}