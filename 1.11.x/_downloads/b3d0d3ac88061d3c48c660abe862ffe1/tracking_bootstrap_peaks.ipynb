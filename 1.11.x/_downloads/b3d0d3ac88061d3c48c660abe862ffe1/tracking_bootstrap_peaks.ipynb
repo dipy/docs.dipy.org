{
  "cells": [
    {
      "cell_type": "markdown",
      "metadata": {},
      "source": [
        "\n# Bootstrap and Closest Peak Direction Getters Example\n\nThis example shows how choices in direction-getter impact fiber\ntracking results by demonstrating the bootstrap direction getter (a type of\nprobabilistic tracking, as described in :footcite:p:`Berman2008` and the closest\npeak direction getter (a type of deterministic tracking)\n:footcite:p:`Amirbekian2016`.\n\nThis example is an extension of the\n`sphx_glr_examples_built_quick_start_tracking_introduction_eudx.py`\nexample. Let's start by loading the necessary modules for executing this\ntutorial.\n"
      ]
    },
    {
      "cell_type": "code",
      "execution_count": null,
      "metadata": {
        "collapsed": false
      },
      "outputs": [],
      "source": [
        "from dipy.core.gradients import gradient_table\nfrom dipy.data import get_fnames, small_sphere\nfrom dipy.io.gradients import read_bvals_bvecs\nfrom dipy.io.image import load_nifti, load_nifti_data\nfrom dipy.io.stateful_tractogram import Space, StatefulTractogram\nfrom dipy.io.streamline import save_trk\nfrom dipy.reconst.csdeconv import ConstrainedSphericalDeconvModel, auto_response_ssst\nfrom dipy.reconst.shm import CsaOdfModel\nfrom dipy.tracking import utils\nfrom dipy.tracking.stopping_criterion import ThresholdStoppingCriterion\nfrom dipy.tracking.streamline import Streamlines\nfrom dipy.tracking.tracker import bootstrap_tracking, closestpeak_tracking\nfrom dipy.viz import actor, colormap, has_fury, window\n\n# Enables/disables interactive visualization\ninteractive = False\n\nhardi_fname, hardi_bval_fname, hardi_bvec_fname = get_fnames(name=\"stanford_hardi\")\nlabel_fname = get_fnames(name=\"stanford_labels\")\n\ndata, affine, hardi_img = load_nifti(hardi_fname, return_img=True)\nlabels = load_nifti_data(label_fname)\nbvals, bvecs = read_bvals_bvecs(hardi_bval_fname, hardi_bvec_fname)\ngtab = gradient_table(bvals, bvecs=bvecs)\n\n\nseed_mask = labels == 2\nwhite_matter = (labels == 1) | (labels == 2)\nseeds = utils.seeds_from_mask(seed_mask, affine, density=1)"
      ]
    },
    {
      "cell_type": "markdown",
      "metadata": {},
      "source": [
        "Next, we fit the CSD model.\n\n"
      ]
    },
    {
      "cell_type": "code",
      "execution_count": null,
      "metadata": {
        "collapsed": false
      },
      "outputs": [],
      "source": [
        "response, ratio = auto_response_ssst(gtab, data, roi_radii=10, fa_thr=0.7)\ncsd_model = ConstrainedSphericalDeconvModel(gtab, response, sh_order_max=6)\ncsd_fit = csd_model.fit(data, mask=white_matter)"
      ]
    },
    {
      "cell_type": "markdown",
      "metadata": {},
      "source": [
        "we use the CSA fit to calculate GFA, which will serve as our stopping\ncriterion.\n\n"
      ]
    },
    {
      "cell_type": "code",
      "execution_count": null,
      "metadata": {
        "collapsed": false
      },
      "outputs": [],
      "source": [
        "csa_model = CsaOdfModel(gtab, sh_order_max=6)\ngfa = csa_model.fit(data, mask=white_matter).gfa\nstopping_criterion = ThresholdStoppingCriterion(gfa, 0.25)"
      ]
    },
    {
      "cell_type": "markdown",
      "metadata": {},
      "source": [
        "Next, we need to set up our two direction getters\n\n\n## Example #1: Bootstrap direction getter with CSD Model\n\n"
      ]
    },
    {
      "cell_type": "code",
      "execution_count": null,
      "metadata": {
        "collapsed": false
      },
      "outputs": [],
      "source": [
        "boot_streamline_generator = bootstrap_tracking(\n    seeds,\n    stopping_criterion,\n    affine,\n    step_size=0.5,\n    data=data,\n    model=csd_model,\n    max_angle=30.0,\n    sphere=small_sphere,\n)\nstreamlines = Streamlines(boot_streamline_generator)\nsft = StatefulTractogram(streamlines, hardi_img, Space.RASMM)\nsave_trk(sft, \"tractogram_bootstrap_dg.trk\")\n\nif has_fury:\n    scene = window.Scene()\n    scene.add(actor.line(streamlines, colors=colormap.line_colors(streamlines)))\n    window.record(scene=scene, out_path=\"tractogram_bootstrap_dg.png\", size=(800, 800))\n    if interactive:\n        window.show(scene)"
      ]
    },
    {
      "cell_type": "markdown",
      "metadata": {},
      "source": [
        ".. rst-class:: centered small fst-italic fw-semibold\n\nCorpus Callosum Bootstrap Probabilistic Direction Getter\n\n\nWe have created a bootstrapped probabilistic set of streamlines. If you\nrepeat the fiber tracking (keeping all inputs the same) you will NOT get\nexactly the same set of streamlines.\n\n\n\n## Example #2: Closest peak direction getter with CSD Model\n\n"
      ]
    },
    {
      "cell_type": "code",
      "execution_count": null,
      "metadata": {
        "collapsed": false
      },
      "outputs": [],
      "source": [
        "pmf = csd_fit.odf(small_sphere).clip(min=0)\npeak_streamline_generator = closestpeak_tracking(\n    seeds,\n    stopping_criterion,\n    affine,\n    step_size=0.5,\n    sf=pmf,\n    max_angle=30.0,\n    sphere=small_sphere,\n)\nstreamlines = Streamlines(peak_streamline_generator)\nsft = StatefulTractogram(streamlines, hardi_img, Space.RASMM)\nsave_trk(sft, \"closest_peak_dg_CSD.trk\")\n\nif has_fury:\n    scene = window.Scene()\n    scene.add(actor.line(streamlines, colors=colormap.line_colors(streamlines)))\n    window.record(\n        scene=scene, out_path=\"tractogram_closest_peak_dg.png\", size=(800, 800)\n    )\n    if interactive:\n        window.show(scene)"
      ]
    },
    {
      "cell_type": "markdown",
      "metadata": {},
      "source": [
        ".. rst-class:: centered small fst-italic fw-semibold\n\nCorpus Callosum Closest Peak Deterministic Direction Getter\n\n\nWe have created a set of streamlines using the closest peak direction getter,\nwhich is a type of deterministic tracking. If you repeat the fiber tracking\n(keeping all inputs the same) you will get exactly the same set of\nstreamlines.\n\n\n\n### References\n\n.. footbibliography::\n\n\n"
      ]
    },
    {
      "cell_type": "markdown",
      "metadata": {},
      "source": [
        ".. include:: ../../links_names.inc\n\n\n"
      ]
    }
  ],
  "metadata": {
    "kernelspec": {
      "display_name": "Python 3",
      "language": "python",
      "name": "python3"
    },
    "language_info": {
      "codemirror_mode": {
        "name": "ipython",
        "version": 3
      },
      "file_extension": ".py",
      "mimetype": "text/x-python",
      "name": "python",
      "nbconvert_exporter": "python",
      "pygments_lexer": "ipython3",
      "version": "3.10.13"
    }
  },
  "nbformat": 4,
  "nbformat_minor": 0
}