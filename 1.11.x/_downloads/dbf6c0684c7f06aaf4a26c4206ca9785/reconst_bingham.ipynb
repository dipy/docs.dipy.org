{
  "cells": [
    {
      "cell_type": "markdown",
      "metadata": {},
      "source": [
        "\n# Reconstruction of Bingham Functions from ODFs\n\nThis example shows how to reconstruct Bingham functions from orientation\ndistribution functions (ODFs). Reconstructed Bingham functions can be\nuseful to quantify properties from ODFs such as fiber dispersion\n:footcite:p:`Riffert2014`, :footcite:p:`NetoHenriques2018`.\n\nTo begin, let us import the relevant functions and load data consisting\nof 10 b0s and 150 non-b0s with a b-value of 2000s/mm2.\n"
      ]
    },
    {
      "cell_type": "code",
      "execution_count": null,
      "metadata": {
        "collapsed": false
      },
      "outputs": [],
      "source": [
        "from dipy.core.gradients import gradient_table\nfrom dipy.core.sphere import unit_icosahedron\nfrom dipy.data import get_fnames\nfrom dipy.io.gradients import read_bvals_bvecs\nfrom dipy.io.image import load_nifti\nfrom dipy.reconst.bingham import sf_to_bingham, sh_to_bingham\nfrom dipy.reconst.csdeconv import ConstrainedSphericalDeconvModel, auto_response_ssst\nfrom dipy.viz import actor, window\nfrom dipy.viz.plotting import image_mosaic\n\nhardi_fname, hardi_bval_fname, hardi_bvec_fname = get_fnames(name=\"stanford_hardi\")\ndata, affine = load_nifti(hardi_fname)\n\nbvals, bvecs = read_bvals_bvecs(hardi_bval_fname, hardi_bvec_fname)\ngtab = gradient_table(bvals, bvecs=bvecs)"
      ]
    },
    {
      "cell_type": "markdown",
      "metadata": {},
      "source": [
        "To properly fit Bingham functions, we recommend the use of a larger number of\ndirections to sample the ODFs. For this, we load a `sphere` object with 12\nvertices sampling a 3D sphere (the icosahedron). We further subdivide the\nfaces of this `sphere` representation five times, to get 10242 directions.\n\n"
      ]
    },
    {
      "cell_type": "code",
      "execution_count": null,
      "metadata": {
        "collapsed": false
      },
      "outputs": [],
      "source": [
        "sphere = unit_icosahedron.subdivide(n=5)\n\nnd = sphere.vertices.shape[0]\nprint(\"The number of directions on the sphere is {}\".format(nd))"
      ]
    },
    {
      "cell_type": "markdown",
      "metadata": {},
      "source": [
        "## Step 1. ODF estimation\n\nBefore fitting Bingham functions, we must reconstruct ODFs. In this example,\nfiber ODFs (fODFs) will be reconstructed using the Constrained Spherical\nDeconvolution (CSD) method :footcite:p:`Tournier2007`. For simplicity, we\nwill refer to fODFs as ODFs.\nIn the main tutorial of CSD (see\n`sphx_glr_examples_built_reconstruction_reconst_csd.py`), several\nstrategies to define the fiber response function are discussed. Here, for\nthe sake of simplicity, we will use the response function estimates from a\nlocal brain region:\n\n"
      ]
    },
    {
      "cell_type": "code",
      "execution_count": null,
      "metadata": {
        "collapsed": false
      },
      "outputs": [],
      "source": [
        "response, ratio = auto_response_ssst(gtab, data, roi_radii=10, fa_thr=0.7)\n\n# Let us now compute the ODFs using this response function:\n\ncsd_model = ConstrainedSphericalDeconvModel(gtab, response, sh_order_max=8)"
      ]
    },
    {
      "cell_type": "markdown",
      "metadata": {},
      "source": [
        "For efficiency, we will only fit a small part of the data.\n\n"
      ]
    },
    {
      "cell_type": "code",
      "execution_count": null,
      "metadata": {
        "collapsed": false
      },
      "outputs": [],
      "source": [
        "data_small = data[20:50, 55:85, 38:39]\ncsd_fit = csd_model.fit(data_small)"
      ]
    },
    {
      "cell_type": "markdown",
      "metadata": {},
      "source": [
        "Let us visualize the ODFs\n\n"
      ]
    },
    {
      "cell_type": "code",
      "execution_count": null,
      "metadata": {
        "collapsed": false
      },
      "outputs": [],
      "source": [
        "csd_odf = csd_fit.odf(sphere)\n\ninteractive = False\n\nscene = window.Scene()\n\nfodf_spheres = actor.odf_slicer(\n    csd_odf, sphere=sphere, scale=0.9, norm=False, colormap=\"plasma\"\n)\nscene.add(fodf_spheres)\n\nprint(\"Saving the illustration as csd_odfs.png\")\nwindow.record(scene, out_path=\"csd_odfs.png\", size=(600, 600))\nif interactive:\n    window.show(scene)"
      ]
    },
    {
      "cell_type": "markdown",
      "metadata": {},
      "source": [
        ".. rst-class:: centered small fst-italic fw-semibold\n\nFiber ODFs (fODFs) reconstructed using Constrained Spherical\nDeconvolution (CSD). For simplicity, we will refer to them just as ODFs.\n\n\n## Step 2. Bingham fitting and Metrics\nNow that we have some ODFs, let us fit the Bingham functions to them by using\nthe function `sf_to_bingham`:\n\n"
      ]
    },
    {
      "cell_type": "code",
      "execution_count": null,
      "metadata": {
        "collapsed": false
      },
      "outputs": [],
      "source": [
        "# A maximum search angle of 45 degrees is chosen arbitrarily for fitting\n# each ODF lobe.\nmax_search_angle = 45\nBinghamMetrics = sf_to_bingham(csd_odf, sphere, max_search_angle)"
      ]
    },
    {
      "cell_type": "markdown",
      "metadata": {},
      "source": [
        "The above function outputs a `BinghamMetrics` class instance, containing the\nparameters of the fitted Bingham functions. The metrics of interest contained\nin the `BinghamMetrics` class instance are:\n\n- amplitude_lobe (the maximum value for each lobe. Also known as Bingham's\n      f_0 parameter.)\n- fd_lobe (fiber densitiy: as defined in :footcite:p:`Riffert2014`,\n      one for each peak.)\n- fs_lobe (fiber spread: as defined in :footcite:p:`Riffert2014`,\n      one for each peak.)\n- fd_voxel (voxel fiber density: average of fd across all ODF lobes.)\n- fs_voxel (voxel fiber spread: average of fs across all ODF lobes.)\n- odi1_lobe (orientation dispersion index along Bingham's first dispersion\n      axis, one for each lobe. Defined in :footcite:p:`NetoHenriques2018`\n      and :footcite:p:`Zhang2012`.)\n- odi2_lobe (orientation dispersion index along Bingham's second dispersion\n      axis, one for each lobe.)\n- odi_total_lobe (orientation dispersion index averaged across both Binghams'\n      dispersion axes. Defined in :footcite:p:`Tariq2016`.)\n- odi1_voxel (orientation dispersion index along Bingham's first dispersion\n      axis, averaged across all lobes)\n- odi2_voxel (orientation dispersion index along Bingham's second dispersion\n      axis, averaged across all lobes)\n- odi_total_voxel (orientation dispersion index averaged across both\n      Binghams' axes, averaged across all lobes)\n- peak_dirs (peak directions in Cartesian coordinates given by the Bingham\n      fitting, also known as parameter mu_0. These directions are slightly\n      different than the peak directions given by the function\n      `peaks_from_model`.)\n\nFor illustration purposes, the fitted Bingham derived metrics can be\nvisualized using the following lines of code:\n\n"
      ]
    },
    {
      "cell_type": "code",
      "execution_count": null,
      "metadata": {
        "collapsed": false
      },
      "outputs": [],
      "source": [
        "bim_odf = BinghamMetrics.odf(sphere)\n\nscene.rm(fodf_spheres)\n\nfodf_spheres = actor.odf_slicer(\n    bim_odf, sphere=sphere, scale=0.9, norm=False, colormap=\"plasma\"\n)\nscene.add(fodf_spheres)\n\nprint(\"Saving the illustration as Bingham_odfs.png\")\nwindow.record(scene, out_path=\"Bingham_odfs.png\", size=(600, 600))\nif interactive:\n    window.show(scene)"
      ]
    },
    {
      "cell_type": "markdown",
      "metadata": {},
      "source": [
        ".. rst-class:: centered small fst-italic fw-semibold\n\nBingham functions fitted to CSD fiber ODFs.\n\nAlternatively to fitting Bingham functions to sampled ODFs, DIPY also\ncontains the function `sh_to_bingham` to perform Bingham fitting from the\nODF's spherical harmonic representation. Although this process may require\nlonger processing times, this function may be useful to avoid memory issues\nin handling heavily sampled ODFs. For example, you may have reconstructed\nODFs using another script and saved their spherical harmonics to disk.\nThis function is for such cases. Below we show the lines of code to use the\nfunction `sh_to_bingham` (feel free to skip these lines if the function\n`sf_to_bingham` worked fine for you). Note, to use `sh_to_bingham` you\nneed to specify the maximum order of spherical harmonics that you defined\nwhen reconstructing the ODF. In this example this was set to 8 for\nthe function `csd_model`:\n\n"
      ]
    },
    {
      "cell_type": "code",
      "execution_count": null,
      "metadata": {
        "collapsed": false
      },
      "outputs": [],
      "source": [
        "sh_coeff = csd_fit.shm_coeff\nBinghamMetrics = sh_to_bingham(sh_coeff, sphere, max_search_angle)"
      ]
    },
    {
      "cell_type": "markdown",
      "metadata": {},
      "source": [
        "## Step 3. Bingham Metrics\nAs mentioned above, reconstructed Bingham functions can be useful to\nquantify properties from ODFs :footcite:p:`Riffert2014`,\n:footcite:p:`NetoHenriques2018`. Below we plot the Bingham metrics\nexpected to be proportional to the fiber density (FD) of specific fiber\npopulations.\n\n"
      ]
    },
    {
      "cell_type": "code",
      "execution_count": null,
      "metadata": {
        "collapsed": false
      },
      "outputs": [],
      "source": [
        "FD_ODF_l1 = BinghamMetrics.fd_lobe[:, :, 0, 0]\nFD_ODF_l2 = BinghamMetrics.fd_lobe[:, :, 0, 1]\nFD_voxel = BinghamMetrics.fd_voxel[:, :, 0]\n\nFD_images = [FD_ODF_l1[:, -1:1:-1].T, FD_ODF_l2[:, -1:1:-1].T, FD_voxel[:, -1:1:-1].T]\nFD_labels = [\"FD ODF lobe 1\", \"FD ODF lobe 2\", \"FD ODF voxel\"]\nkwargs = [{\"vmin\": 0, \"vmax\": 2}, {\"vmin\": 0, \"vmax\": 2}, {\"vmin\": 0, \"vmax\": 2}]\n\nprint(\"Saving the illustration as Bingham_fd.png\")\nimage_mosaic(\n    FD_images,\n    ax_labels=FD_labels,\n    ax_kwargs=kwargs,\n    figsize=(16, 4),\n    filename=\"Bingham_fd.png\",\n)"
      ]
    },
    {
      "cell_type": "markdown",
      "metadata": {},
      "source": [
        ".. rst-class:: centered small fst-italic fw-semibold\n\nThe figure shows from left to right: 1) the FD estimated for the\nfirst ODF peak (showing larger values in white matter); 2) the FD estimated\nfor the second ODF peak (showing non-zero values in regions of crossing\nwhite matter fibers); and 3) the sum of FD estimates across all ODF lobes\n(quantity that should be proportional to the density of all fibers within\neach voxel).\n\nBingham functions can also be used to quantify fiber dispersion from the\nODFs :footcite:p:`NetoHenriques2018`. In addition to quantifying a combined\norientation dispersion index (`ODI_total`) for each ODF lobe\n:footcite:p:`Tariq2016`, Bingham functions allow  the quantification of\ndispersion along two main axes (`ODI_1` and `ODI_2`), offering unique\ninformation of fiber orientation variability within the brain tissue. Below\nwe show how to extract these indexes from the largest ODF peak. Note, for\nbetter visualization of ODI estimates, voxels with total FD lower than 0.5\nare masked.\n\n"
      ]
    },
    {
      "cell_type": "code",
      "execution_count": null,
      "metadata": {
        "collapsed": false
      },
      "outputs": [],
      "source": [
        "ODIt = BinghamMetrics.odi_total_lobe[:, :, 0, 0]\nODI1 = BinghamMetrics.odi1_lobe[:, :, 0, 0]\nODI2 = BinghamMetrics.odi2_lobe[:, :, 0, 0]\n\nODIt[FD_voxel < 0.5] = 0\nODI1[FD_voxel < 0.5] = 0\nODI2[FD_voxel < 0.5] = 0\n\nODI_images = [ODI1[:, -1:1:-1].T, ODI2[:, -1:1:-1].T, ODIt[:, -1:1:-1].T]\nODI_labels = [\"ODI_1 (lobe 1)\", \"ODI_2 (lobe 1)\", \"ODI_total (lobe 1)\"]\nkwargs = [{\"vmin\": 0, \"vmax\": 0.2}, {\"vmin\": 0, \"vmax\": 0.2}, {\"vmin\": 0, \"vmax\": 0.2}]\nprint(\"Saving the illustration as Bingham_ODI_lobe1.png\")\nimage_mosaic(\n    ODI_images,\n    ax_labels=ODI_labels,\n    ax_kwargs=kwargs,\n    figsize=(15, 5),\n    filename=\"Bingham_ODI_lobe1.png\",\n)"
      ]
    },
    {
      "cell_type": "markdown",
      "metadata": {},
      "source": [
        ".. rst-class:: centered small fst-italic fw-semibold\n\nThe figure shows from left to right: 1) ODI of the largest ODF lobe along\nthe axis with greater dispersion, a.k.a. ODI_1 (direction in which fibers\nexhibit the most variability in orientation); 2) ODI of the largest ODF lobe\nalong the axis with lesser dispersion, a.k.a ODI_2 (directions in which\nfiber orientations are more uniform); and 3) total ODI of the largest lobe\nacross both axes.\n\nAbove, we focused on the largest ODF's lobe, representing the most pronounced\nfiber population within a voxel. However, this methodology is not limited to\na singular lobe since it can be applied to the other ODF lobes. Below, we\nshow the analogous figures for the second-largest ODF lobe. Note that for\nthis figure, regions of white matter that contain only a single fiber\npopulation display ODI estimates of zero, corresponding to ODF profiles\nlacking a second ODF lobe.\n\n"
      ]
    },
    {
      "cell_type": "code",
      "execution_count": null,
      "metadata": {
        "collapsed": false
      },
      "outputs": [],
      "source": [
        "ODIt = BinghamMetrics.odi_total_lobe[:, :, 0, 1]\nODI1 = BinghamMetrics.odi1_lobe[:, :, 0, 1]\nODI2 = BinghamMetrics.odi2_lobe[:, :, 0, 1]\n\nODIt[FD_voxel < 0.5] = 0\nODI1[FD_voxel < 0.5] = 0\nODI2[FD_voxel < 0.5] = 0\n\nODI_images = [ODI1[:, -1:1:-1].T, ODI2[:, -1:1:-1].T, ODIt[:, -1:1:-1].T]\nODI_labels = [\"ODI_1 (lobe 2)\", \"ODI_2 (lobe 2)\", \"ODI_voxel (lobe 2)\"]\nkwargs = [{\"vmin\": 0, \"vmax\": 0.2}, {\"vmin\": 0, \"vmax\": 0.2}, {\"vmin\": 0, \"vmax\": 0.2}]\nprint(\"Saving the illustration as Bingham_ODI_lobe2.png\")\nimage_mosaic(\n    ODI_images,\n    ax_labels=ODI_labels,\n    ax_kwargs=kwargs,\n    figsize=(15, 5),\n    filename=\"Bingham_ODI_lobe2.png\",\n)"
      ]
    },
    {
      "cell_type": "markdown",
      "metadata": {},
      "source": [
        ".. rst-class:: centered small fst-italic fw-semibold\n\nThe figure shows from left to right: 1) ODI for the second-largest ODF lobe\nalong the axis with greater dispersion a.k.a. ODI_1 (direction in which\nfibers exhibit the most variability in orientation); 2) ODI for the\nsecond-largest ODF lobe along the axis with lesser dispersion a.k.a. ODI_2\n(directions in which fiber orientations are more uniform); and 3) total ODI\nfor the second-largest ODF lobe across both axes. In this figure, regions of\nthe white matter that contain only a single fiber population (one ODF lobe)\ndisplay ODI estimates of zero, corresponding to ODF profiles lacking a\nsecond ODF lobe.\n\nBinghamMetrics can also be used to compute the average ODI quantities across\nall ODF lobes a.k.a. voxel ODI (see below). The average quantitaties are\ncomputed by weigthing each ODF lobe with their respective fiber density (FD)\nvalue. These quantities are plotted in the following figure.\n\n"
      ]
    },
    {
      "cell_type": "code",
      "execution_count": null,
      "metadata": {
        "collapsed": false
      },
      "outputs": [],
      "source": [
        "ODIt = BinghamMetrics.odi_total_voxel[:, :, 0]\nODI1 = BinghamMetrics.odi1_voxel[:, :, 0]\nODI2 = BinghamMetrics.odi2_voxel[:, :, 0]\n\nODIt[FD_voxel < 0.5] = 0\nODI1[FD_voxel < 0.5] = 0\nODI2[FD_voxel < 0.5] = 0\n\nODI_images = [ODI1[:, -1:1:-1].T, ODI2[:, -1:1:-1].T, ODIt[:, -1:1:-1].T]\nODI_labels = [\"ODI_1 (voxel)\", \"ODI_2 (voxel)\", \"ODI_total (voxel)\"]\nkwargs = [{\"vmin\": 0, \"vmax\": 0.2}, {\"vmin\": 0, \"vmax\": 0.2}, {\"vmin\": 0, \"vmax\": 0.2}]\nprint(\"Saving the illustration as Bingham_ODI.png\")\nimage_mosaic(\n    ODI_images,\n    ax_labels=ODI_labels,\n    ax_kwargs=kwargs,\n    figsize=(15, 5),\n    filename=\"Bingham_ODI_voxel.png\",\n)"
      ]
    },
    {
      "cell_type": "markdown",
      "metadata": {},
      "source": [
        ".. rst-class:: centered small fst-italic fw-semibold\n\nThe figure shows from left to right: 1) weighted-averaged ODI_1 across all ODF\nlobes; 2) weighted-averaged ODI_2 across all ODF lobe; 3) weighted-averaged\nODI_total across all ODF lobes.\n\n### References\n\n.. footbibliography::\n\n\n"
      ]
    },
    {
      "cell_type": "markdown",
      "metadata": {},
      "source": [
        ".. include:: ../../links_names.inc\n\n\n"
      ]
    }
  ],
  "metadata": {
    "kernelspec": {
      "display_name": "Python 3",
      "language": "python",
      "name": "python3"
    },
    "language_info": {
      "codemirror_mode": {
        "name": "ipython",
        "version": 3
      },
      "file_extension": ".py",
      "mimetype": "text/x-python",
      "name": "python",
      "nbconvert_exporter": "python",
      "pygments_lexer": "ipython3",
      "version": "3.10.13"
    }
  },
  "nbformat": 4,
  "nbformat_minor": 0
}