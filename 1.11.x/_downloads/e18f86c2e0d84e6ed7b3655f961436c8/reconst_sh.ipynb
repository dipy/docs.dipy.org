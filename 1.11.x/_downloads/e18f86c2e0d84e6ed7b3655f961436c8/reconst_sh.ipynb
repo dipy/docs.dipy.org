{
  "cells": [
    {
      "cell_type": "markdown",
      "metadata": {},
      "source": [
        "\n# Signal Reconstruction Using Spherical Harmonics\n\nThis example shows how you can use a spherical harmonics (SH) function to\nreconstruct any spherical function using DIPY_. In order to generate a\nsignal, we will need to generate an evenly distributed sphere.\n\nLet's import some standard packages.\n"
      ]
    },
    {
      "cell_type": "code",
      "execution_count": null,
      "metadata": {
        "collapsed": false
      },
      "outputs": [],
      "source": [
        "import numpy as np\n\nfrom dipy.core.sphere import HemiSphere, Sphere, disperse_charges\nfrom dipy.data import get_sphere\nfrom dipy.reconst.shm import sf_to_sh, sh_to_sf\nfrom dipy.sims.voxel import multi_tensor_odf\nfrom dipy.viz import actor, window"
      ]
    },
    {
      "cell_type": "markdown",
      "metadata": {},
      "source": [
        "We can first create some random points on a ``HemiSphere`` using spherical\npolar coordinates.\n\n"
      ]
    },
    {
      "cell_type": "code",
      "execution_count": null,
      "metadata": {
        "collapsed": false
      },
      "outputs": [],
      "source": [
        "rng = np.random.default_rng()\nn_pts = 64\ntheta = np.pi * rng.random(n_pts)\nphi = 2 * np.pi * rng.random(n_pts)\nhsph_initial = HemiSphere(theta=theta, phi=phi)"
      ]
    },
    {
      "cell_type": "markdown",
      "metadata": {},
      "source": [
        "Next, we call ``disperse_charges`` which will iteratively move the points so\nthat the electrostatic potential energy is minimized. In ``hsph_updated`` we\nhave the updated ``HemiSphere`` with the points nicely distributed on the\nhemisphere.\n\n"
      ]
    },
    {
      "cell_type": "code",
      "execution_count": null,
      "metadata": {
        "collapsed": false
      },
      "outputs": [],
      "source": [
        "hsph_updated, potential = disperse_charges(hsph_initial, 5000)\nsphere = Sphere(xyz=np.vstack((hsph_updated.vertices, -hsph_updated.vertices)))"
      ]
    },
    {
      "cell_type": "markdown",
      "metadata": {},
      "source": [
        "We now need to create our initial signal. To do so, we will use our sphere's\nvertices as the sampled points of our spherical function (SF). We will\nuse ``multi_tensor_odf`` to simulate an ODF. For more information on how to\nuse DIPY_ to simulate a signal and ODF, see\n`sphx_glr_examples_built_simulations_simulate_multi_tensor.py`.\n\n"
      ]
    },
    {
      "cell_type": "code",
      "execution_count": null,
      "metadata": {
        "collapsed": false
      },
      "outputs": [],
      "source": [
        "mevals = np.array([[0.0015, 0.00015, 0.00015], [0.0015, 0.00015, 0.00015]])\nangles = [(0, 0), (60, 0)]\nodf = multi_tensor_odf(sphere.vertices, mevals, angles, [50, 50])\n\n# Enables/disables interactive visualization\ninteractive = False\n\nscene = window.Scene()\nscene.SetBackground(1, 1, 1)\n\nodf_actor = actor.odf_slicer(odf[None, None, None, :], sphere=sphere)\nodf_actor.RotateX(90)\nscene.add(odf_actor)\n\nprint(\"Saving illustration as symm_signal.png\")\nwindow.record(scene=scene, out_path=\"symm_signal.png\", size=(300, 300))\nif interactive:\n    window.show(scene)"
      ]
    },
    {
      "cell_type": "markdown",
      "metadata": {},
      "source": [
        ".. rst-class:: centered small fst-italic fw-semibold\n\nIllustration of the simulated signal sampled on a sphere of 64 points\nper hemisphere\n\n\nWe can now express this signal as a series of SH coefficients using\n``sf_to_sh``. This function converts a series of SF coefficients in a series\nof SH coefficients. For more information on SH basis, see `sh-basis`.\nFor this example, we will use the ``descoteaux07`` basis up to a maximum SH\norder of 8.\n\n"
      ]
    },
    {
      "cell_type": "code",
      "execution_count": null,
      "metadata": {
        "collapsed": false
      },
      "outputs": [],
      "source": [
        "# Change this value to try out other bases\nsh_basis = \"descoteaux07\"\n# Change this value to try other maximum orders\nsh_order_max = 8\n\nsh_coeffs = sf_to_sh(odf, sphere, sh_order_max=sh_order_max, basis_type=sh_basis)"
      ]
    },
    {
      "cell_type": "markdown",
      "metadata": {},
      "source": [
        "``sh_coeffs`` is an array containing the SH coefficients multiplying the SH\nfunctions of the chosen basis. We can use it as input of ``sh_to_sf`` to\nreconstruct our original signal. We will now reproject our signal on a high\nresolution sphere using ``sh_to_sf``.\n\n"
      ]
    },
    {
      "cell_type": "code",
      "execution_count": null,
      "metadata": {
        "collapsed": false
      },
      "outputs": [],
      "source": [
        "high_res_sph = get_sphere(name=\"symmetric724\").subdivide(n=2)\nreconst = sh_to_sf(\n    sh_coeffs, high_res_sph, sh_order_max=sh_order_max, basis_type=sh_basis\n)\n\nscene.clear()\nodf_actor = actor.odf_slicer(reconst[None, None, None, :], sphere=high_res_sph)\nodf_actor.RotateX(90)\nscene.add(odf_actor)\n\nprint(\"Saving output as symm_reconst.png\")\nwindow.record(scene=scene, out_path=\"symm_reconst.png\", size=(300, 300))\nif interactive:\n    window.show(scene)"
      ]
    },
    {
      "cell_type": "markdown",
      "metadata": {},
      "source": [
        ".. rst-class:: centered small fst-italic fw-semibold\n\nReconstruction of a symmetric signal on a high resolution sphere using a\nsymmetric basis\n\n\nWhile a symmetric SH basis works well for reconstructing symmetric SF, it\nfails to do so on asymmetric signals. We will now create such a signal by\nusing a different ODF for each hemisphere of our sphere.\n\n"
      ]
    },
    {
      "cell_type": "code",
      "execution_count": null,
      "metadata": {
        "collapsed": false
      },
      "outputs": [],
      "source": [
        "mevals = np.array([[0.0015, 0.0003, 0.0003]])\nangles = [(0, 0)]\nodf2 = multi_tensor_odf(sphere.vertices, mevals, angles, [100])\n\nn_pts_hemisphere = int(sphere.vertices.shape[0] / 2)\nasym_odf = np.append(odf[:n_pts_hemisphere], odf2[n_pts_hemisphere:])\n\nscene.clear()\nodf_actor = actor.odf_slicer(asym_odf[None, None, None, :], sphere=sphere)\nodf_actor.RotateX(90)\nscene.add(odf_actor)\n\nprint(\"Saving output as asym_signal.png\")\nwindow.record(scene=scene, out_path=\"asym_signal.png\", size=(300, 300))\nif interactive:\n    window.show(scene)"
      ]
    },
    {
      "cell_type": "markdown",
      "metadata": {},
      "source": [
        ".. rst-class:: centered small fst-italic fw-semibold\n\nIllustration of an asymmetric signal sampled on a sphere of 64\npoints per hemisphere\n\n\nLet's try to reconstruct this SF using a symmetric SH basis.\n\n"
      ]
    },
    {
      "cell_type": "code",
      "execution_count": null,
      "metadata": {
        "collapsed": false
      },
      "outputs": [],
      "source": [
        "sh_coeffs = sf_to_sh(asym_odf, sphere, sh_order_max=sh_order_max, basis_type=sh_basis)\nreconst = sh_to_sf(\n    sh_coeffs, high_res_sph, sh_order_max=sh_order_max, basis_type=sh_basis\n)\n\nscene.clear()\nodf_actor = actor.odf_slicer(reconst[None, None, None, :], sphere=high_res_sph)\nodf_actor.RotateX(90)\nscene.add(odf_actor)\n\nprint(\"Saving output as asym_reconst.png\")\nwindow.record(scene=scene, out_path=\"asym_reconst.png\", size=(300, 300))\nif interactive:\n    window.show(scene)"
      ]
    },
    {
      "cell_type": "markdown",
      "metadata": {},
      "source": [
        ".. rst-class:: centered small fst-italic fw-semibold\n\nReconstruction of an asymmetric signal using a symmetric SH basis\n\n\nAs we can see, a symmetric basis fails to properly represent asymmetric SF.\nFortunately, DIPY_ also implements full SH bases, which can deal with\nsymmetric as well as asymmetric signals. For this tutorial, we will\ndemonstrate it using the ``descoteaux07`` full SH basis by setting\n``full_basis=true``.\n\n"
      ]
    },
    {
      "cell_type": "code",
      "execution_count": null,
      "metadata": {
        "collapsed": false
      },
      "outputs": [],
      "source": [
        "sh_coeffs = sf_to_sh(\n    asym_odf, sphere, sh_order_max=sh_order_max, basis_type=sh_basis, full_basis=True\n)\nreconst = sh_to_sf(\n    sh_coeffs,\n    high_res_sph,\n    sh_order_max=sh_order_max,\n    basis_type=sh_basis,\n    full_basis=True,\n)\n\nscene.clear()\nodf_actor = actor.odf_slicer(reconst[None, None, None, :], sphere=high_res_sph)\nodf_actor.RotateX(90)\nscene.add(odf_actor)\n\nprint(\"Saving output as asym_reconst_full.png\")\nwindow.record(scene=scene, out_path=\"asym_reconst_full.png\", size=(300, 300))\nif interactive:\n    window.show(scene)"
      ]
    },
    {
      "cell_type": "markdown",
      "metadata": {},
      "source": [
        ".. rst-class:: centered small fst-italic fw-semibold\n\nReconstruction of an asymmetric signal using a full SH basis\n\n\nAs we can see, a full SH basis properly reconstruct asymmetric signal.\n\n"
      ]
    },
    {
      "cell_type": "markdown",
      "metadata": {},
      "source": [
        ".. include:: ../../links_names.inc\n\n\n"
      ]
    }
  ],
  "metadata": {
    "kernelspec": {
      "display_name": "Python 3",
      "language": "python",
      "name": "python3"
    },
    "language_info": {
      "codemirror_mode": {
        "name": "ipython",
        "version": 3
      },
      "file_extension": ".py",
      "mimetype": "text/x-python",
      "name": "python",
      "nbconvert_exporter": "python",
      "pygments_lexer": "ipython3",
      "version": "3.10.13"
    }
  },
  "nbformat": 4,
  "nbformat_minor": 0
}