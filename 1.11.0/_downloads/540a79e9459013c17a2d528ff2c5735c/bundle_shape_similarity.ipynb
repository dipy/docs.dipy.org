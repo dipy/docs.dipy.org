{
  "cells": [
    {
      "cell_type": "markdown",
      "metadata": {},
      "source": [
        "\n# BUAN Bundle Shape Similarity Score\n\nThis example explains how we can use BUAN :footcite:p:`Chandio2020a` to calculate\nshape similarity between two given bundles. Where, shape similarity score of 1\nmeans two bundles are extremely close in shape and 0 implies no shape similarity\nwhatsoever.\n\nShape similarity score can be used to compare populations or individuals.\nIt can also serve as a quality assurance metric, to validate streamline\nregistration quality, bundle extraction quality by calculating output with a\nreference bundle or other issues with pre-processing by calculating shape\ndissimilarity with a reference bundle.\n\nFirst import the necessary modules.\n"
      ]
    },
    {
      "cell_type": "code",
      "execution_count": null,
      "metadata": {
        "collapsed": false
      },
      "outputs": [],
      "source": [
        "import numpy as np\n\nfrom dipy.data import two_cingulum_bundles\nfrom dipy.segment.bundles import (\n    bundle_shape_similarity,\n    select_random_set_of_streamlines,\n)\nfrom dipy.viz import actor, window"
      ]
    },
    {
      "cell_type": "markdown",
      "metadata": {},
      "source": [
        "To show the concept we will use two pre-saved cingulum bundle.\nLet's start by fetching the data.\n\n"
      ]
    },
    {
      "cell_type": "code",
      "execution_count": null,
      "metadata": {
        "collapsed": false
      },
      "outputs": [],
      "source": [
        "cb_subj1, _ = two_cingulum_bundles()"
      ]
    },
    {
      "cell_type": "markdown",
      "metadata": {},
      "source": [
        "Let's create two streamline sets (bundles) from same bundle cb_subj1 by\nrandomly selecting 60 streamlines two times.\n\n"
      ]
    },
    {
      "cell_type": "code",
      "execution_count": null,
      "metadata": {
        "collapsed": false
      },
      "outputs": [],
      "source": [
        "rng = np.random.default_rng()\nbundle1 = select_random_set_of_streamlines(cb_subj1, 60, rng=None)\nbundle2 = select_random_set_of_streamlines(cb_subj1, 60, rng=None)"
      ]
    },
    {
      "cell_type": "markdown",
      "metadata": {},
      "source": [
        "Now, let's visualize two bundles.\n\n"
      ]
    },
    {
      "cell_type": "code",
      "execution_count": null,
      "metadata": {
        "collapsed": false
      },
      "outputs": [],
      "source": [
        "def show_both_bundles(bundles, colors=None, show=True, fname=None):\n    scene = window.Scene()\n    scene.SetBackground(1.0, 1, 1)\n    for i, bundle in enumerate(bundles):\n        color = colors[i]\n        streamtube_actor = actor.streamtube(bundle, colors=color, linewidth=0.3)\n        streamtube_actor.RotateX(-90)\n        streamtube_actor.RotateZ(90)\n        scene.add(streamtube_actor)\n    if show:\n        window.show(scene)\n    if fname is not None:\n        window.record(scene=scene, n_frames=1, out_path=fname, size=(900, 900))\n\n\nshow_both_bundles(\n    [bundle1, bundle2],\n    colors=[(1, 0, 0), (0, 1, 0)],\n    show=False,\n    fname=\"two_bundles.png\",\n)"
      ]
    },
    {
      "cell_type": "markdown",
      "metadata": {},
      "source": [
        ".. rst-class:: centered small fst-italic fw-semibold\n\nTwo Cingulum Bundles.\n\n\n\nCalculate shape similarity score between two bundles.\n0 cluster_thr because we want to use all streamlines and not the centroids of\nclusters.\n\n"
      ]
    },
    {
      "cell_type": "code",
      "execution_count": null,
      "metadata": {
        "collapsed": false
      },
      "outputs": [],
      "source": [
        "clust_thr = [0]"
      ]
    },
    {
      "cell_type": "markdown",
      "metadata": {},
      "source": [
        "Threshold indicates how strictly we want two bundles to be similar in shape.\n\n"
      ]
    },
    {
      "cell_type": "code",
      "execution_count": null,
      "metadata": {
        "collapsed": false
      },
      "outputs": [],
      "source": [
        "threshold = 5\n\nba_score = bundle_shape_similarity(\n    bundle1, bundle2, rng, clust_thr=clust_thr, threshold=threshold\n)\nprint(\"Shape similarity score = \", ba_score)"
      ]
    },
    {
      "cell_type": "markdown",
      "metadata": {},
      "source": [
        "Let's change the value of threshold to 10.\n\n"
      ]
    },
    {
      "cell_type": "code",
      "execution_count": null,
      "metadata": {
        "collapsed": false
      },
      "outputs": [],
      "source": [
        "threshold = 10\n\nba_score = bundle_shape_similarity(\n    bundle1, bundle2, rng, clust_thr=clust_thr, threshold=threshold\n)\nprint(\"Shape similarity score = \", ba_score)"
      ]
    },
    {
      "cell_type": "markdown",
      "metadata": {},
      "source": [
        "Higher value of threshold gives us higher shape similarity score as it is\nmore lenient.\n\n\n\n## References\n\n.. footbibliography::\n\n\n"
      ]
    },
    {
      "cell_type": "markdown",
      "metadata": {},
      "source": [
        ".. include:: ../../links_names.inc\n\n\n"
      ]
    }
  ],
  "metadata": {
    "kernelspec": {
      "display_name": "Python 3",
      "language": "python",
      "name": "python3"
    },
    "language_info": {
      "codemirror_mode": {
        "name": "ipython",
        "version": 3
      },
      "file_extension": ".py",
      "mimetype": "text/x-python",
      "name": "python",
      "nbconvert_exporter": "python",
      "pygments_lexer": "ipython3",
      "version": "3.10.13"
    }
  },
  "nbformat": 4,
  "nbformat_minor": 0
}