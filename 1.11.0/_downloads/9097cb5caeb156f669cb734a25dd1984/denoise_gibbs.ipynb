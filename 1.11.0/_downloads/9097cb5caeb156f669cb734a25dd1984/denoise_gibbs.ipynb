{
  "cells": [
    {
      "cell_type": "markdown",
      "metadata": {},
      "source": [
        "\n# Suppress Gibbs oscillations\n\nMagnetic Resonance (MR) images are reconstructed from the Fourier coefficients\nof acquired k-space images. Since only a finite number of Fourier coefficients\ncan be acquired in practice, reconstructed MR images can be corrupted by Gibbs\nartefacts, which is manifested by intensity oscillations adjacent to edges of\ndifferent tissues types :footcite:p:`Veraart2016a`. Although this artefact\naffects MR images in general, in the context of diffusion-weighted imaging,\nGibbs oscillations can be magnified in derived diffusion-based estimates\n:footcite:p:`Veraart2016a`, :footcite:p:`Perrone2015`.\n\nIn the following example, we show how to suppress Gibbs artefacts of MR images.\nThis algorithm is based on an adapted version of a sub-voxel Gibbs suppression\nprocedure :footcite:p:`Kellner2016`. Full details of the implemented algorithm\ncan be found in chapter 3 of :footcite:p:`NetoHenriques2018` (please cite\n:footcite:p:`Kellner2016`, :footcite:p:`NetoHenriques2018` if you are using this\ncode).\n\nThe algorithm to suppress Gibbs oscillations can be imported from the denoise\nmodule of dipy:\n"
      ]
    },
    {
      "cell_type": "code",
      "execution_count": null,
      "metadata": {
        "collapsed": false
      },
      "outputs": [],
      "source": [
        "import matplotlib.pyplot as plt\nimport numpy as np\n\nfrom dipy.data import get_fnames, read_cenir_multib\nfrom dipy.denoise.gibbs import gibbs_removal\nfrom dipy.io.image import load_nifti_data\nimport dipy.reconst.msdki as msdki\nfrom dipy.segment.mask import median_otsu"
      ]
    },
    {
      "cell_type": "markdown",
      "metadata": {},
      "source": [
        "We first apply this algorithm to a T1-weighted dataset which can be fetched\nusing the following code:\n\n"
      ]
    },
    {
      "cell_type": "code",
      "execution_count": null,
      "metadata": {
        "collapsed": false
      },
      "outputs": [],
      "source": [
        "t1_fname, t1_denoised_fname, ap_fname = get_fnames(name=\"tissue_data\")\nt1 = load_nifti_data(t1_denoised_fname)"
      ]
    },
    {
      "cell_type": "markdown",
      "metadata": {},
      "source": [
        "Let's plot a slice of this dataset.\n\n"
      ]
    },
    {
      "cell_type": "code",
      "execution_count": null,
      "metadata": {
        "collapsed": false
      },
      "outputs": [],
      "source": [
        "axial_slice = 88\nt1_slice = t1[..., axial_slice]\n\nfig = plt.figure(figsize=(15, 4))\nfig.subplots_adjust(wspace=0.2)\n\nt1_slice = np.rot90(t1_slice)\n\nplt.subplot(1, 2, 1)\nplt.imshow(t1_slice, cmap=\"gray\", vmin=100, vmax=400)\nplt.colorbar()\nfig.savefig(\"structural.png\")"
      ]
    },
    {
      "cell_type": "markdown",
      "metadata": {},
      "source": [
        ".. rst-class:: centered small fst-italic fw-semibold\n\nRepresentative slice of a T1-weighted structural image.\n\n\nDue to the high quality of the data, Gibbs artefacts are not visually\nevident in this dataset. Therefore, to analyse the benefits of the Gibbs\nsuppression algorithm, Gibbs artefacts are artificially introduced by\nremoving high frequencies of the image's Fourier transform.\n\n"
      ]
    },
    {
      "cell_type": "code",
      "execution_count": null,
      "metadata": {
        "collapsed": false
      },
      "outputs": [],
      "source": [
        "c = np.fft.fft2(t1_slice)\nc = np.fft.fftshift(c)\nN = c.shape[0]\nc_crop = c[64:192, 64:192]\nN = c_crop.shape[0]\nt1_gibbs = abs(np.fft.ifft2(c_crop) / 4)"
      ]
    },
    {
      "cell_type": "markdown",
      "metadata": {},
      "source": [
        "Gibbs oscillation suppression of this single data slice can be performed by\nrunning the following command:\n\n"
      ]
    },
    {
      "cell_type": "code",
      "execution_count": null,
      "metadata": {
        "collapsed": false
      },
      "outputs": [],
      "source": [
        "t1_unring = gibbs_removal(t1_gibbs, inplace=False)"
      ]
    },
    {
      "cell_type": "markdown",
      "metadata": {},
      "source": [
        "Let\u2019s plot the results:\n\n"
      ]
    },
    {
      "cell_type": "code",
      "execution_count": null,
      "metadata": {
        "collapsed": false
      },
      "outputs": [],
      "source": [
        "fig1, ax = plt.subplots(1, 3, figsize=(12, 6), subplot_kw={\"xticks\": [], \"yticks\": []})\n\nax.flat[0].imshow(t1_gibbs, cmap=\"gray\", vmin=100, vmax=400)\nax.flat[0].annotate(\n    \"Rings\",\n    fontsize=10,\n    xy=(81, 70),\n    color=\"red\",\n    xycoords=\"data\",\n    xytext=(30, 0),\n    textcoords=\"offset points\",\n    arrowprops={\"arrowstyle\": \"->\", \"color\": \"red\"},\n)\nax.flat[0].annotate(\n    \"Rings\",\n    fontsize=10,\n    xy=(75, 50),\n    color=\"red\",\n    xycoords=\"data\",\n    xytext=(30, 0),\n    textcoords=\"offset points\",\n    arrowprops={\"arrowstyle\": \"->\", \"color\": \"red\"},\n)\n\nax.flat[1].imshow(t1_unring, cmap=\"gray\", vmin=100, vmax=400)\nax.flat[1].annotate(\n    \"WM/GM\",\n    fontsize=10,\n    xy=(75, 50),\n    color=\"green\",\n    xycoords=\"data\",\n    xytext=(30, 0),\n    textcoords=\"offset points\",\n    arrowprops={\"arrowstyle\": \"->\", \"color\": \"green\"},\n)\n\nax.flat[2].imshow(t1_unring - t1_gibbs, cmap=\"gray\", vmin=0, vmax=10)\nax.flat[2].annotate(\n    \"Rings\",\n    fontsize=10,\n    xy=(81, 70),\n    color=\"red\",\n    xycoords=\"data\",\n    xytext=(30, 0),\n    textcoords=\"offset points\",\n    arrowprops={\"arrowstyle\": \"->\", \"color\": \"red\"},\n)\nax.flat[2].annotate(\n    \"Rings\",\n    fontsize=10,\n    xy=(75, 50),\n    color=\"red\",\n    xycoords=\"data\",\n    xytext=(30, 0),\n    textcoords=\"offset points\",\n    arrowprops={\"arrowstyle\": \"->\", \"color\": \"red\"},\n)\nplt.show()\nfig1.savefig(\"Gibbs_suppression_structural.png\")"
      ]
    },
    {
      "cell_type": "markdown",
      "metadata": {},
      "source": [
        ".. rst-class:: centered small fst-italic fw-semibold\n\nUncorrected and corrected structural images are shown in the left\nand middle panels, while the difference between these images is shown\nin the right panel.\n\n\nThe image artificially corrupted with Gibb's artefacts is shown in the left\npanel. In this panel, the characteristic ringing profile of Gibbs artefacts\ncan be visually appreciated (see intensity oscillations pointed by the red\narrows). The corrected image is shown in the middle panel. One can appreciate\nthat artefactual oscillations are visually suppressed without compromising\nthe contrast between white and grey matter (e.g. details pointed by the green\narrow). The difference between uncorrected and corrected data is plotted in\nthe right panel which highlights the suppressed Gibbs ringing profile.\n\n\nNow let's show how to use the Gibbs suppression algorithm in\ndiffusion-weighted images. We fetch the multi-shell diffusion-weighted\ndataset which was kindly supplied by Romain Valabr\u00e8gue,\nCENIR, ICM, Paris :footcite:p:`Valabregue2015`.\n\n"
      ]
    },
    {
      "cell_type": "code",
      "execution_count": null,
      "metadata": {
        "collapsed": false
      },
      "outputs": [],
      "source": [
        "bvals = [200, 400, 1000, 2000]\n\nimg, gtab = read_cenir_multib(bvals=bvals)\n\ndata = np.asarray(img.dataobj)"
      ]
    },
    {
      "cell_type": "markdown",
      "metadata": {},
      "source": [
        "For illustration purposes, we select two slices of this dataset\n\n"
      ]
    },
    {
      "cell_type": "code",
      "execution_count": null,
      "metadata": {
        "collapsed": false
      },
      "outputs": [],
      "source": [
        "data_slices = data[:, :, 40:42, :]"
      ]
    },
    {
      "cell_type": "markdown",
      "metadata": {},
      "source": [
        "Gibbs oscillation suppression of all multi-shell data and all slices\ncan be performed in the following way:\n\n"
      ]
    },
    {
      "cell_type": "code",
      "execution_count": null,
      "metadata": {
        "collapsed": false
      },
      "outputs": [],
      "source": [
        "data_corrected = gibbs_removal(data_slices, slice_axis=2, num_processes=-1)"
      ]
    },
    {
      "cell_type": "markdown",
      "metadata": {},
      "source": [
        "Due to the high dimensionality of diffusion-weighted data, we recommend\nthat you specify which is the axis of data matrix that corresponds to\ndifferent slices in the above step. This is done by using the optional\nparameter 'slice_axis'.\n\nBelow we plot the results for an image acquired with b-value=0:\n\n"
      ]
    },
    {
      "cell_type": "code",
      "execution_count": null,
      "metadata": {
        "collapsed": false
      },
      "outputs": [],
      "source": [
        "fig2, ax = plt.subplots(1, 3, figsize=(12, 6), subplot_kw={\"xticks\": [], \"yticks\": []})\n\nax.flat[0].imshow(\n    data_slices[:, :, 0, 0].T, cmap=\"gray\", origin=\"lower\", vmin=0, vmax=10000\n)\nax.flat[0].set_title(\"Uncorrected b0\")\nax.flat[1].imshow(\n    data_corrected[:, :, 0, 0].T, cmap=\"gray\", origin=\"lower\", vmin=0, vmax=10000\n)\nax.flat[1].set_title(\"Corrected b0\")\nax.flat[2].imshow(\n    data_corrected[:, :, 0, 0].T - data_slices[:, :, 0, 0].T,\n    cmap=\"gray\",\n    origin=\"lower\",\n    vmin=-500,\n    vmax=500,\n)\nax.flat[2].set_title(\"Gibbs residuals\")\n\nplt.show()\nfig2.savefig(\"Gibbs_suppression_b0.png\")"
      ]
    },
    {
      "cell_type": "markdown",
      "metadata": {},
      "source": [
        ".. rst-class:: centered small fst-italic fw-semibold\n\nUncorrected (left panel) and corrected (middle panel) b-value=0 images. For\nreference, the difference between uncorrected and corrected images is shown\nin the right panel.\n\n\nThe above figure shows that the benefits of suppressing Gibbs artefacts is\nhard to observe on b-value=0 data. Therefore, diffusion derived metrics for\nboth uncorrected and corrected data are computed using the mean signal\ndiffusion kurtosis image technique\n(`sphx_glr_examples_built_reconstruction_reconst_msdki.py`).\n\nTo avoid unnecessary calculations on the background of the image, we also\ncompute a brain mask.\n\n"
      ]
    },
    {
      "cell_type": "code",
      "execution_count": null,
      "metadata": {
        "collapsed": false
      },
      "outputs": [],
      "source": [
        "# Create a brain mask\nmaskdata, mask = median_otsu(\n    data_slices,\n    vol_idx=range(10, 50),\n    median_radius=3,\n    numpass=1,\n    autocrop=False,\n    dilate=1,\n)\n\n# Define mean signal diffusion kurtosis model\ndki_model = msdki.MeanDiffusionKurtosisModel(gtab)\n\n# Fit the uncorrected data\ndki_fit = dki_model.fit(data_slices, mask=mask)\nMSKini = dki_fit.msk\n\n# Fit the corrected data\ndki_fit = dki_model.fit(data_corrected, mask=mask)\nMSKgib = dki_fit.msk"
      ]
    },
    {
      "cell_type": "markdown",
      "metadata": {},
      "source": [
        "Let's plot the results\n\n"
      ]
    },
    {
      "cell_type": "code",
      "execution_count": null,
      "metadata": {
        "collapsed": false
      },
      "outputs": [],
      "source": [
        "fig3, ax = plt.subplots(1, 3, figsize=(12, 12), subplot_kw={\"xticks\": [], \"yticks\": []})\n\nax.flat[0].imshow(MSKini[:, :, 0].T, cmap=\"gray\", origin=\"lower\", vmin=0, vmax=1.5)\nax.flat[0].set_title(\"MSK (uncorrected)\")\nax.flat[0].annotate(\n    \"Rings\",\n    fontsize=12,\n    xy=(59, 63),\n    color=\"red\",\n    xycoords=\"data\",\n    xytext=(45, 0),\n    textcoords=\"offset points\",\n    arrowprops={\"arrowstyle\": \"->\", \"color\": \"red\"},\n)\n\nax.flat[1].imshow(MSKgib[:, :, 0].T, cmap=\"gray\", origin=\"lower\", vmin=0, vmax=1.5)\nax.flat[1].set_title(\"MSK (corrected)\")\n\nax.flat[2].imshow(\n    MSKgib[:, :, 0].T - MSKini[:, :, 0].T,\n    cmap=\"gray\",\n    origin=\"lower\",\n    vmin=-0.2,\n    vmax=0.2,\n)\nax.flat[2].set_title(\"MSK (uncorrected - corrected\")\nax.flat[2].annotate(\n    \"Rings\",\n    fontsize=12,\n    xy=(59, 63),\n    color=\"red\",\n    xycoords=\"data\",\n    xytext=(45, 0),\n    textcoords=\"offset points\",\n    arrowprops={\"arrowstyle\": \"->\", \"color\": \"red\"},\n)\n\nplt.show()\nfig3.savefig(\"Gibbs_suppression_msdki.png\")"
      ]
    },
    {
      "cell_type": "markdown",
      "metadata": {},
      "source": [
        ".. rst-class:: centered small fst-italic fw-semibold\n\nUncorrected and corrected mean signal kurtosis images are shown in the left\nand middle panels. The difference between uncorrected and corrected images\nare show in the right panel.\n\n\nIn the left panel of the figure above, Gibbs artefacts can be appreciated by\nthe negative values of mean signal kurtosis (black voxels) adjacent to the\nbrain ventricle (red arrows). These negative values seem to be suppressed\nafter the `gibbs_removal` function is applied. For a better visualization of\nGibbs oscillations, the difference between corrected and uncorrected images\nare shown in the right panel.\n\n\n## References\n\n.. footbibliography::\n\n\n"
      ]
    },
    {
      "cell_type": "markdown",
      "metadata": {},
      "source": [
        ".. include:: ../../links_names.inc\n\n\n"
      ]
    }
  ],
  "metadata": {
    "kernelspec": {
      "display_name": "Python 3",
      "language": "python",
      "name": "python3"
    },
    "language_info": {
      "codemirror_mode": {
        "name": "ipython",
        "version": 3
      },
      "file_extension": ".py",
      "mimetype": "text/x-python",
      "name": "python",
      "nbconvert_exporter": "python",
      "pygments_lexer": "ipython3",
      "version": "3.10.13"
    }
  },
  "nbformat": 4,
  "nbformat_minor": 0
}