{
  "cells": [
    {
      "cell_type": "markdown",
      "metadata": {},
      "source": [
        "\n# An introduction to the Probabilistic Tractography\n\nProbabilistic fiber tracking is a way of reconstructing white matter\nconnections using diffusion MR imaging. Like deterministic fiber tracking, the\nprobabilistic approach follows the trajectory of a possible pathway step by\nstep starting at a seed, however, unlike deterministic tracking, the tracking\ndirection at each point along the path is chosen at random from a distribution.\nThe distribution at each point is different and depends on the observed\ndiffusion data at that point. The distribution of tracking directions at each\npoint can be represented as a probability mass function (PMF) if the possible\ntracking directions are restricted to discrete numbers of well distributed\npoints on a sphere.\n\nThis example is an extension of the\n`sphx_glr_examples_built_quick_start_tracking_introduction_eudx.py`\nexample. We'll begin by repeating a few steps from that example, loading the\ndata and fitting a Constrained Spherical Deconvolution (CSD) model.\n"
      ]
    },
    {
      "cell_type": "code",
      "execution_count": null,
      "metadata": {
        "collapsed": false
      },
      "outputs": [],
      "source": [
        "from dipy.core.gradients import gradient_table\nfrom dipy.data import default_sphere, get_fnames\nfrom dipy.direction import peaks_from_model\nfrom dipy.io.gradients import read_bvals_bvecs\nfrom dipy.io.image import load_nifti, load_nifti_data\nfrom dipy.io.stateful_tractogram import Space, StatefulTractogram\nfrom dipy.io.streamline import save_trk\nfrom dipy.reconst.csdeconv import ConstrainedSphericalDeconvModel, auto_response_ssst\nfrom dipy.tracking.stopping_criterion import BinaryStoppingCriterion\nfrom dipy.tracking.streamline import Streamlines\nfrom dipy.tracking.tracker import probabilistic_tracking\nfrom dipy.tracking.utils import seeds_from_mask\nfrom dipy.viz import actor, colormap, has_fury, window\n\n# Enables/disables interactive visualization\ninteractive = False\n\nhardi_fname, hardi_bval_fname, hardi_bvec_fname = get_fnames(name=\"stanford_hardi\")\nlabel_fname = get_fnames(name=\"stanford_labels\")\n\ndata, affine, hardi_img = load_nifti(hardi_fname, return_img=True)\nlabels = load_nifti_data(label_fname)\nbvals, bvecs = read_bvals_bvecs(hardi_bval_fname, hardi_bvec_fname)\ngtab = gradient_table(bvals, bvecs=bvecs)\n\nseed_mask = labels == 2\nseeds = seeds_from_mask(seed_mask, affine, density=2)\n\nwhite_matter = (labels == 1) | (labels == 2)\nsc = BinaryStoppingCriterion(white_matter)\n\nresponse, ratio = auto_response_ssst(gtab, data, roi_radii=10, fa_thr=0.7)\ncsd_model = ConstrainedSphericalDeconvModel(gtab, response, sh_order_max=6)\ncsd_fit = csd_model.fit(data, mask=white_matter)"
      ]
    },
    {
      "cell_type": "markdown",
      "metadata": {},
      "source": [
        "The Fiber Orientation Distribution (FOD) of the CSD model estimates the\ndistribution of small fiber bundles within each voxel. We can use this\ndistribution for probabilistic fiber tracking. One way to do this is to\nrepresent the FOD using a discrete sphere. This discrete FOD can be used by\n``probabilistic_tracking`` as a PMF (sf or spherical function) for sampling\ntracking directions.\n\n"
      ]
    },
    {
      "cell_type": "code",
      "execution_count": null,
      "metadata": {
        "collapsed": false
      },
      "outputs": [],
      "source": [
        "fod = csd_fit.odf(default_sphere)\nstreamline_generator = probabilistic_tracking(\n    seeds,\n    sc,\n    affine,\n    sf=fod,\n    random_seed=1,\n    sphere=default_sphere,\n    max_angle=20,\n    step_size=0.2,\n)\n\nstreamlines = Streamlines(streamline_generator)\nsft = StatefulTractogram(streamlines, hardi_img, Space.RASMM)\nsave_trk(sft, \"tractogram_probabilistic_sf.trk\")\n\nif has_fury:\n    scene = window.Scene()\n    scene.add(actor.line(streamlines, colors=colormap.line_colors(streamlines)))\n    window.record(\n        scene=scene, out_path=\"tractogram_probabilistic_sf.png\", size=(800, 800)\n    )\n    if interactive:\n        window.show(scene)"
      ]
    },
    {
      "cell_type": "markdown",
      "metadata": {},
      "source": [
        ".. rst-class:: centered small fst-italic fw-semibold\n\nCorpus Callosum using probabilistic tractography from PMF\n\n\n\nOne disadvantage of using a discrete PMF to represent possible tracking\ndirections is that it tends to take up a lot of memory (RAM). The size of the\nPMF, the FOD in this case, must be equal to the number of possible tracking\ndirections on the hemisphere, and every voxel has a unique PMF. In this case\nthe data is ``(81, 106, 76)`` and ``small_sphere`` has 181 directions so the\nFOD is ``(81, 106, 76, 181)``. One way to avoid sampling the PMF and holding\nit in memory is to use directly from the spherical\nharmonic (SH) representation of the FOD. By using this approach, we can also\nuse a larger sphere, like ``default_sphere`` which has 362 directions on the\nhemisphere, without having to worry about memory limitations.\n\n"
      ]
    },
    {
      "cell_type": "code",
      "execution_count": null,
      "metadata": {
        "collapsed": false
      },
      "outputs": [],
      "source": [
        "streamline_generator = probabilistic_tracking(\n    seeds,\n    sc,\n    affine,\n    sh=csd_fit.shm_coeff,\n    random_seed=1,\n    sphere=default_sphere,\n    max_angle=20,\n    step_size=0.2,\n)\n\nstreamlines = Streamlines(streamline_generator)\nsft = StatefulTractogram(streamlines, hardi_img, Space.RASMM)\nsave_trk(sft, \"tractogram_probabilistic_sh.trk\")\n\nif has_fury:\n    scene = window.Scene()\n    scene.add(actor.line(streamlines, colors=colormap.line_colors(streamlines)))\n    window.record(\n        scene=scene, out_path=\"tractogram_probabilistic_sh.png\", size=(800, 800)\n    )\n    if interactive:\n        window.show(scene)"
      ]
    },
    {
      "cell_type": "markdown",
      "metadata": {},
      "source": [
        ".. rst-class:: centered small fst-italic fw-semibold\n\nCorpus Callosum using probabilistic tractography from SH\n\n\n\nNot all model fits have the ``shm_coeff`` attribute because not all models\nuse this basis to represent the data internally. However we can fit the ODF\nof any model to the spherical harmonic basis using the ``peaks_from_model``\nfunction.\n\n"
      ]
    },
    {
      "cell_type": "code",
      "execution_count": null,
      "metadata": {
        "collapsed": false
      },
      "outputs": [],
      "source": [
        "peaks = peaks_from_model(\n    csd_model,\n    data,\n    default_sphere,\n    0.5,\n    25,\n    mask=white_matter,\n    return_sh=True,\n    parallel=True,\n    num_processes=1,\n)\nfod_coeff = peaks.shm_coeff\n\nstreamline_generator = probabilistic_tracking(\n    seeds,\n    sc,\n    affine,\n    sh=fod_coeff,\n    random_seed=1,\n    sphere=default_sphere,\n    max_angle=20,\n    step_size=0.2,\n)\n\nstreamlines = Streamlines(streamline_generator)\nsft = StatefulTractogram(streamlines, hardi_img, Space.RASMM)\nsave_trk(sft, \"tractogram_probabilistic_sh_pfm.trk\")\n\nif has_fury:\n    scene = window.Scene()\n    scene.add(actor.line(streamlines, colors=colormap.line_colors(streamlines)))\n    window.record(\n        scene=scene, out_path=\"tractogram_probabilistic_sh_pfm.png\", size=(800, 800)\n    )\n    if interactive:\n        window.show(scene)"
      ]
    },
    {
      "cell_type": "markdown",
      "metadata": {},
      "source": [
        ".. rst-class:: centered small fst-italic fw-semibold\n\nCorpus Callosum using probabilistic tractography from SH\n(peaks_from_model)\n\n"
      ]
    },
    {
      "cell_type": "markdown",
      "metadata": {},
      "source": [
        ".. include:: ../../links_names.inc\n\n\n"
      ]
    }
  ],
  "metadata": {
    "kernelspec": {
      "display_name": "Python 3",
      "language": "python",
      "name": "python3"
    },
    "language_info": {
      "codemirror_mode": {
        "name": "ipython",
        "version": 3
      },
      "file_extension": ".py",
      "mimetype": "text/x-python",
      "name": "python",
      "nbconvert_exporter": "python",
      "pygments_lexer": "ipython3",
      "version": "3.10.13"
    }
  },
  "nbformat": 4,
  "nbformat_minor": 0
}