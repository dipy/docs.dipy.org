{
  "cells": [
    {
      "cell_type": "markdown",
      "metadata": {},
      "source": [
        "\n# An introduction to the Fast Tracking Module\n\nThe fast tracking module allow to run tractography on multiple CPU cores.\n\nCurrent implemented algorithms are probabilistic, deterministic and parallel\ntransport tractography (PTT).\n\nSee\n`sphx_glr_examples_built_fiber_tracking_tracking_probabilistic.py`\n`sphx_glr_examples_built_fiber_tracking_tracking_deterministic.py`\n`sphx_glr_examples_built_fiber_tracking_tracking_ptt.py`\nfor detailed examples of those algorithms.\n"
      ]
    },
    {
      "cell_type": "code",
      "execution_count": null,
      "metadata": {
        "collapsed": false
      },
      "outputs": [],
      "source": [
        "import os\n\nimport matplotlib.pyplot as plt\nimport numpy as np\nfrom scipy.ndimage import binary_erosion\nfrom scipy.stats import pearsonr\n\nfrom dipy.core.gradients import gradient_table\nfrom dipy.data import default_sphere, get_fnames\nfrom dipy.io.image import load_nifti, load_nifti_data\nfrom dipy.io.stateful_tractogram import Space, StatefulTractogram\nfrom dipy.io.streamline import load_tractogram, save_trk\nfrom dipy.reconst.csdeconv import ConstrainedSphericalDeconvModel, auto_response_ssst\nfrom dipy.tracking.stopping_criterion import BinaryStoppingCriterion\nfrom dipy.tracking.streamline import Streamlines\nfrom dipy.tracking.tracker import (\n    deterministic_tracking,\n    probabilistic_tracking,\n    ptt_tracking,\n)\nfrom dipy.tracking.utils import connectivity_matrix, seeds_from_mask\nfrom dipy.viz import actor, colormap, has_fury, window\n\n# Enables/disables interactive visualization\ninteractive = False\n\nprint(\"Downloading data...\")"
      ]
    },
    {
      "cell_type": "markdown",
      "metadata": {},
      "source": [
        "Prepare the synthetic DiSCo data for fast tracking. The ground-truth\nconnectome will be use to evaluate tractography performances.\n\n"
      ]
    },
    {
      "cell_type": "code",
      "execution_count": null,
      "metadata": {
        "collapsed": false
      },
      "outputs": [],
      "source": [
        "fnames = get_fnames(name=\"disco1\")\ndisco1_fnames = [os.path.basename(f) for f in fnames]\n\nGT_connectome_fname = fnames[\n    disco1_fnames.index(\"DiSCo1_Connectivity_Matrix_Cross-Sectional_Area.txt\")\n]\nGT_connectome = np.loadtxt(GT_connectome_fname)\n\n# select the non-zero connections of the upper triangular part of the connectome\nconnectome_mask = np.tril(np.ones(GT_connectome.shape), -1) > 0\n\n# load the\nlabels_fname = fnames[disco1_fnames.index(\"highRes_DiSCo1_ROIs.nii.gz\")]\nlabels, affine, labels_img = load_nifti(labels_fname, return_img=True)\nlabels = labels.astype(int)\n\nprint(\"Loading data...\")\ntracks_fname = fnames[disco1_fnames.index(\"DiSCo1_Strands_Trajectories.tck\")]\nGT_streams = load_tractogram(tracks_fname, reference=labels_img).streamlines\nif has_fury:\n    scene = window.Scene()\n    scene.add(actor.line(GT_streams, colors=colormap.line_colors(GT_streams)))\n    window.record(scene=scene, out_path=\"tractogram_ground_truth.png\", size=(800, 800))\n    if interactive:\n        window.show(scene)\n\nplt.imshow(GT_connectome, origin=\"lower\", cmap=\"viridis\", interpolation=\"nearest\")\nplt.axis(\"off\")\nplt.savefig(\"connectome_ground_truth.png\")\nplt.close()"
      ]
    },
    {
      "cell_type": "markdown",
      "metadata": {},
      "source": [
        ".. rst-class:: centered small fst-italic fw-semibold\n\nDiSCo ground-truth trajectories (left) and connectivity matrix (right).\n\n\n\n"
      ]
    },
    {
      "cell_type": "code",
      "execution_count": null,
      "metadata": {
        "collapsed": false
      },
      "outputs": [],
      "source": [
        "# Tracking mask, seed positions and initial directions\nmask_fname = fnames[disco1_fnames.index(\"highRes_DiSCo1_mask.nii.gz\")]\nmask = load_nifti_data(mask_fname)\nsc = BinaryStoppingCriterion(mask)\n\nvoxel_size = np.ones(3)\nseed_fname = fnames[disco1_fnames.index(\"highRes_DiSCo1_ROIs-mask.nii.gz\")]\nseed_mask = load_nifti_data(seed_fname)\nseed_mask = binary_erosion(seed_mask * mask, iterations=1)\nseeds = seeds_from_mask(seed_mask, affine, density=2)\n\nplt.imshow(seed_mask[:, :, 17], origin=\"lower\", cmap=\"gray\", interpolation=\"nearest\")\nplt.axis(\"off\")\nplt.title(\"Seeding Mask\")\nplt.savefig(\"seeding_mask.png\")\nplt.close()\nplt.imshow(mask[:, :, 17], origin=\"lower\", cmap=\"gray\", interpolation=\"nearest\")\nplt.axis(\"off\")\nplt.title(\"Tracking Mask\")\nplt.savefig(\"tracking_mask.png\")\nplt.close()"
      ]
    },
    {
      "cell_type": "markdown",
      "metadata": {},
      "source": [
        ".. rst-class:: centered small fst-italic fw-semibold\n\nDiSCo seeding (left) and tracking (right) masks.\n\n\n\n"
      ]
    },
    {
      "cell_type": "code",
      "execution_count": null,
      "metadata": {
        "collapsed": false
      },
      "outputs": [],
      "source": [
        "# Compute ODFs\ndata_fname = fnames[disco1_fnames.index(\"highRes_DiSCo1_DWI_RicianNoise-snr10.nii.gz\")]\ndata = load_nifti_data(data_fname)\n\nbvecs = fnames[disco1_fnames.index(\"DiSCo_gradients_dipy.bvecs\")]\nbvals = fnames[disco1_fnames.index(\"DiSCo_gradients.bvals\")]\ngtab = gradient_table(bvals=bvals, bvecs=bvecs)\n\nresponse, _ = auto_response_ssst(gtab, data, roi_radii=10, fa_thr=0.7)\ncsd_model = ConstrainedSphericalDeconvModel(gtab, response, sh_order_max=8)\ncsd_fit = csd_model.fit(data, mask=mask)\nODFs = csd_fit.odf(default_sphere)\n\nif has_fury:\n    scene = window.Scene()\n    ODF_spheres = actor.odf_slicer(\n        ODFs[:, :, 17:18, :],\n        sphere=default_sphere,\n        scale=2,\n        norm=False,\n        colormap=\"plasma\",\n    )\n    scene.add(ODF_spheres)\n    window.record(scene=scene, out_path=\"GT_odfs.png\", size=(600, 600))\n    if interactive:\n        window.show(scene)"
      ]
    },
    {
      "cell_type": "markdown",
      "metadata": {},
      "source": [
        ".. rst-class:: centered small fst-italic fw-semibold\n\nDiSCo ground-truth ODFs.\n\n\n\n"
      ]
    },
    {
      "cell_type": "code",
      "execution_count": null,
      "metadata": {
        "collapsed": false
      },
      "outputs": [],
      "source": [
        "# Perform fast deterministic tractography using 1 thread (cpu)\nprint(\"Running fast Deterministic Tractography...\")\nstreamline_generator = deterministic_tracking(\n    seeds, sc, affine, sf=ODFs, nbr_threads=1, random_seed=42, sphere=default_sphere\n)\n\ndet_streams = Streamlines(streamline_generator)\nsft = StatefulTractogram(det_streams, labels_img, Space.RASMM)\nsave_trk(sft, \"tractogram_fast_deterministic.trk\")\n\nif has_fury:\n    scene = window.Scene()\n    scene.add(actor.line(det_streams, colors=colormap.line_colors(det_streams)))\n    window.record(\n        scene=scene, out_path=\"tractogram_fast_deterministic.png\", size=(800, 800)\n    )\n    if interactive:\n        window.show(scene)\n\n# Compare the estimated connectivity with the ground-truth connectivity\nconnectome = connectivity_matrix(det_streams, affine, labels)[1:, 1:]\nr, _ = pearsonr(\n    GT_connectome[connectome_mask].flatten(), connectome[connectome_mask].flatten()\n)\nprint(\"DiSCo ground-truth correlation (fast deterministic tractography): \", r)\n\nplt.imshow(connectome, origin=\"lower\", cmap=\"viridis\", interpolation=\"nearest\")\nplt.axis(\"off\")\nplt.savefig(\"connectome_deterministic.png\")\nplt.close()"
      ]
    },
    {
      "cell_type": "markdown",
      "metadata": {},
      "source": [
        ".. rst-class:: centered small fst-italic fw-semibold\n\nDiSCo Deterministic tractogram and corresponding connectome.\n\n\nPerform fast probabilistic tractography using 4 threads (cpus)\n\n"
      ]
    },
    {
      "cell_type": "code",
      "execution_count": null,
      "metadata": {
        "collapsed": false
      },
      "outputs": [],
      "source": [
        "print(\"Running fast Probabilistic Tractography...\")\nstreamline_generator = probabilistic_tracking(\n    seeds, sc, affine, sf=ODFs, nbr_threads=4, random_seed=42, sphere=default_sphere\n)\nprob_streams = Streamlines(streamline_generator)\nsft = StatefulTractogram(prob_streams, labels_img, Space.RASMM)\nsave_trk(sft, \"tractogram_fast_probabilistic.trk\")\n\nif has_fury:\n    scene = window.Scene()\n    scene.add(actor.line(prob_streams, colors=colormap.line_colors(prob_streams)))\n    window.record(\n        scene=scene, out_path=\"tractogram_fast_probabilistic.png\", size=(800, 800)\n    )\n    if interactive:\n        window.show(scene)\n\n# Compare the estimated connectivity with the ground-truth connectivity\nconnectome = connectivity_matrix(prob_streams, affine, labels)[1:, 1:]\nr, _ = pearsonr(\n    GT_connectome[connectome_mask].flatten(), connectome[connectome_mask].flatten()\n)\nprint(\"DiSCo ground-truth correlation (fast probabilistic tractography): \", r)\n\nplt.imshow(connectome, origin=\"lower\", cmap=\"viridis\", interpolation=\"nearest\")\nplt.axis(\"off\")\nplt.savefig(\"connectome_probabilistic.png\")\nplt.close()"
      ]
    },
    {
      "cell_type": "markdown",
      "metadata": {},
      "source": [
        ".. rst-class:: centered small fst-italic fw-semibold\n\nDiSCo Probabilistic tractogram and corresponding connectome.\n\n\n\n"
      ]
    },
    {
      "cell_type": "code",
      "execution_count": null,
      "metadata": {
        "collapsed": false
      },
      "outputs": [],
      "source": [
        "# Perform fast parallel transport tractography tractography using all threads (cpus)\nprint(\"Running fast Parallel Transport Tractography...\")\nstreamline_generator = ptt_tracking(\n    seeds, sc, affine, sf=ODFs, nbr_threads=0, random_seed=42, sphere=default_sphere\n)\nptt_streams = Streamlines(streamline_generator)\nsft = StatefulTractogram(ptt_streams, labels_img, Space.RASMM)\nsave_trk(sft, \"tractogram_fast_ptt.trk\")\n\nif has_fury:\n    scene = window.Scene()\n    scene.add(actor.line(ptt_streams, colors=colormap.line_colors(ptt_streams)))\n    window.record(scene=scene, out_path=\"tractogram_fast_ptt.png\", size=(800, 800))\n    if interactive:\n        window.show(scene)\n\n# Compare the estimated connectivity with the ground-truth connectivity\nconnectome = connectivity_matrix(ptt_streams, affine, labels)[1:, 1:]\nr, _ = pearsonr(\n    GT_connectome[connectome_mask].flatten(), connectome[connectome_mask].flatten()\n)\nprint(\"DiSCo ground-truth correlation (fast PTT tractography): \", r)\nplt.imshow(connectome, origin=\"lower\", cmap=\"viridis\", interpolation=\"nearest\")\nplt.axis(\"off\")\nplt.savefig(\"connectome_ptt.png\")\nplt.close()"
      ]
    },
    {
      "cell_type": "markdown",
      "metadata": {},
      "source": [
        ".. rst-class:: centered small fst-italic fw-semibold\n\nDiSCo PTT tractogram and corresponding connectome.\n\n\n\n"
      ]
    },
    {
      "cell_type": "markdown",
      "metadata": {},
      "source": [
        ".. include:: ../../links_names.inc\n\n\n"
      ]
    }
  ],
  "metadata": {
    "kernelspec": {
      "display_name": "Python 3",
      "language": "python",
      "name": "python3"
    },
    "language_info": {
      "codemirror_mode": {
        "name": "ipython",
        "version": 3
      },
      "file_extension": ".py",
      "mimetype": "text/x-python",
      "name": "python",
      "nbconvert_exporter": "python",
      "pygments_lexer": "ipython3",
      "version": "3.10.13"
    }
  },
  "nbformat": 4,
  "nbformat_minor": 0
}