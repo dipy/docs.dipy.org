{
  "cells": [
    {
      "cell_type": "markdown",
      "metadata": {},
      "source": [
        "\n# Reconstruction of the diffusion signal with the kurtosis tensor model (DKI)\n\nDiffusional Kurtosis Imaging (DKI) is an expansion of the Diffusion Tensor\nImaging (DTI) model\n(see `sphx_glr_examples_built_reconstruction_reconst_dti.py`). In\naddition to the Diffusion Tensor (DT), DKI quantifies the degree to which water\ndiffusion in biological tissues is non-Gaussian using the Kurtosis Tensor (KT)\n:footcite:p:`Jensen2005`.\n\nMeasurements of non-Gaussian diffusion from DKI are of interest because they\nwere shown to provide extra information about microstructural alterations in\nboth health and disease (for a review see our\npaper :footcite:p:`NetoHenriques2021a`). Moreover, in contrast to DTI, DKI can\nprovide metrics of tissue microscopic heterogeneity that are less sensitive to\nconfounding effects in the orientation of tissue components, thus providing\nbetter characterization in general white matter configurations (including\nregions of fibers crossing, fanning, and/or dispersing) and gray matter\n:footcite:p:`NetoHenriques2015`, :footcite:p:`NetoHenriques2021a`. Although DKI\naims primarily to quantify the degree of non-Gaussian diffusion without\nestablishing concrete biophysical assumptions, DKI can also be related to\nmicrostructural models to infer specific biophysical parameters (e.g., the\ndensity of axonal fibers) - this aspect will be more closely explored in\n:ref:sphx_glr_examples_built_reconstruction_reconst_dki_micro.py. For\nadditional information on DKI and its practical implementation within DIPY,\nrefer to :footcite:p:`NetoHenriques2021a`.\n\nBelow, we introduce a concise theoretical background of DKI and demonstrate\nits fitting process using DIPY. We'll also guide you through the fitting\nprocess of DKI using DIPY, demonstrating how to effectively apply this\ntechnique. Furthermore, we discuss the various diffusion metrics that can be\nderived from DKI, providing insight into their practical significance and\napplications. Additionally, we address strategies to mitigate common artifacts,\nsuch as implausible negative kurtosis estimates, which manifest as 'black'\nvoxels or holes in DKI maps. These artifacts can compromise the accuracy of\nthe DKI analysis, and we'll offer solutions to ensure more reliable results.\n\n## Theory\n\nThe DKI model expresses the diffusion-weighted signal as:\n\n\\begin{align}S(n,b)=S_{0}e^{-bD(n)+\\frac{1}{6}b^{2}D(n)^{2}K(n)}\\end{align}\n\nwhere $\\mathbf{b}$ is the applied diffusion weighting (which is dependent on\nthe measurement parameters), $S_0$ is the signal in the absence of diffusion\ngradient sensitization, $\\mathbf{D(n)}$ is the value of diffusion along\ndirection $\\mathbf{n}$, and $\\mathbf{K(n)}$ is the value of kurtosis along\ndirection $\\mathbf{n}$. The directional diffusion $\\mathbf{D(n)}$ and kurtosis\n$\\mathbf{K(n)}$ can be related to the diffusion tensor (DT) and kurtosis tensor\n(KT) using the following equations:\n\n\\begin{align}D(n)=\\sum_{i=1}^{3}\\sum_{j=1}^{3}n_{i}n_{j}D_{ij}\\end{align}\n\nand\n\n\\begin{align}K(n)=\\frac{MD^{2}}{D(n)^{2}}\\sum_{i=1}^{3}\\sum_{j=1}^{3}\\sum_{k=1}^{3}\n     \\sum_{l=1}^{3}n_{i}n_{j}n_{k}n_{l}W_{ijkl}\\end{align}\n\nwhere $D_{ij}$ are the elements of the second-order DT, and $W_{ijkl}$ the\nelements of the fourth-order KT and $MD$ is the mean diffusivity. As the DT,\nKT has antipodal symmetry and thus only 15 Wijkl elements are needed to fully\ncharacterize the KT:\n\n\\begin{align}\\begin{matrix} ( & W_{xxxx} & W_{yyyy} & W_{zzzz} & W_{xxxy} & W_{xxxz}\n                    & ... \\\\\n                    & W_{xyyy} & W_{yyyz} & W_{xzzz} & W_{yzzz} & W_{xxyy}\n                    & ... \\\\\n                    & W_{xxzz} & W_{yyzz} & W_{xxyz} & W_{xyyz} & W_{xyzz}\n                    & & )\\end{matrix}\\end{align}\n\n## DKI fitting in DIPY\n\nIn the following example we show how to fit the diffusion kurtosis model on\ndiffusion-weighted multi-shell datasets and how to estimate diffusion kurtosis\nbased statistics.\n\nFirst, we import all relevant modules:\n"
      ]
    },
    {
      "cell_type": "code",
      "execution_count": null,
      "metadata": {
        "collapsed": false
      },
      "outputs": [],
      "source": [
        "import numpy as np\n\nfrom dipy.core.gradients import gradient_table\nfrom dipy.data import get_fnames\nfrom dipy.denoise.localpca import mppca\nfrom dipy.io.gradients import read_bvals_bvecs\nfrom dipy.io.image import load_nifti\nimport dipy.reconst.dki as dki\nimport dipy.reconst.dti as dti\nfrom dipy.segment.mask import median_otsu\nfrom dipy.viz.plotting import compare_maps"
      ]
    },
    {
      "cell_type": "markdown",
      "metadata": {},
      "source": [
        "DKI requires multi-shell data, i.e. data acquired from more than one\nnon-zero b-value. Here, we use fetch to download a multi-shell dataset which\nwas kindly provided by Hansen and Jespersen (more details about the data are\nprovided in their paper :footcite:p:`Hansen2016a`). The total size of the\ndownloaded data is 192 MBytes, however you only need to fetch it once.\n\n"
      ]
    },
    {
      "cell_type": "code",
      "execution_count": null,
      "metadata": {
        "collapsed": false
      },
      "outputs": [],
      "source": [
        "fraw, fbval, fbvec, t1_fname = get_fnames(name=\"cfin_multib\")\n\ndata, affine = load_nifti(fraw)\nbvals, bvecs = read_bvals_bvecs(fbval, fbvec)\ngtab = gradient_table(bvals, bvecs=bvecs)"
      ]
    },
    {
      "cell_type": "markdown",
      "metadata": {},
      "source": [
        "Function ``get_fnames`` downloads and outputs the paths of the data,\n``load_nifti`` returns the data as a nibabel Nifti1Image object, and\n``read_bvals_bvecs`` loads the arrays containing the information about the\nb-values and b-vectors. These later arrays are converted to the\nGradientTable object required for Dipy_'s data reconstruction.\n\nThe downloaded dataset was acquired with an unusually large number of\nb-values. To run this example with acquisitions that are more common in\npractice, we select below data for three non-zero b-values (if you want to\nrun this example with the full data extent, skip the following lines of\ncode)\n\n"
      ]
    },
    {
      "cell_type": "code",
      "execution_count": null,
      "metadata": {
        "collapsed": false
      },
      "outputs": [],
      "source": [
        "bval_sel = np.zeros_like(gtab.bvals)\nbval_sel[bvals == 0] = 1\nbval_sel[bvals == 600] = 1\nbval_sel[bvals == 1000] = 1\nbval_sel[bvals == 2000] = 1\n\ndata = data[..., bval_sel == 1]\ngtab = gradient_table(bvals[bval_sel == 1], bvecs=bvecs[bval_sel == 1])"
      ]
    },
    {
      "cell_type": "markdown",
      "metadata": {},
      "source": [
        "Before fitting the data, we perform some data pre-processing. We first\ncompute a brain mask to avoid unnecessary calculations on the background\nof the image.\n\n"
      ]
    },
    {
      "cell_type": "code",
      "execution_count": null,
      "metadata": {
        "collapsed": false
      },
      "outputs": [],
      "source": [
        "datamask, mask = median_otsu(\n    data, vol_idx=[0, 1], median_radius=4, numpass=2, autocrop=False, dilate=1\n)"
      ]
    },
    {
      "cell_type": "markdown",
      "metadata": {},
      "source": [
        "Since the diffusion kurtosis model involves the estimation of a large number\nof parameters :footcite:p:`Tax2015` and since the non-Gaussian components of\nthe diffusion signal are more sensitive to artifacts\n:footcite:p:`NetoHenriques2012`, :footcite:p:`Tabesh2011`, it might be\nfavorable to suppress the effects of noise and artifacts before diffusion\nkurtosis fitting. In this example, the effects of noise are suppressed using\nthe Marcenko-Pastur (MP)-PCA algorithm (for more information, see\n:ref:sphx_glr_examples_built_preprocessing_denoise_mppca.py). Processing\nMP-PCA may take a while - for illustration purposes, you can skip this step.\nHowever, note that if you don't denoise your data, DKI reconstructions may\nbe corrupted by a large percentage of implausible DKI estimates (see below\nfor more information on this issue).\n\n"
      ]
    },
    {
      "cell_type": "code",
      "execution_count": null,
      "metadata": {
        "collapsed": false
      },
      "outputs": [],
      "source": [
        "data = mppca(data, patch_radius=[3, 3, 3])"
      ]
    },
    {
      "cell_type": "markdown",
      "metadata": {},
      "source": [
        "Now that we have loaded and pre-processed the data we can go forward\nwith DKI fitting. For this, the DKI model is first defined for the data's\nGradientTable object by instantiating the DiffusionKurtosisModel object in\nthe following way:\n\n"
      ]
    },
    {
      "cell_type": "code",
      "execution_count": null,
      "metadata": {
        "collapsed": false
      },
      "outputs": [],
      "source": [
        "dkimodel = dki.DiffusionKurtosisModel(gtab)"
      ]
    },
    {
      "cell_type": "markdown",
      "metadata": {},
      "source": [
        "To fit the data using the defined model object, we call the ``fit`` function\nof this object. For the purpose of this example, we will only fit a\nsingle slice of the data:\n\n"
      ]
    },
    {
      "cell_type": "code",
      "execution_count": null,
      "metadata": {
        "collapsed": false
      },
      "outputs": [],
      "source": [
        "dkifit = dkimodel.fit(data[:, :, 9:10], mask=mask[:, :, 9:10])"
      ]
    },
    {
      "cell_type": "markdown",
      "metadata": {},
      "source": [
        "The fit method creates a DiffusionKurtosisFit object, which contains all the\ndiffusion and kurtosis fitting parameters and other DKI attributes. For\ninstance, since the diffusion kurtosis model estimates the diffusion tensor,\nall standard diffusion tensor statistics can be computed from the\nDiffusionKurtosisFit instance. For example, we can extract the fractional\nanisotropy (FA), the mean diffusivity (MD), the radial diffusivity (RD) and\nthe axial diffusivity (AD) from the DiffusionKurtosisiFit instance. Of\ncourse, these measures can also be computed from DIPY's ``TensorModel`` fit,\nand should be analogous; however, theoretically, the diffusion statistics\nfrom the kurtosis model are expected to have better accuracy, since DKI's\ndiffusion tensor are decoupled from higher order terms effects\n:footcite:p:`Veraart2011`, :footcite:p:`NetoHenriques2021a`. Below we compare\nthe FA, MD, AD, and RD, computed from both DTI and DKI.\n\n"
      ]
    },
    {
      "cell_type": "code",
      "execution_count": null,
      "metadata": {
        "collapsed": false
      },
      "outputs": [],
      "source": [
        "tenmodel = dti.TensorModel(gtab)\ntenfit = tenmodel.fit(data[:, :, 9:10], mask=mask[:, :, 9:10])\n\nfits = [tenfit, dkifit]\nmaps = [\"fa\", \"md\", \"rd\", \"ad\"]\nfit_labels = [\"DTI\", \"DKI\"]\nmap_kwargs = [{\"vmax\": 0.7}, {\"vmax\": 2e-3}, {\"vmax\": 2e-3}, {\"vmax\": 2e-3}]\ncompare_maps(\n    fits,\n    maps,\n    fit_labels=fit_labels,\n    map_kwargs=map_kwargs,\n    filename=\"Diffusion_tensor_measures_from_DTI_and_DKI.png\",\n)"
      ]
    },
    {
      "cell_type": "markdown",
      "metadata": {},
      "source": [
        ".. rst-class:: centered small fst-italic fw-semibold\n\nDiffusion tensor measures obtained from the diffusion tensor estimated\nfrom DKI (upper panels) and DTI (lower panels).\n\n\nDTI's diffusion estimates present lower values than DKI's estimates,\nshowing that DTI's diffusion measurements are underestimated by higher\norder effects (for detailed discussion on this see\n:footcite:p:`NetoHenriques2021a`.\n\nIn addition to the standard diffusion statistics, the DiffusionKurtosisFit\ninstance can be used to estimate the non-Gaussian measures of mean kurtosis\n(MK), the radial kurtosis (RK) and the axial kurtosis (AK).\n\n"
      ]
    },
    {
      "cell_type": "code",
      "execution_count": null,
      "metadata": {
        "collapsed": false
      },
      "outputs": [],
      "source": [
        "maps = [\"mk\", \"rk\", \"ak\"]\ncompare_maps(\n    [dkifit],\n    maps,\n    fit_labels=[\"DKI\"],\n    map_kwargs={\"vmin\": 0, \"vmax\": 1.5},\n    filename=\"DKI_standard_measures.png\",\n)"
      ]
    },
    {
      "cell_type": "markdown",
      "metadata": {},
      "source": [
        ".. rst-class:: centered small fst-italic fw-semibold\n\nDKI standard kurtosis measures.\n\n\nThe non-Gaussian behaviour of the diffusion signal is expected to be higher\nwhen tissue water is confined by multiple compartments. MK is, therefore,\nhigher in white matter since it is highly compartmentalized by myelin\nsheaths. These water diffusion compartmentalization is expected to be more\npronounced perpendicularly to white matter fibers and thus the RK map\npresents higher amplitudes than the AK map.\n\n## Mitigating 'Black' Voxels / Holes in DKI metrics\n\nIt is important to note that kurtosis estimates might present implausible\nnegative estimates in deep white matter regions that will manifest as\n'Black' voxels or holes in DKI metrics (e.g. see the band of dark voxels in\nthe  RK map above). These negative kurtosis values are artifactual and might\nbe induced by:\n1) low radial diffusivities of aligned white matter - since it is very hard\nto capture non-Gaussian information in radial direction due to its low\ndiffusion decays, radial kurtosis estimates (and consequently the mean\nkurtosis estimates) might have low robustness and tendency to exhibit\nnegative values :footcite:p:`NetoHenriques2012`, :footcite:p:`Tabesh2011`;\n2) Gibbs artifacts - MRI images might be corrupted by signal oscillation\nartifact between tissue's edges if an inadequate number of high frequencies\nof the k-space is sampled. These oscillations might have different signs on\nimages acquired with different diffusion-weighted and inducing negative\nbiases in kurtosis parametric maps :footcite:p:`Perrone2015`,\n:footcite:p:`NetoHenriques2018`. 3) Underestimation of b0 signals - Due to\nphysiological or noise artifacts, the signals acquired at b-value=0 may be\nartifactually lower than the diffusion-weighted signals acquired for the\ndifferent b-values. In this case, the log diffusion-weighted signal decay may\nappear to be concave rather than showing to be convex (as one would typically\nexpect), leading to negative kurtosis value estimates.\n\nGiven the above, one can try to suppress the 'Black' voxel / holes in DKI\nmetrics by:\n1) using more advanced noise and artifact suppression algorithms, e.g.,\nas mentioned above, the MP-PCA denoising\n(`sphx_glr_examples_built_preprocessing_denoise_mppca.py`), other\ndenoising alternatives such as Patch2self\n(`sphx_glr_examples_built_preprocessing_denoise_patch2self.py`) or\nincorporating methods for Gibbs Artifact Unringing\n(`sphx_glr_examples_built_preprocessing_denoise_gibbs.py`)\nalgorithms.\n2) computing the kurtosis values from powder-averaged diffusion-weighted\nsignals which are known to be less sensitive to implausible negative\nestimates. The details on how to compute the kurtosis from powder-averaged\nsignals in DIPY are described in the following tutorial\n(`sphx_glr_examples_built_reconstruction_reconst_msdki.py`).\n3) computing alternative definitions of mean and radial kurtosis such as\nthe mean kurtosis tensor (MKT) and radial tensor kurtosis (RTK) metrics (see\nbelow).\n4) constrained optimization to ensure that the fitted parameters\nare physically plausible :footcite:p:`DelaHaije2020` (see below).\n\n## Alternative DKI metrics\n\nIn addition to the standard mean, axial, and radial kurtosis metrics shown\nabove, alternative metrics can be computed from DKI, e.g.:\n1) the mean kurtosis tensor (MKT) - defined as the trace of the kurtosis\ntensor - is a quantity that provides a contrast similar to the standard MK\nbut it is more robust to noise artifacts :footcite:p:`Hansen2013`,\n:footcite:p:`NetoHenriques2021a`. 2) the radial tensor kurtosis (RTK) provides\nan alternative definition to standard radial kurtosis (RK) that, as MKT, is\nmore robust to noise artifacts :footcite:p:`Hansen2013`.\n3) the kurtosis fractional anisotropy (KFA) that quantifies the anisotropy of\nthe kurtosis tensor :footcite:p:`Glenn2015`, which provides different\ninformation than the FA measures from the diffusion tensor.\n\nThese measures are computed and illustrated below:\n\n"
      ]
    },
    {
      "cell_type": "code",
      "execution_count": null,
      "metadata": {
        "collapsed": false
      },
      "outputs": [],
      "source": [
        "compare_maps(\n    [dkifit],\n    [\"mkt\", \"rtk\", \"kfa\"],\n    fit_labels=[\"DKI\"],\n    map_kwargs=[\n        {\"vmin\": 0, \"vmax\": 1.5},\n        {\"vmin\": 0, \"vmax\": 1.5},\n        {\"vmin\": 0, \"vmax\": 1},\n    ],\n    filename=\"Alternative_DKI_metrics.png\",\n)"
      ]
    },
    {
      "cell_type": "markdown",
      "metadata": {},
      "source": [
        ".. rst-class:: centered small fst-italic fw-semibold\n\nAlternative DKI measures.\n\n\n## Constrained optimization for DKI\n\nWhen instantiating the DiffusionKurtosisModel, the model can be set up to use\nconstraints with the option `fit_method='CLS'` (for ordinary least squares)\nor with `fit_method='CWLS'` (for weighted least squares). Constrained fitting\ntakes more time than unconstrained fitting, but is generally recommended to\nprevent physically implausible parameter estimates\n:footcite:p:`DelaHaije2020`. For performance purposes it is recommended to use\nthe MOSEK solver (https://www.mosek.com/) by setting ``cvxpy_solver='MOSEK'``.\nDifferent solvers can differ greatly in terms of runtime and solution\naccuracy, and in some cases solvers may show warnings about convergence or\nrecommended option settings.\n\n<div class=\"alert alert-info\"><h4>Note</h4><p>In certain atypical scenarios, the DKI+ constraints could potentially be\n   too restrictive. Always check the results of a constrained fit with their\n   unconstrained counterpart to verify that there are no unexpected\n   qualitative differences.</p></div>\n\n"
      ]
    },
    {
      "cell_type": "code",
      "execution_count": null,
      "metadata": {
        "collapsed": false
      },
      "outputs": [],
      "source": [
        "dkimodel_plus = dki.DiffusionKurtosisModel(gtab, fit_method=\"CLS\")\ndkifit_plus = dkimodel_plus.fit(data[:, :, 9:10], mask=mask[:, :, 9:10])"
      ]
    },
    {
      "cell_type": "markdown",
      "metadata": {},
      "source": [
        "We can now compare the kurtosis measures obtained with the constrained fit to\nthe measures obtained before, where we see that many of the artifactual\nvoxels have now been corrected. In particular outliers caused by pure noise\n-- instead of for example acquisition artifacts -- can be corrected with\nthis method.\n\n"
      ]
    },
    {
      "cell_type": "code",
      "execution_count": null,
      "metadata": {
        "collapsed": false
      },
      "outputs": [],
      "source": [
        "compare_maps(\n    [dkifit, dkifit_plus],\n    [\"mkt\", \"rtk\", \"ak\"],\n    fit_labels=[\"DKI\", \"DKI+\"],\n    map_kwargs={\"vmin\": 0, \"vmax\": 1.5},\n    filename=\"Alternative_DKI_measures_comparison_to_DKIplus.png\",\n)"
      ]
    },
    {
      "cell_type": "markdown",
      "metadata": {},
      "source": [
        ".. rst-class:: centered small fst-italic fw-semibold\n\nDKI standard kurtosis measures obtained with constrained optimization.\n\n### References\n\n.. footbibliography::\n\n\n"
      ]
    },
    {
      "cell_type": "markdown",
      "metadata": {},
      "source": [
        ".. include:: ../../links_names.inc\n\n\n"
      ]
    }
  ],
  "metadata": {
    "kernelspec": {
      "display_name": "Python 3",
      "language": "python",
      "name": "python3"
    },
    "language_info": {
      "codemirror_mode": {
        "name": "ipython",
        "version": 3
      },
      "file_extension": ".py",
      "mimetype": "text/x-python",
      "name": "python",
      "nbconvert_exporter": "python",
      "pygments_lexer": "ipython3",
      "version": "3.12.8"
    }
  },
  "nbformat": 4,
  "nbformat_minor": 0
}