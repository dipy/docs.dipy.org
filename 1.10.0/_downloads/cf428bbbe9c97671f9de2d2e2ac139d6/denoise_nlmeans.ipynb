{
  "cells": [
    {
      "cell_type": "markdown",
      "metadata": {},
      "source": [
        "\n# Denoise images using Non-Local Means (NLMEANS)\n\nUsing the non-local means filter :footcite:p:`Coupe2008` and\n:footcite:p:`Coupe2012` and you can denoise 3D or 4D images and boost the SNR of\nyour datasets. You can also decide between modeling the noise as Gaussian or\nRician (default).\n\nWe start by loading the necessary modules\n"
      ]
    },
    {
      "cell_type": "code",
      "execution_count": null,
      "metadata": {
        "collapsed": false
      },
      "outputs": [],
      "source": [
        "from time import time\n\nimport matplotlib.pyplot as plt\nimport numpy as np\n\nfrom dipy.data import get_fnames\nfrom dipy.denoise.nlmeans import nlmeans\nfrom dipy.denoise.noise_estimate import estimate_sigma\nfrom dipy.io.image import load_nifti, save_nifti"
      ]
    },
    {
      "cell_type": "markdown",
      "metadata": {},
      "source": [
        "Then, let's fetch and load a T1 data from Stanford University\n\n"
      ]
    },
    {
      "cell_type": "code",
      "execution_count": null,
      "metadata": {
        "collapsed": false
      },
      "outputs": [],
      "source": [
        "t1_fname = get_fnames(name=\"stanford_t1\")\ndata, affine = load_nifti(t1_fname)\n\nmask = data > 1500\n\nprint(\"vol size\", data.shape)"
      ]
    },
    {
      "cell_type": "markdown",
      "metadata": {},
      "source": [
        "In order to call ``non_local_means`` first you need to estimate the standard\ndeviation of the noise. We have used N=32 since the Stanford dataset was\nacquired on a 3T GE scanner with a 32 array head coil.\n\n"
      ]
    },
    {
      "cell_type": "code",
      "execution_count": null,
      "metadata": {
        "collapsed": false
      },
      "outputs": [],
      "source": [
        "sigma = estimate_sigma(data, N=32)"
      ]
    },
    {
      "cell_type": "markdown",
      "metadata": {},
      "source": [
        "Calling the main function ``non_local_means``\n\n"
      ]
    },
    {
      "cell_type": "code",
      "execution_count": null,
      "metadata": {
        "collapsed": false
      },
      "outputs": [],
      "source": [
        "t = time()\n\nden = nlmeans(data, sigma=sigma, mask=mask, patch_radius=1, block_radius=2, rician=True)\n\nprint(\"total time\", time() - t)"
      ]
    },
    {
      "cell_type": "markdown",
      "metadata": {},
      "source": [
        "Let us plot the axial slice of the denoised output\n\n"
      ]
    },
    {
      "cell_type": "code",
      "execution_count": null,
      "metadata": {
        "collapsed": false
      },
      "outputs": [],
      "source": [
        "axial_middle = data.shape[2] // 2\n\nbefore = data[:, :, axial_middle].T\nafter = den[:, :, axial_middle].T\n\ndifference = np.abs(after.astype(np.float64) - before.astype(np.float64))\n\ndifference[~mask[:, :, axial_middle].T] = 0\n\n\nfig, ax = plt.subplots(1, 3)\nax[0].imshow(before, cmap=\"gray\", origin=\"lower\")\nax[0].set_title(\"before\")\nax[1].imshow(after, cmap=\"gray\", origin=\"lower\")\nax[1].set_title(\"after\")\nax[2].imshow(difference, cmap=\"gray\", origin=\"lower\")\nax[2].set_title(\"difference\")\n\nplt.savefig(\"denoised.png\", bbox_inches=\"tight\")"
      ]
    },
    {
      "cell_type": "markdown",
      "metadata": {},
      "source": [
        ".. rst-class:: centered small fst-italic fw-semibold\n\nShowing axial slice before (left) and after (right) NLMEANS denoising\n\n"
      ]
    },
    {
      "cell_type": "code",
      "execution_count": null,
      "metadata": {
        "collapsed": false
      },
      "outputs": [],
      "source": [
        "save_nifti(\"denoised.nii.gz\", den, affine)"
      ]
    },
    {
      "cell_type": "markdown",
      "metadata": {},
      "source": [
        "An improved version of non-local means denoising is adaptive soft coefficient\nmatching, please refer to\n`sphx_glr_examples_built_preprocessing_denoise_ascm.py` for more\ndetails.\n\n## References\n\n.. footbibliography::\n\n\n"
      ]
    },
    {
      "cell_type": "markdown",
      "metadata": {},
      "source": [
        ".. include:: ../../links_names.inc\n\n\n"
      ]
    }
  ],
  "metadata": {
    "kernelspec": {
      "display_name": "Python 3",
      "language": "python",
      "name": "python3"
    },
    "language_info": {
      "codemirror_mode": {
        "name": "ipython",
        "version": 3
      },
      "file_extension": ".py",
      "mimetype": "text/x-python",
      "name": "python",
      "nbconvert_exporter": "python",
      "pygments_lexer": "ipython3",
      "version": "3.9.18"
    }
  },
  "nbformat": 4,
  "nbformat_minor": 0
}