{
  "cells": [
    {
      "cell_type": "markdown",
      "metadata": {},
      "source": [
        "\n# Extracting AFQ tract profiles from segmented bundles\n\nIn this example, we will extract the values of a statistic from a\nvolume, using the coordinates along the length of a bundle. These are called\n`tract profiles`\n\nOne of the challenges of extracting tract profiles is that some of the\nstreamlines in a bundle may diverge significantly from the bundle in some\nlocations. To overcome this challenge, we will use a strategy similar to that\ndescribed in :footcite:p:`Yeatman2012`: We will weight the contribution of each\nstreamline to the bundle profile based on how far this streamline is from the\nmean trajectory of the bundle at that location.\n"
      ]
    },
    {
      "cell_type": "code",
      "execution_count": null,
      "metadata": {
        "collapsed": false
      },
      "outputs": [],
      "source": [
        "import os.path as op\n\nimport matplotlib.pyplot as plt\nimport numpy as np\n\nfrom dipy.data.fetcher import fetch_hbn, get_two_hcp842_bundles\nfrom dipy.io.image import load_nifti\nfrom dipy.io.streamline import load_trk\nfrom dipy.segment.clustering import QuickBundles\nfrom dipy.segment.featurespeed import ResampleFeature\nfrom dipy.segment.metricspeed import AveragePointwiseEuclideanMetric\nimport dipy.stats.analysis as dsa\nimport dipy.tracking.streamline as dts"
      ]
    },
    {
      "cell_type": "markdown",
      "metadata": {},
      "source": [
        "To demonstrate this, we will use data from the Healthy Brain Network (HBN)\nstudy :footcite:p:`Alexander2017` that has already been processed\n:footcite:p:`RichieHalford2022`. For this demonstration, we will use only the\nleft arcuate fasciculus (ARC) and the left corticospinal tract (CST) from the\nsubject NDARAA948VFH.\n\n"
      ]
    },
    {
      "cell_type": "code",
      "execution_count": null,
      "metadata": {
        "collapsed": false
      },
      "outputs": [],
      "source": [
        "subject = \"NDARAA948VFH\"\nsession = \"HBNsiteRU\"\n\nfdict, path = fetch_hbn([subject], include_afq=True)\n\nafq_path = op.join(path, \"derivatives\", \"afq\", f\"sub-{subject}\", f\"ses-{session}\")"
      ]
    },
    {
      "cell_type": "markdown",
      "metadata": {},
      "source": [
        "We can use the `dipy.io` API to read in the bundles from file.\n`load_trk` returns both the streamlines, as well as header information, and\nthe `streamlines` attribute will give us access to the sequence of arrays\nthat contain the streamline coordinates.\n\n"
      ]
    },
    {
      "cell_type": "code",
      "execution_count": null,
      "metadata": {
        "collapsed": false
      },
      "outputs": [],
      "source": [
        "cst_l_file = op.join(\n    afq_path,\n    \"clean_bundles\",\n    f\"sub-{subject}_ses-{session}_acq-64dir_space-T1w_desc-preproc_dwi_space\"\n    \"-RASMM_model-CSD_desc-prob-afq-CST_L_tractography.trk\",\n)\n\narc_l_file = op.join(\n    afq_path,\n    \"clean_bundles\",\n    f\"sub-{subject}_ses-{session}_acq-64dir_space-T1w_desc-preproc_dwi_space\"\n    \"-RASMM_model-CSD_desc-prob-afq-ARC_L_tractography.trk\",\n)\n\ncst_l = load_trk(cst_l_file, reference=\"same\", bbox_valid_check=False).streamlines\narc_l = load_trk(arc_l_file, reference=\"same\", bbox_valid_check=False).streamlines"
      ]
    },
    {
      "cell_type": "markdown",
      "metadata": {},
      "source": [
        "In the next step, we need to make sure that all the streamlines in each\nbundle are oriented the same way. For example, for the CST, we want to make\nsure that all the bundles have their cortical termination at one end of the\nstreamline. This is so that when we later extract values from a volume,\nwe will not have different streamlines going in opposite directions.\n\nTo orient all the streamlines in each bundle, we will create standard\nstreamlines, by finding the centroids of the left ARC and CST bundle models.\n\nThe advantage of using the model bundles is that we can use the same\nstandard for different subjects, which means that we'll get the same\norientation of the streamlines in all subjects.\n\n"
      ]
    },
    {
      "cell_type": "code",
      "execution_count": null,
      "metadata": {
        "collapsed": false
      },
      "outputs": [],
      "source": [
        "model_arc_l_file, model_cst_l_file = get_two_hcp842_bundles()\n\nmodel_arc_l = load_trk(\n    model_arc_l_file, reference=\"same\", bbox_valid_check=False\n).streamlines\nmodel_cst_l = load_trk(\n    model_cst_l_file, reference=\"same\", bbox_valid_check=False\n).streamlines\n\n\nfeature = ResampleFeature(nb_points=100)\nmetric = AveragePointwiseEuclideanMetric(feature)"
      ]
    },
    {
      "cell_type": "markdown",
      "metadata": {},
      "source": [
        "Since we are going to include all of the streamlines in the single cluster\nfrom the streamlines, we set the threshold to `np.inf`. We pull out the\ncentroid as the standard using QuickBundles :footcite:p:`Garyfallidis2012a`.\n\n"
      ]
    },
    {
      "cell_type": "code",
      "execution_count": null,
      "metadata": {
        "collapsed": false
      },
      "outputs": [],
      "source": [
        "qb = QuickBundles(threshold=np.inf, metric=metric)\n\ncluster_cst_l = qb.cluster(model_cst_l)\nstandard_cst_l = cluster_cst_l.centroids[0]\n\ncluster_af_l = qb.cluster(model_arc_l)\nstandard_af_l = cluster_af_l.centroids[0]"
      ]
    },
    {
      "cell_type": "markdown",
      "metadata": {},
      "source": [
        "We use the centroid streamline for each atlas bundle as the standard to\norient all of the streamlines in each bundle from the individual subject.\nHere, the affine used is the one from the transform between the atlas and\nindividual tractogram. This is so that the orienting is done relative to the\nspace of the individual, and not relative to the atlas space.\n\n"
      ]
    },
    {
      "cell_type": "code",
      "execution_count": null,
      "metadata": {
        "collapsed": false
      },
      "outputs": [],
      "source": [
        "oriented_cst_l = dts.orient_by_streamline(cst_l, standard_cst_l)\noriented_arc_l = dts.orient_by_streamline(arc_l, standard_af_l)"
      ]
    },
    {
      "cell_type": "markdown",
      "metadata": {},
      "source": [
        "Tract profiles are created from a scalar property of the volume. Here, we\nread volumetric data from an image corresponding to the FA calculated in\nthis subject with the diffusion tensor imaging (DTI) model.\n\n"
      ]
    },
    {
      "cell_type": "code",
      "execution_count": null,
      "metadata": {
        "collapsed": false
      },
      "outputs": [],
      "source": [
        "fa, fa_affine = load_nifti(\n    op.join(\n        afq_path,\n        f\"sub-{subject}_ses-{session}_acq-64dir_space-T1w_desc\"\n        \"-preproc_dwi_model-DTI_FA.nii.gz\",\n    )\n)"
      ]
    },
    {
      "cell_type": "markdown",
      "metadata": {},
      "source": [
        "As mentioned at the outset, we would like to downweight the streamlines that\nare far from the core trajectory of the tracts. We calculate\nweights for each bundle:\n\n"
      ]
    },
    {
      "cell_type": "code",
      "execution_count": null,
      "metadata": {
        "collapsed": false
      },
      "outputs": [],
      "source": [
        "w_cst_l = dsa.gaussian_weights(oriented_cst_l)\nw_arc_l = dsa.gaussian_weights(oriented_arc_l)"
      ]
    },
    {
      "cell_type": "markdown",
      "metadata": {},
      "source": [
        "And then use the weights to calculate the tract profiles for each bundle\n\n"
      ]
    },
    {
      "cell_type": "code",
      "execution_count": null,
      "metadata": {
        "collapsed": false
      },
      "outputs": [],
      "source": [
        "profile_cst_l = dsa.afq_profile(fa, oriented_cst_l, affine=fa_affine, weights=w_cst_l)\n\nprofile_af_l = dsa.afq_profile(fa, oriented_arc_l, affine=fa_affine, weights=w_arc_l)\n\nfig, (ax1, ax2) = plt.subplots(1, 2)\n\nax1.plot(profile_cst_l)\nax1.set_ylabel(\"Fractional anisotropy\")\nax1.set_xlabel(\"Node along CST\")\nax2.plot(profile_af_l)\nax2.set_xlabel(\"Node along ARC\")\nfig.savefig(\"tract_profiles\")"
      ]
    },
    {
      "cell_type": "markdown",
      "metadata": {},
      "source": [
        ".. rst-class:: centered small fst-italic fw-semibold\n\nBundle profiles for the fractional anisotropy in the left CST (left) and\nleft AF (right).\n\n\n## References\n\n.. footbibliography::\n\n\n"
      ]
    },
    {
      "cell_type": "markdown",
      "metadata": {},
      "source": [
        ".. include:: ../../links_names.inc\n\n\n"
      ]
    }
  ],
  "metadata": {
    "kernelspec": {
      "display_name": "Python 3",
      "language": "python",
      "name": "python3"
    },
    "language_info": {
      "codemirror_mode": {
        "name": "ipython",
        "version": 3
      },
      "file_extension": ".py",
      "mimetype": "text/x-python",
      "name": "python",
      "nbconvert_exporter": "python",
      "pygments_lexer": "ipython3",
      "version": "3.12.8"
    }
  },
  "nbformat": 4,
  "nbformat_minor": 0
}