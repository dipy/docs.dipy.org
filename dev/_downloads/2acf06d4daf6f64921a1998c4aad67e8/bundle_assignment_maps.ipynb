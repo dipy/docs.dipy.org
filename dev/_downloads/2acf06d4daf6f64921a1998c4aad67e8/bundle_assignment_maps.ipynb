{
  "cells": [
    {
      "cell_type": "markdown",
      "metadata": {},
      "source": [
        "\n# BUAN Bundle Assignment Maps Creation\n\nThis example explains how we can use BUAN :footcite:p:`Chandio2020a` to create\nassignment maps on a bundle. Divide bundle into N smaller segments.\n\n\nFirst import the necessary modules.\n"
      ]
    },
    {
      "cell_type": "code",
      "execution_count": null,
      "metadata": {
        "collapsed": false
      },
      "outputs": [],
      "source": [
        "import numpy as np\n\nfrom dipy.data import fetch_bundle_atlas_hcp842, get_two_hcp842_bundles\nfrom dipy.io.streamline import load_trk\nfrom dipy.stats.analysis import assignment_map\nfrom dipy.viz import actor, window"
      ]
    },
    {
      "cell_type": "markdown",
      "metadata": {},
      "source": [
        "Download and read data for this tutorial\n\n"
      ]
    },
    {
      "cell_type": "code",
      "execution_count": null,
      "metadata": {
        "collapsed": false
      },
      "outputs": [],
      "source": [
        "atlas_file, atlas_folder = fetch_bundle_atlas_hcp842()"
      ]
    },
    {
      "cell_type": "markdown",
      "metadata": {},
      "source": [
        "Read AF left and CST left bundles from already fetched atlas data to use them\nas model bundles\n\n"
      ]
    },
    {
      "cell_type": "code",
      "execution_count": null,
      "metadata": {
        "collapsed": false
      },
      "outputs": [],
      "source": [
        "model_af_l_file, model_cst_l_file = get_two_hcp842_bundles()\n\nsft_af_l = load_trk(model_af_l_file, reference=\"same\", bbox_valid_check=False)\nmodel_af_l = sft_af_l.streamlines"
      ]
    },
    {
      "cell_type": "markdown",
      "metadata": {},
      "source": [
        "let's visualize Arcuate Fasiculus Left (AF_L) bundle before assignment maps\n\n"
      ]
    },
    {
      "cell_type": "code",
      "execution_count": null,
      "metadata": {
        "collapsed": false
      },
      "outputs": [],
      "source": [
        "interactive = False\n\nscene = window.Scene()\nscene.SetBackground(1, 1, 1)\nscene.add(actor.line(model_af_l, fake_tube=True, linewidth=6))\nscene.set_camera(\n    focal_point=(-18.17281532, -19.55606842, 6.92485857),\n    position=(-360.11, -30.46, -40.44),\n    view_up=(-0.03, 0.028, 0.89),\n)\nwindow.record(scene=scene, out_path=\"af_l_before_assignment_maps.png\", size=(600, 600))\nif interactive:\n    window.show(scene)"
      ]
    },
    {
      "cell_type": "markdown",
      "metadata": {},
      "source": [
        ".. rst-class:: centered small fst-italic fw-semibold\n\nAF_L before assignment maps\n\n\n\nCreating 100 bundle assignment maps on AF_L using BUAN\n:footcite:p:`Chandio2020a`\n\n"
      ]
    },
    {
      "cell_type": "code",
      "execution_count": null,
      "metadata": {
        "collapsed": false
      },
      "outputs": [],
      "source": [
        "rng = np.random.default_rng()\n\nn = 100\nindx = assignment_map(model_af_l, model_af_l, n)\nindx = np.array(indx)\n\ncolors = [rng.random(3) for si in range(n)]\n\ndisks_color = []\nfor i in range(len(indx)):\n    disks_color.append(tuple(colors[indx[i]]))"
      ]
    },
    {
      "cell_type": "markdown",
      "metadata": {},
      "source": [
        "let's visualize Arcuate Fasiculus Left (AF_L) bundle after assignment maps\n\n"
      ]
    },
    {
      "cell_type": "code",
      "execution_count": null,
      "metadata": {
        "collapsed": false
      },
      "outputs": [],
      "source": [
        "interactive = False\n\nscene = window.Scene()\nscene.SetBackground(1, 1, 1)\nscene.add(actor.line(model_af_l, fake_tube=True, colors=disks_color, linewidth=6))\nscene.set_camera(\n    focal_point=(-18.17281532, -19.55606842, 6.92485857),\n    position=(-360.11, -30.46, -40.44),\n    view_up=(-0.03, 0.028, 0.89),\n)\nwindow.record(scene=scene, out_path=\"af_l_after_assignment_maps.png\", size=(600, 600))\nif interactive:\n    window.show(scene)"
      ]
    },
    {
      "cell_type": "markdown",
      "metadata": {},
      "source": [
        ".. rst-class:: centered small fst-italic fw-semibold\n\nAF_L after assignment maps\n\n\n## References\n\n.. footbibliography::\n\n\n"
      ]
    },
    {
      "cell_type": "markdown",
      "metadata": {},
      "source": [
        ".. include:: ../../links_names.inc\n\n\n"
      ]
    }
  ],
  "metadata": {
    "kernelspec": {
      "display_name": "Python 3",
      "language": "python",
      "name": "python3"
    },
    "language_info": {
      "codemirror_mode": {
        "name": "ipython",
        "version": 3
      },
      "file_extension": ".py",
      "mimetype": "text/x-python",
      "name": "python",
      "nbconvert_exporter": "python",
      "pygments_lexer": "ipython3",
      "version": "3.12.8"
    }
  },
  "nbformat": 4,
  "nbformat_minor": 0
}