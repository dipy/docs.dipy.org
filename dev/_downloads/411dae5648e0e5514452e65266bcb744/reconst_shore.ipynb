{
  "cells": [
    {
      "cell_type": "markdown",
      "metadata": {},
      "source": [
        "\n# Continuous and analytical diffusion signal modelling with 3D-SHORE\n\nWe show how to model the diffusion signal as a linear combination\nof continuous functions from the SHORE basis :footcite:p:`Merlet2013`,\n:footcite:p:`Ozarslan2008`, :footcite:p:`Ozarslan2009`. We also compute the\nanalytical Orientation Distribution Function (ODF).\n\nFirst import the necessary modules:\n"
      ]
    },
    {
      "cell_type": "code",
      "execution_count": null,
      "metadata": {
        "collapsed": false
      },
      "outputs": [],
      "source": [
        "from dipy.core.gradients import gradient_table\nfrom dipy.data import get_fnames, get_sphere\nfrom dipy.io.gradients import read_bvals_bvecs\nfrom dipy.io.image import load_nifti\nfrom dipy.reconst.shore import ShoreModel\nfrom dipy.viz import actor, window"
      ]
    },
    {
      "cell_type": "markdown",
      "metadata": {},
      "source": [
        "Download and read the data for this tutorial.\n\n"
      ]
    },
    {
      "cell_type": "code",
      "execution_count": null,
      "metadata": {
        "collapsed": false
      },
      "outputs": [],
      "source": [
        "# ``fetch_isbi2013_2shell()`` provides data from the `ISBI HARDI contest 2013\n# <http://hardi.epfl.ch/static/events/2013_ISBI/>`_ acquired for two shells at\n# b-values 1500 $s/mm^2$ and 2500 $s/mm^2$.\n\n# The six parameters of these two functions define the ROI where to reconstruct\n# the data. They respectively correspond to ``(xmin,xmax,ymin,ymax,zmin,zmax)``\n# with x, y, z and the three axis defining the spatial positions of the voxels.\n\nfraw, fbval, fbvec = get_fnames(name=\"isbi2013_2shell\")\n\ndata, affine = load_nifti(fraw)\nbvals, bvecs = read_bvals_bvecs(fbval, fbvec)\ngtab = gradient_table(bvals, bvecs=bvecs)\ndata_small = data[10:40, 22, 10:40]\n\nprint(f\"data.shape {data.shape}\")"
      ]
    },
    {
      "cell_type": "markdown",
      "metadata": {},
      "source": [
        "``data`` contains the voxel data and ``gtab`` contains a ``GradientTable``\nobject (gradient information e.g. b-values). For example, to show the\nb-values it is possible to write::\n\n    print(gtab.bvals)\n\nInstantiate the SHORE Model.\n\n``radial_order`` is the radial order of the SHORE basis.\n\n``zeta`` is the scale factor of the SHORE basis.\n\n``lambdaN`` and ``lambdaL`` are the radial and angular regularization\nconstants, respectively.\n\nFor details regarding these four parameters see :footcite:p:`Cheng2011` and\n:footcite:p:`Merlet2013`.\n\n"
      ]
    },
    {
      "cell_type": "code",
      "execution_count": null,
      "metadata": {
        "collapsed": false
      },
      "outputs": [],
      "source": [
        "radial_order = 6\nzeta = 700\nlambdaN = 1e-8\nlambdaL = 1e-8\nasm = ShoreModel(\n    gtab, radial_order=radial_order, zeta=zeta, lambdaN=lambdaN, lambdaL=lambdaL\n)"
      ]
    },
    {
      "cell_type": "markdown",
      "metadata": {},
      "source": [
        "Fit the SHORE model to the data\n\n"
      ]
    },
    {
      "cell_type": "code",
      "execution_count": null,
      "metadata": {
        "collapsed": false
      },
      "outputs": [],
      "source": [
        "asmfit = asm.fit(data_small)"
      ]
    },
    {
      "cell_type": "markdown",
      "metadata": {},
      "source": [
        "Load an odf reconstruction sphere\n\n"
      ]
    },
    {
      "cell_type": "code",
      "execution_count": null,
      "metadata": {
        "collapsed": false
      },
      "outputs": [],
      "source": [
        "sphere = get_sphere(name=\"repulsion724\")"
      ]
    },
    {
      "cell_type": "markdown",
      "metadata": {},
      "source": [
        "Compute the ODFs\n\n"
      ]
    },
    {
      "cell_type": "code",
      "execution_count": null,
      "metadata": {
        "collapsed": false
      },
      "outputs": [],
      "source": [
        "odf = asmfit.odf(sphere)\nprint(f\"odf.shape {odf.shape}\")"
      ]
    },
    {
      "cell_type": "markdown",
      "metadata": {},
      "source": [
        "Display the ODFs\n\n"
      ]
    },
    {
      "cell_type": "code",
      "execution_count": null,
      "metadata": {
        "collapsed": false
      },
      "outputs": [],
      "source": [
        "# Enables/disables interactive visualization\ninteractive = False\n\nscene = window.Scene()\nsfu = actor.odf_slicer(odf[:, None, :], sphere=sphere, colormap=\"plasma\", scale=0.5)\nsfu.RotateX(-90)\nsfu.display(y=0)\nscene.add(sfu)\nwindow.record(scene=scene, out_path=\"odfs.png\", size=(600, 600))\nif interactive:\n    window.show(scene)"
      ]
    },
    {
      "cell_type": "markdown",
      "metadata": {},
      "source": [
        ".. rst-class:: centered small fst-italic fw-semibold\n\nOrientation distribution functions.\n\n\n## References\n\n.. footbibliography::\n\n\n"
      ]
    },
    {
      "cell_type": "markdown",
      "metadata": {},
      "source": [
        ".. include:: ../../links_names.inc\n\n\n"
      ]
    }
  ],
  "metadata": {
    "kernelspec": {
      "display_name": "Python 3",
      "language": "python",
      "name": "python3"
    },
    "language_info": {
      "codemirror_mode": {
        "name": "ipython",
        "version": 3
      },
      "file_extension": ".py",
      "mimetype": "text/x-python",
      "name": "python",
      "nbconvert_exporter": "python",
      "pygments_lexer": "ipython3",
      "version": "3.10.13"
    }
  },
  "nbformat": 4,
  "nbformat_minor": 0
}