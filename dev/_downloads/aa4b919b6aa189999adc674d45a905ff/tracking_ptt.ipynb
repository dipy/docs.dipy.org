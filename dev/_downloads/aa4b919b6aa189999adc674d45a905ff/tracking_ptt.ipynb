{
  "cells": [
    {
      "cell_type": "markdown",
      "metadata": {},
      "source": [
        "\n# Parallel Transport Tractography\nParallel Transport Tractography (PTT) :footcite:p:`Aydogan2021`\n\nLet's start by importing the necessary modules.\n"
      ]
    },
    {
      "cell_type": "code",
      "execution_count": null,
      "metadata": {
        "collapsed": false
      },
      "outputs": [],
      "source": [
        "from dipy.core.gradients import gradient_table\nfrom dipy.data import default_sphere, get_fnames\nfrom dipy.io.gradients import read_bvals_bvecs\nfrom dipy.io.image import load_nifti, load_nifti_data\nfrom dipy.io.stateful_tractogram import Space, StatefulTractogram\nfrom dipy.io.streamline import save_trk\nfrom dipy.reconst.csdeconv import ConstrainedSphericalDeconvModel, auto_response_ssst\nfrom dipy.tracking.stopping_criterion import BinaryStoppingCriterion\nfrom dipy.tracking.streamline import Streamlines\nfrom dipy.tracking.tracker import ptt_tracking\nfrom dipy.tracking.utils import seeds_from_mask\nfrom dipy.viz import actor, colormap, has_fury, window\n\n# Enables/disables interactive visualization\ninteractive = False\n\nhardi_fname, hardi_bval_fname, hardi_bvec_fname = get_fnames(name=\"stanford_hardi\")\nlabel_fname = get_fnames(name=\"stanford_labels\")\n\ndata, affine, hardi_img = load_nifti(hardi_fname, return_img=True)\nlabels = load_nifti_data(label_fname)\nbvals, bvecs = read_bvals_bvecs(hardi_bval_fname, hardi_bvec_fname)\ngtab = gradient_table(bvals, bvecs=bvecs)\n\nseed_mask = labels == 2\nseeds = seeds_from_mask(seed_mask, affine, density=2)\n\nwhite_matter = (labels == 1) | (labels == 2)\nsc = BinaryStoppingCriterion(white_matter)\n\nresponse, ratio = auto_response_ssst(gtab, data, roi_radii=10, fa_thr=0.7)\ncsd_model = ConstrainedSphericalDeconvModel(gtab, response, sh_order_max=6)\ncsd_fit = csd_model.fit(data, mask=white_matter)"
      ]
    },
    {
      "cell_type": "markdown",
      "metadata": {},
      "source": [
        "Prepare the Parallel Transport Tractography using the fiber ODF (FOD)\nobtained with CSD.\nStart the local tractography using ``ptt_tracking``.\n\n"
      ]
    },
    {
      "cell_type": "code",
      "execution_count": null,
      "metadata": {
        "collapsed": false
      },
      "outputs": [],
      "source": [
        "fod = csd_fit.odf(default_sphere)\n\nstreamline_generator = ptt_tracking(\n    seeds,\n    sc,\n    affine,\n    sf=fod,\n    random_seed=1,\n    sphere=default_sphere,\n    max_angle=20,\n    step_size=0.5,\n)\n\nstreamlines = Streamlines(streamline_generator)\nsft = StatefulTractogram(streamlines, hardi_img, Space.RASMM)\nsave_trk(sft, \"tractogram_ptt.trk\")\n\nif has_fury:\n    scene = window.Scene()\n    scene.add(actor.line(streamlines, colors=colormap.line_colors(streamlines)))\n    window.record(scene=scene, out_path=\"tractogram_ptt.png\", size=(800, 800))\n    if interactive:\n        window.show(scene)"
      ]
    },
    {
      "cell_type": "markdown",
      "metadata": {},
      "source": [
        ".. rst-class:: centered small fst-italic fw-semibold\n\nCorpus Callosum using ptt direction getter from PMF\n\n\n\n## References\n\n.. footbibliography::\n\n\n"
      ]
    },
    {
      "cell_type": "markdown",
      "metadata": {},
      "source": [
        ".. include:: ../../links_names.inc\n\n\n"
      ]
    }
  ],
  "metadata": {
    "kernelspec": {
      "display_name": "Python 3",
      "language": "python",
      "name": "python3"
    },
    "language_info": {
      "codemirror_mode": {
        "name": "ipython",
        "version": 3
      },
      "file_extension": ".py",
      "mimetype": "text/x-python",
      "name": "python",
      "nbconvert_exporter": "python",
      "pygments_lexer": "ipython3",
      "version": "3.10.13"
    }
  },
  "nbformat": 4,
  "nbformat_minor": 0
}