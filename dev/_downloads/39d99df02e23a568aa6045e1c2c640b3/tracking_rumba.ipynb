{
  "cells": [
    {
      "cell_type": "markdown",
      "metadata": {},
      "source": [
        "\n# Tracking with Robust Unbiased Model-BAsed Spherical Deconvolution (RUMBA-SD)\n\nHere, we demonstrate fiber tracking using a probabilistic direction getter\nand RUMBA-SD, a model introduced in :footcite:p:`CanalesRodriguez2015`. This\nmodel adapts Richardson-Lucy deconvolution by assuming Rician or Noncentral Chi\nnoise instead of Gaussian, which more accurately reflects the noise from MRI\nscanners (see also\n`sphx_glr_examples_built_reconstruction_reconst_rumba.py`). This tracking\ntutorial is an extension on\n`sphx_glr_examples_built_fiber_tracking_tracking_probabilistic.py`.\n\nWe start by loading sample data and identifying a fiber response function.\n"
      ]
    },
    {
      "cell_type": "code",
      "execution_count": null,
      "metadata": {
        "collapsed": false
      },
      "outputs": [],
      "source": [
        "import matplotlib.pyplot as plt\nfrom numpy.linalg import inv\n\nfrom dipy.core.gradients import gradient_table\nfrom dipy.data import get_fnames, small_sphere\nfrom dipy.io.gradients import read_bvals_bvecs\nfrom dipy.io.image import load_nifti, load_nifti_data\nfrom dipy.io.stateful_tractogram import Space, StatefulTractogram\nfrom dipy.io.streamline import save_trk\nfrom dipy.reconst.csdeconv import auto_response_ssst\nfrom dipy.reconst.rumba import RumbaSDModel\nfrom dipy.tracking import utils\nfrom dipy.tracking.stopping_criterion import ThresholdStoppingCriterion\nfrom dipy.tracking.streamline import Streamlines, transform_streamlines\nfrom dipy.tracking.tracker import probabilistic_tracking\nfrom dipy.viz import actor, colormap, window\n\n# Enables/disables interactive visualization\ninteractive = False\n\nhardi_fname, hardi_bval_fname, hardi_bvec_fname = get_fnames(name=\"stanford_hardi\")\nlabel_fname = get_fnames(name=\"stanford_labels\")\nt1_fname = get_fnames(name=\"stanford_t1\")\n\ndata, affine, hardi_img = load_nifti(hardi_fname, return_img=True)\nlabels = load_nifti_data(label_fname)\nt1_data, t1_aff = load_nifti(t1_fname)\nbvals, bvecs = read_bvals_bvecs(hardi_bval_fname, hardi_bvec_fname)\ngtab = gradient_table(bvals, bvecs=bvecs)\n\nseed_mask = labels == 2\nwhite_matter = (labels == 1) | (labels == 2)\nseeds = utils.seeds_from_mask(seed_mask, affine, density=2)\n\nresponse, ratio = auto_response_ssst(gtab, data, roi_radii=10, fa_thr=0.7)\n\nsphere = small_sphere"
      ]
    },
    {
      "cell_type": "markdown",
      "metadata": {},
      "source": [
        "We can now initialize a `RumbaSdModel` model and fit it globally by setting\n`voxelwise` to `False`. For this example, TV regularization (`use_tv`) will\nbe turned off for efficiency, although its usage can provide more coherent\nresults in fiber tracking. The fit will take about 5 minutes to complete.\n\n"
      ]
    },
    {
      "cell_type": "code",
      "execution_count": null,
      "metadata": {
        "collapsed": false
      },
      "outputs": [],
      "source": [
        "rumba = RumbaSDModel(\n    gtab,\n    wm_response=response[0],\n    n_iter=200,\n    voxelwise=False,\n    use_tv=False,\n    sphere=sphere,\n)\nrumba_fit = rumba.fit(data, mask=white_matter)\nodf = rumba_fit.odf()  # fODF\nf_wm = rumba_fit.f_wm  # white matter volume fractions"
      ]
    },
    {
      "cell_type": "markdown",
      "metadata": {},
      "source": [
        "To establish stopping criterion, a common technique is to use the Generalized\nFractional Anisotropy (GFA). One point of caution is that RUMBA-SD by default\nseparates the fODF from an isotropic compartment. This can bias GFA results\ncomputed on the fODF, although it will still generally be an effective\ncriterion.\n\nHowever, an alternative stopping criterion that takes advantage of this\nfeature is to use RUMBA-SD's white matter volume fraction map.\n\n"
      ]
    },
    {
      "cell_type": "code",
      "execution_count": null,
      "metadata": {
        "collapsed": false
      },
      "outputs": [],
      "source": [
        "stopping_criterion = ThresholdStoppingCriterion(f_wm, 0.25)"
      ]
    },
    {
      "cell_type": "markdown",
      "metadata": {},
      "source": [
        "We can visualize a slice of this mask.\n\n"
      ]
    },
    {
      "cell_type": "code",
      "execution_count": null,
      "metadata": {
        "collapsed": false
      },
      "outputs": [],
      "source": [
        "sli = f_wm.shape[2] // 2\nplt.figure()\n\nplt.subplot(1, 2, 1).set_axis_off()\nplt.imshow(f_wm[:, :, sli].T, cmap=\"gray\", origin=\"lower\")\n\nplt.subplot(1, 2, 2).set_axis_off()\nplt.imshow((f_wm[:, :, sli] > 0.25).T, cmap=\"gray\", origin=\"lower\")\n\nplt.savefig(\"f_wm_tracking_mask.png\")"
      ]
    },
    {
      "cell_type": "markdown",
      "metadata": {},
      "source": [
        ".. rst-class:: centered small fst-italic fw-semibold\n\nWhite matter volume fraction slice\n\n\n\nThese discrete fODFs can be used as a PMF in the\n`ProbabilisticDirectionGetter` for sampling tracking directions. The PMF\nmust be strictly non-negative; RUMBA-SD already adheres to this constraint\nso no further manipulation of the fODFs is necessary.\n\n"
      ]
    },
    {
      "cell_type": "code",
      "execution_count": null,
      "metadata": {
        "collapsed": false
      },
      "outputs": [],
      "source": [
        "streamline_generator = probabilistic_tracking(\n    seeds,\n    stopping_criterion,\n    affine,\n    step_size=0.5,\n    max_angle=30.0,\n    sphere=sphere,\n    sf=odf,\n)\nstreamlines = Streamlines(streamline_generator)\n\ncolor = colormap.line_colors(streamlines)\nstreamlines_actor = actor.streamtube(\n    list(transform_streamlines(streamlines, inv(t1_aff))), colors=color, linewidth=0.1\n)\n\nvol_actor = actor.slicer(t1_data)\nvol_actor.display(x=40)\nvol_actor2 = vol_actor.copy()\nvol_actor2.display(z=35)\n\nscene = window.Scene()\nscene.add(vol_actor)\nscene.add(vol_actor2)\nscene.add(streamlines_actor)\nif interactive:\n    window.show(scene)\n\nwindow.record(\n    scene=scene, out_path=\"tractogram_probabilistic_rumba.png\", size=(800, 800)\n)\n\nsft = StatefulTractogram(streamlines, hardi_img, Space.RASMM)\nsave_trk(sft, \"tractogram_probabilistic_rumba.trk\")"
      ]
    },
    {
      "cell_type": "markdown",
      "metadata": {},
      "source": [
        ".. rst-class:: centered small fst-italic fw-semibold\n\nRUMBA-SD tractogram\n\n\n\n## References\n\n.. footbibliography::\n\n\n"
      ]
    },
    {
      "cell_type": "markdown",
      "metadata": {},
      "source": [
        ".. include:: ../../links_names.inc\n\n\n"
      ]
    }
  ],
  "metadata": {
    "kernelspec": {
      "display_name": "Python 3",
      "language": "python",
      "name": "python3"
    },
    "language_info": {
      "codemirror_mode": {
        "name": "ipython",
        "version": 3
      },
      "file_extension": ".py",
      "mimetype": "text/x-python",
      "name": "python",
      "nbconvert_exporter": "python",
      "pygments_lexer": "ipython3",
      "version": "3.10.13"
    }
  },
  "nbformat": 4,
  "nbformat_minor": 0
}