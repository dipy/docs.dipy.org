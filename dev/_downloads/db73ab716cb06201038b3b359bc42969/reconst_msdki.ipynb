{
  "cells": [
    {
      "cell_type": "markdown",
      "metadata": {},
      "source": [
        "\n# Mean signal diffusion kurtosis imaging (MSDKI)\n\nDiffusion Kurtosis Imaging (DKI) is one of the conventional ways to estimate\nthe degree of non-Gaussian diffusion\n(see `sphx_glr_examples_built_reconstruction_reconst_dki.py`)\n:footcite:p:`Jensen2005`. However, a limitation of DKI is that its measures are\nhighly sensitive to noise and image artefacts. For instance, due to the low\nradial diffusivities, standard kurtosis estimates in regions of well-aligned\nvoxel may be corrupted by implausible low or even negative values.\n\nA way to overcome this issue is to characterize kurtosis from average signals\nacross all directions acquired for each data b-value (also known as\npowder-averaged signals). Moreover, as previously pointed\n:footcite:p:`NetoHenriques2015`, standard kurtosis measures (e.g. radial, axial\nand standard mean kurtosis) do not only depend on microstructural properties but\nalso on mesoscopic properties such as fiber dispersion or the intersection angle\nof crossing fibers. In contrary, the kurtosis from powder-average signals has\nthe advantage of not depending on the fiber distribution functions\n:footcite:p:`NetoHenriques2019`, :footcite:p:`NetoHenriques2021a`\n\nIn short, in this tutorial we show how to characterize non-Gaussian diffusion\nin a more precise way and decoupled from confounding effects of tissue\ndispersion and crossing.\n\nIn the first part of this example, we illustrate the properties of the measures\nobtained from the mean signal diffusion kurtosis imaging (MSDKI)\n:footcite:p:`NetoHenriques2018`, :footcite:p:`NetoHenriques2021a` using\nsynthetic data. Secondly, the mean signal diffusion kurtosis imaging will be\napplied to in-vivo MRI data. Finally, we show how MSDKI provides the same\ninformation than common microstructural models such as the spherical mean\ntechnique :footcite:p:`NetoHenriques2019`, :footcite:p:`Kaden2016b`.\n\nLet's import all relevant modules:\n"
      ]
    },
    {
      "cell_type": "code",
      "execution_count": null,
      "metadata": {
        "collapsed": false
      },
      "outputs": [],
      "source": [
        "import matplotlib.pyplot as plt\nimport numpy as np\n\nfrom dipy.core.gradients import gradient_table\nfrom dipy.core.sphere import HemiSphere, disperse_charges\n\n# For in-vivo data\nfrom dipy.data import get_fnames\nfrom dipy.io.gradients import read_bvals_bvecs\nfrom dipy.io.image import load_nifti\n\n# Reconstruction modules\nimport dipy.reconst.dki as dki\nimport dipy.reconst.msdki as msdki\nfrom dipy.segment.mask import median_otsu\n\n# For simulations\nfrom dipy.sims.voxel import multi_tensor"
      ]
    },
    {
      "cell_type": "markdown",
      "metadata": {},
      "source": [
        "## Testing MSDKI in synthetic data\n\nWe simulate representative diffusion-weighted signals using MultiTensor\nsimulations (for more information on this type of simulations see\n`sphx_glr_examples_built_simulations_simulate_multi_tensor.py`). For\nthis example, simulations are produced based on the sum of four diffusion\ntensors to represent the intra- and extra-cellular spaces of two fiber\npopulations. The parameters of these tensors are adjusted according to\n:footcite:p:`NetoHenriques2015` (see also\n`sphx_glr_examples_built_simulations_simulate_dki.py`).\n\n"
      ]
    },
    {
      "cell_type": "code",
      "execution_count": null,
      "metadata": {
        "collapsed": false
      },
      "outputs": [],
      "source": [
        "mevals = np.array(\n    [\n        [0.00099, 0, 0],\n        [0.00226, 0.00087, 0.00087],\n        [0.00099, 0, 0],\n        [0.00226, 0.00087, 0.00087],\n    ]\n)"
      ]
    },
    {
      "cell_type": "markdown",
      "metadata": {},
      "source": [
        "For the acquisition parameters of the synthetic data, we use 60 gradient\ndirections for two non-zero b-values (1000 and 2000 $s/mm^{2}$) and two\nzero bvalues (note that, such as the standard DKI, MSDKI requires at least\nthree different b-values).\n\n"
      ]
    },
    {
      "cell_type": "code",
      "execution_count": null,
      "metadata": {
        "collapsed": false
      },
      "outputs": [],
      "source": [
        "# Sample the spherical coordinates of 60 random diffusion-weighted directions.\nrng = np.random.default_rng()\n\nn_pts = 60\ntheta = np.pi * rng.random(n_pts)\nphi = 2 * np.pi * rng.random(n_pts)\n\n# Convert direction to cartesian coordinates.\nhsph_initial = HemiSphere(theta=theta, phi=phi)\n\n# Evenly distribute the 60 directions\nhsph_updated, potential = disperse_charges(hsph_initial, 5000)\ndirections = hsph_updated.vertices\n\n# Reconstruct acquisition parameters for 2 non-zero=b-values and 2 b0s\nbvals = np.hstack((np.zeros(2), 1000 * np.ones(n_pts), 2000 * np.ones(n_pts)))\nbvecs = np.vstack((np.zeros((2, 3)), directions, directions))\n\ngtab = gradient_table(bvals, bvecs=bvecs)"
      ]
    },
    {
      "cell_type": "markdown",
      "metadata": {},
      "source": [
        "Simulations are looped for different intra- and extra-cellular water\nvolume fractions and different intersection angles of the two-fiber\npopulations.\n\n"
      ]
    },
    {
      "cell_type": "code",
      "execution_count": null,
      "metadata": {
        "collapsed": false
      },
      "outputs": [],
      "source": [
        "# Array containing the intra-cellular volume fractions tested\nf = np.linspace(20, 80.0, num=7)\n\n# Array containing the intersection angle\nang = np.linspace(0, 90.0, num=91)\n\n# Matrix where synthetic signals will be stored\ndwi = np.empty((f.size, ang.size, bvals.size))\n\nfor f_i in range(f.size):\n    # estimating volume fractions for individual tensors\n    fractions = np.array([100 - f[f_i], f[f_i], 100 - f[f_i], f[f_i]]) * 0.5\n\n    for a_i in range(ang.size):\n        # defining the directions for individual tensors\n        angles = [(ang[a_i], 0.0), (ang[a_i], 0.0), (0.0, 0.0), (0.0, 0.0)]\n\n        # producing signals using Dipy's function multi_tensor\n        signal, sticks = multi_tensor(\n            gtab, mevals, S0=100, angles=angles, fractions=fractions, snr=None\n        )\n        dwi[f_i, a_i, :] = signal"
      ]
    },
    {
      "cell_type": "markdown",
      "metadata": {},
      "source": [
        "Now that all synthetic signals were produced, we can go forward with\nMSDKI fitting. As other Dipy's reconstruction techniques, the MSDKI model has\nto be first defined for the specific GradientTable object of the synthetic\ndata. For MSDKI, this is done by instantiating the MeanDiffusionKurtosisModel\nobject in the following way:\n\n"
      ]
    },
    {
      "cell_type": "code",
      "execution_count": null,
      "metadata": {
        "collapsed": false
      },
      "outputs": [],
      "source": [
        "msdki_model = msdki.MeanDiffusionKurtosisModel(gtab)"
      ]
    },
    {
      "cell_type": "markdown",
      "metadata": {},
      "source": [
        "MSDKI can then be fitted to the synthetic data by calling the ``fit``\nfunction of this object:\n\n"
      ]
    },
    {
      "cell_type": "code",
      "execution_count": null,
      "metadata": {
        "collapsed": false
      },
      "outputs": [],
      "source": [
        "msdki_fit = msdki_model.fit(dwi)"
      ]
    },
    {
      "cell_type": "markdown",
      "metadata": {},
      "source": [
        "From the above fit object we can extract the two main parameters of the\nMSDKI, i.e.: 1) the mean signal diffusion (MSD); and 2) the mean signal\nkurtosis (MSK)\n\n"
      ]
    },
    {
      "cell_type": "code",
      "execution_count": null,
      "metadata": {
        "collapsed": false
      },
      "outputs": [],
      "source": [
        "MSD = msdki_fit.msd\nMSK = msdki_fit.msk"
      ]
    },
    {
      "cell_type": "markdown",
      "metadata": {},
      "source": [
        "For a reference, we also calculate the mean diffusivity (MD) and mean\nkurtosis (MK) from the standard DKI.\n\n"
      ]
    },
    {
      "cell_type": "code",
      "execution_count": null,
      "metadata": {
        "collapsed": false
      },
      "outputs": [],
      "source": [
        "dki_model = dki.DiffusionKurtosisModel(gtab)\ndki_fit = dki_model.fit(dwi)\n\nMD = dki_fit.md\nMK = dki_fit.mk(min_kurtosis=0, max_kurtosis=3)"
      ]
    },
    {
      "cell_type": "markdown",
      "metadata": {},
      "source": [
        "Now we plot the results as a function of the ground truth intersection\nangle and for different volume fractions of intra-cellular water.\n\n"
      ]
    },
    {
      "cell_type": "code",
      "execution_count": null,
      "metadata": {
        "collapsed": false
      },
      "outputs": [],
      "source": [
        "fig1, axs = plt.subplots(nrows=2, ncols=2, figsize=(10, 10))\n\nfor f_i in range(f.size):\n    axs[0, 0].plot(ang, MSD[f_i], linewidth=1.0, label=f\"$F: {f[f_i]:.2f}$\")\n    axs[0, 1].plot(ang, MSK[f_i], linewidth=1.0, label=f\"$F: {f[f_i]:.2f}$\")\n    axs[1, 0].plot(ang, MD[f_i], linewidth=1.0, label=f\"$F: {f[f_i]:.2f}$\")\n    axs[1, 1].plot(ang, MK[f_i], linewidth=1.0, label=f\"$F: {f[f_i]:.2f}$\")\n\n# Adjust properties of the first panel of the figure\naxs[0, 0].set_xlabel(\"Intersection angle\")\naxs[0, 0].set_ylabel(\"MSD\")\naxs[0, 1].set_xlabel(\"Intersection angle\")\naxs[0, 1].set_ylabel(\"MSK\")\naxs[0, 1].legend(loc=\"center left\", bbox_to_anchor=(1, 0.5))\naxs[1, 0].set_xlabel(\"Intersection angle\")\naxs[1, 0].set_ylabel(\"MD\")\naxs[1, 1].set_xlabel(\"Intersection angle\")\naxs[1, 1].set_ylabel(\"MK\")\naxs[1, 1].legend(loc=\"center left\", bbox_to_anchor=(1, 0.5))\n\nplt.show()\nfig1.savefig(\"MSDKI_simulations.png\")"
      ]
    },
    {
      "cell_type": "markdown",
      "metadata": {},
      "source": [
        ".. rst-class:: centered small fst-italic fw-semibold\n\nMSDKI and DKI measures for data of two crossing synthetic fibers.\nUpper panels show the MSDKI measures: 1) mean signal diffusivity (left\npanel); and 2) mean signal kurtosis (right panel).\nFor reference, lower panels show the measures obtained by standard DKI:\n1) mean diffusivity (left panel); and 2) mean kurtosis (right panel).\nAll estimates are plotted as a function of the intersecting angle of the\ntwo crossing fibers. Different curves correspond to different ground truth\naxonal volume fraction of intra-cellular space.\n\n\nThe results of the above figure, demonstrate that both MSD and MSK are\nsensitive to axonal volume fraction (i.e. a microstructure property) but are\nindependent to the intersection angle of the two crossing fibers (i.e.\nindependent to properties regarding fiber orientation). In contrast, DKI\nmeasures seem to be independent to both axonal volume fraction and\nintersection angle.\n\n\n\n## Reconstructing diffusion data using MSDKI\n\nNow that the properties of MSDKI were illustrated, let's apply MSDKI to\nin-vivo diffusion-weighted data. As the example for the standard DKI\n(see `sphx_glr_examples_built_reconstruction_reconst_dki.py`), we use\nfetch to download a multi-shell dataset which was kindly provided by Hansen\nand Jespersen (more details about the data are provided in their paper\n:footcite:p:`Hansen2016a`). The total size of the downloaded data is 192\nMBytes, however you only need to fetch it once.\n\n"
      ]
    },
    {
      "cell_type": "code",
      "execution_count": null,
      "metadata": {
        "collapsed": false
      },
      "outputs": [],
      "source": [
        "fraw, fbval, fbvec, t1_fname = get_fnames(name=\"cfin_multib\")\n\ndata, affine = load_nifti(fraw)\nbvals, bvecs = read_bvals_bvecs(fbval, fbvec)\ngtab = gradient_table(bvals, bvecs=bvecs)"
      ]
    },
    {
      "cell_type": "markdown",
      "metadata": {},
      "source": [
        "Before fitting the data, we perform some data pre-processing. For\nillustration, we only mask the data to avoid unnecessary calculations on the\nbackground of the image; however, you could also apply other pre-processing\ntechniques. For example, some state of the art denoising algorithms are\navailable in DIPY_ (e.g. the non-local means filter\n`sphx_glr_examples_built_preprocessing_denoise_nlmeans.py` or the\nlocal pca `sphx_glr_examples_built_preprocessing_denoise_localpca.py`).\n\n"
      ]
    },
    {
      "cell_type": "code",
      "execution_count": null,
      "metadata": {
        "collapsed": false
      },
      "outputs": [],
      "source": [
        "maskdata, mask = median_otsu(\n    data, vol_idx=[0, 1], median_radius=4, numpass=2, autocrop=False, dilate=1\n)"
      ]
    },
    {
      "cell_type": "markdown",
      "metadata": {},
      "source": [
        "Now that we have loaded and pre-processed the data we can go forward\nwith MSDKI fitting. As for the synthetic data, the MSDKI model has to be\nfirst defined for the data's GradientTable object:\n\n"
      ]
    },
    {
      "cell_type": "code",
      "execution_count": null,
      "metadata": {
        "collapsed": false
      },
      "outputs": [],
      "source": [
        "msdki_model = msdki.MeanDiffusionKurtosisModel(gtab)"
      ]
    },
    {
      "cell_type": "markdown",
      "metadata": {},
      "source": [
        "The data can then be fitted by calling the ``fit`` function of this object:\n\n"
      ]
    },
    {
      "cell_type": "code",
      "execution_count": null,
      "metadata": {
        "collapsed": false
      },
      "outputs": [],
      "source": [
        "msdki_fit = msdki_model.fit(data, mask=mask)"
      ]
    },
    {
      "cell_type": "markdown",
      "metadata": {},
      "source": [
        "Let's then extract the two main MSDKI's parameters: 1) mean signal diffusion\n(MSD); and 2) mean signal kurtosis (MSK).\n\n"
      ]
    },
    {
      "cell_type": "code",
      "execution_count": null,
      "metadata": {
        "collapsed": false
      },
      "outputs": [],
      "source": [
        "MSD = msdki_fit.msd\nMSK = msdki_fit.msk"
      ]
    },
    {
      "cell_type": "markdown",
      "metadata": {},
      "source": [
        "For comparison, we calculate also the mean diffusivity (MD) and mean kurtosis\n(MK) from the standard DKI.\n\n"
      ]
    },
    {
      "cell_type": "code",
      "execution_count": null,
      "metadata": {
        "collapsed": false
      },
      "outputs": [],
      "source": [
        "dki_model = dki.DiffusionKurtosisModel(gtab)\ndki_fit = dki_model.fit(data, mask=mask)\n\nMD = dki_fit.md\nMK = dki_fit.mk(min_kurtosis=0, max_kurtosis=3)"
      ]
    },
    {
      "cell_type": "markdown",
      "metadata": {},
      "source": [
        "Let's now visualize the data using matplotlib for a selected axial slice.\n\n"
      ]
    },
    {
      "cell_type": "code",
      "execution_count": null,
      "metadata": {
        "collapsed": false
      },
      "outputs": [],
      "source": [
        "axial_slice = 9\n\nfig2, ax = plt.subplots(2, 2, figsize=(6, 6), subplot_kw={\"xticks\": [], \"yticks\": []})\n\nfig2.subplots_adjust(hspace=0.3, wspace=0.05)\n\nim0 = ax.flat[0].imshow(\n    MSD[:, :, axial_slice].T * 1000, cmap=\"gray\", vmin=0, vmax=2, origin=\"lower\"\n)\nax.flat[0].set_title(\"MSD (MSDKI)\")\n\nim1 = ax.flat[1].imshow(\n    MSK[:, :, axial_slice].T, cmap=\"gray\", vmin=0, vmax=2, origin=\"lower\"\n)\nax.flat[1].set_title(\"MSK (MSDKI)\")\n\nim2 = ax.flat[2].imshow(\n    MD[:, :, axial_slice].T * 1000, cmap=\"gray\", vmin=0, vmax=2, origin=\"lower\"\n)\nax.flat[2].set_title(\"MD (DKI)\")\n\nim3 = ax.flat[3].imshow(\n    MK[:, :, axial_slice].T, cmap=\"gray\", vmin=0, vmax=2, origin=\"lower\"\n)\nax.flat[3].set_title(\"MK (DKI)\")\n\nfig2.colorbar(im0, ax=ax.flat[0])\nfig2.colorbar(im1, ax=ax.flat[1])\nfig2.colorbar(im2, ax=ax.flat[2])\nfig2.colorbar(im3, ax=ax.flat[3])\n\nplt.show()\nfig2.savefig(\"MSDKI_invivo.png\")"
      ]
    },
    {
      "cell_type": "markdown",
      "metadata": {},
      "source": [
        ".. rst-class:: centered small fst-italic fw-semibold\n\nMSDKI measures (upper panels) and DKI standard measures (lower panels).\n\n\nThis figure shows that the contrast of in-vivo MSD and MSK maps (upper\npanels) are similar to the contrast of MD and MSK maps (lower panels);\nhowever, in the upper part we ensure that direct contributions of fiber\ndispersion were removed. The upper panels also reveal that MSDKI measures\nare let sensitive to noise artefacts than standard DKI measures (as pointed\nby :footcite:p:`NetoHenriques2018`), particularly one can observe that MSK\nmaps always present positive values in brain white matter regions, while\nimplausible negative kurtosis values are present in the MK maps in the same\nregions.\n\n## Relationship between MSDKI and SMT2\nAs showed in :footcite:p:`NetoHenriques2019`, MSDKI captures the same\ninformation than the spherical mean technique (SMT) microstructural models\n:footcite:p:`Kaden2016b`. In this way, the SMT model parameters can be\ndirectly computed from MSDKI. For instance, the axonal volume fraction (f),\nthe intrinsic diffusivity (di), and the microscopic anisotropy of the SMT\n2-compartmental model :footcite:p:`NetoHenriques2019` can be extracted using\nthe following lines of code:\n\n"
      ]
    },
    {
      "cell_type": "code",
      "execution_count": null,
      "metadata": {
        "collapsed": false
      },
      "outputs": [],
      "source": [
        "F = msdki_fit.smt2f\nDI = msdki_fit.smt2di\nuFA2 = msdki_fit.smt2uFA"
      ]
    },
    {
      "cell_type": "markdown",
      "metadata": {},
      "source": [
        "The SMT2 model parameters extracted from MSDKI are displayed below:\n\n"
      ]
    },
    {
      "cell_type": "code",
      "execution_count": null,
      "metadata": {
        "collapsed": false
      },
      "outputs": [],
      "source": [
        "fig3, ax = plt.subplots(1, 3, figsize=(9, 2.5), subplot_kw={\"xticks\": [], \"yticks\": []})\n\nfig3.subplots_adjust(hspace=0.4, wspace=0.1)\n\nim0 = ax.flat[0].imshow(\n    F[:, :, axial_slice].T, cmap=\"gray\", vmin=0, vmax=1, origin=\"lower\"\n)\nax.flat[0].set_title(\"SMT2 f (MSDKI)\")\n\nim1 = ax.flat[1].imshow(\n    DI[:, :, axial_slice].T * 1000, cmap=\"gray\", vmin=0, vmax=2, origin=\"lower\"\n)\nax.flat[1].set_title(\"SMT2 di (MSDKI)\")\n\nim2 = ax.flat[2].imshow(\n    uFA2[:, :, axial_slice].T, cmap=\"gray\", vmin=0, vmax=1, origin=\"lower\"\n)\nax.flat[2].set_title(\"SMT2 uFA (MSDKI)\")\n\nfig3.colorbar(im0, ax=ax.flat[0])\nfig3.colorbar(im1, ax=ax.flat[1])\nfig3.colorbar(im2, ax=ax.flat[2])\n\n\nplt.show()\nfig3.savefig(\"MSDKI_SMT2_invivo.png\")"
      ]
    },
    {
      "cell_type": "markdown",
      "metadata": {},
      "source": [
        ".. rst-class:: centered small fst-italic fw-semibold\n\nSMT2 model quantities extracted from MSDKI. From left to right, the figure\nshows the axonal volume fraction (f), the intrinsic diffusivity (di), and\nthe microscopic anisotropy of the SMT 2-compartmental model\n:footcite:p:`NetoHenriques2019`.\n\n\nThe similar contrast of SMT2 f-parameter maps in comparison to MSK (first\npanel of Figure 3 vs second panel of Figure 2) confirms than MSK and F\ncaptures the same tissue information but on different scales (but rescaled\nto values between 0 and 1).  It is important to note that SMT model\nparameters estimates should be used with care, because the SMT model was\nshown to be invalid:footcite:p:`NetoHenriques2019`. For instance, although\nSMT2 parameter f and uFA may be a useful normalization of the degree of\nnon-Gaussian diffusion (note than both metrics have a range between 0 and 1),\nthese cannot be interpreted as a real biophysical estimates of axonal water\nfraction and tissue microscopic anisotropy.\n\n\n### References\n\n.. footbibliography::\n\n\n"
      ]
    },
    {
      "cell_type": "markdown",
      "metadata": {},
      "source": [
        ".. include:: ../../links_names.inc\n\n\n"
      ]
    }
  ],
  "metadata": {
    "kernelspec": {
      "display_name": "Python 3",
      "language": "python",
      "name": "python3"
    },
    "language_info": {
      "codemirror_mode": {
        "name": "ipython",
        "version": 3
      },
      "file_extension": ".py",
      "mimetype": "text/x-python",
      "name": "python",
      "nbconvert_exporter": "python",
      "pygments_lexer": "ipython3",
      "version": "3.12.8"
    }
  },
  "nbformat": 4,
  "nbformat_minor": 0
}