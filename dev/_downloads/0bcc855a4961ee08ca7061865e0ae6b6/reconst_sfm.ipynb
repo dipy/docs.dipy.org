{
  "cells": [
    {
      "cell_type": "markdown",
      "metadata": {},
      "source": [
        "\n# Reconstruction with the Sparse Fascicle Model (SFM)\n\nIn this example, we will use the Sparse Fascicle Model (SFM)\n:footcite:p:`Rokem2015`, to reconstruct the fiber Orientation Distribution\nFunction (fODF) in every voxel.\n\nFirst, we import the modules we will use in this example:\n"
      ]
    },
    {
      "cell_type": "code",
      "execution_count": null,
      "metadata": {
        "collapsed": false
      },
      "outputs": [],
      "source": [
        "from dipy.core.gradients import gradient_table\nimport dipy.data as dpd\nimport dipy.direction.peaks as dpp\nfrom dipy.io.gradients import read_bvals_bvecs\nfrom dipy.io.image import load_nifti\nfrom dipy.reconst.csdeconv import auto_response_ssst\nimport dipy.reconst.sfm as sfm\nfrom dipy.viz import actor, window"
      ]
    },
    {
      "cell_type": "markdown",
      "metadata": {},
      "source": [
        "For the purpose of this example, we will use the Stanford HARDI dataset (150\ndirections, single b-value of 2000 $s/mm^2$) that can be automatically\ndownloaded. If you have not yet downloaded this data-set in one of the other\nexamples, you will need to be connected to the internet the first time you\nrun this example. The data will be stored for subsequent runs, and for use\nwith other examples.\n\n"
      ]
    },
    {
      "cell_type": "code",
      "execution_count": null,
      "metadata": {
        "collapsed": false
      },
      "outputs": [],
      "source": [
        "hardi_fname, hardi_bval_fname, hardi_bvec_fname = dpd.get_fnames(name=\"stanford_hardi\")\ndata, affine = load_nifti(hardi_fname)\n\nbvals, bvecs = read_bvals_bvecs(hardi_bval_fname, hardi_bvec_fname)\ngtab = gradient_table(bvals, bvecs=bvecs)\n\n# Enables/disables interactive visualization\ninteractive = False"
      ]
    },
    {
      "cell_type": "markdown",
      "metadata": {},
      "source": [
        "Reconstruction of the fiber ODF in each voxel guides subsequent tracking\nsteps. Here, the model is the Sparse Fascicle Model, described in\n:footcite:p:`Rokem2015`. This model reconstructs the diffusion signal as a\ncombination of the signals from different fascicles. This model can be written\nas:\n\n\\begin{align}y = X\\beta\\end{align}\n\nWhere $y$ is the signal and $\\beta$ are weights on different points in the\nsphere. The columns of the design matrix, $X$ are the signals in each point\nin the measurement that would be predicted if there was a fascicle oriented\nin the direction represented by that column. Typically, the signal used for\nthis kernel will be a prolate tensor with axial diffusivity 3-5 times higher\nthan its radial diffusivity. The exact numbers can also be estimated from\nexamining parts of the brain in which there is known to be only one fascicle\n(e.g. in corpus callosum).\n\nSparsity constraints on the fiber ODF ($\\beta$) are set through the Elastic\nNet algorithm :footcite:p:`Zou2005`.\n\nElastic Net optimizes the following cost function:\n\n\\begin{align}\\sum_{i=1}^{n}{(y_i - \\hat{y}_i)^2} + \\alpha (\\lambda \\sum_{j=1}^{m}{w_j}+(1-\\lambda) \\sum_{j=1}^{m}{w^2_j}  # noqa: E501\\end{align}\n\nwhere $\\hat{y}$ is the signal predicted for a particular setting of $\\beta$,\nsuch that the left part of this expression is the squared loss function;\n$\\alpha$ is a parameter that sets the balance between the squared loss on\nthe data, and the regularization constraints. The regularization parameter\n$\\lambda$ sets the `l1_ratio`, which controls the balance between L1-sparsity\n(low sum of weights), and low L2-sparsity (low sum-of-squares of the\nweights).\n\nJust like Constrained Spherical Deconvolution (see `reconst-csd`), the\nSFM requires the definition of a response function. We'll take advantage of\nthe automated algorithm in the :mod:`csdeconv` module to find this response\nfunction:\n\n"
      ]
    },
    {
      "cell_type": "code",
      "execution_count": null,
      "metadata": {
        "collapsed": false
      },
      "outputs": [],
      "source": [
        "response, ratio = auto_response_ssst(gtab, data, roi_radii=10, fa_thr=0.7)"
      ]
    },
    {
      "cell_type": "markdown",
      "metadata": {},
      "source": [
        "The ``response`` return value contains two entries. The first is an array\nwith the eigenvalues of the response function and the second is the average\nS0 for this response.\n\nIt is a very good practice to always validate the result of\n``auto_response_ssst``. For, this purpose we can print it and have a look\nat its values.\n\n"
      ]
    },
    {
      "cell_type": "code",
      "execution_count": null,
      "metadata": {
        "collapsed": false
      },
      "outputs": [],
      "source": [
        "print(response)"
      ]
    },
    {
      "cell_type": "markdown",
      "metadata": {},
      "source": [
        "We initialize an SFM model object, using these values. We will use the\ndefault sphere (362  vertices, symmetrically distributed on the surface of\nthe sphere), as a set of putative fascicle directions that are considered\nin the model\n\n"
      ]
    },
    {
      "cell_type": "code",
      "execution_count": null,
      "metadata": {
        "collapsed": false
      },
      "outputs": [],
      "source": [
        "sphere = dpd.get_sphere()\nsf_model = sfm.SparseFascicleModel(\n    gtab, sphere=sphere, l1_ratio=0.5, alpha=0.001, response=response[0]\n)"
      ]
    },
    {
      "cell_type": "markdown",
      "metadata": {},
      "source": [
        "For the purpose of the example, we will consider a small volume of data\ncontaining parts of the corpus callosum and of the centrum semiovale\n\n"
      ]
    },
    {
      "cell_type": "code",
      "execution_count": null,
      "metadata": {
        "collapsed": false
      },
      "outputs": [],
      "source": [
        "data_small = data[20:50, 55:85, 38:39]"
      ]
    },
    {
      "cell_type": "markdown",
      "metadata": {},
      "source": [
        "Fitting the model to this small volume of data, we calculate the ODF of this\nmodel on the sphere, and plot it.\n\n"
      ]
    },
    {
      "cell_type": "code",
      "execution_count": null,
      "metadata": {
        "collapsed": false
      },
      "outputs": [],
      "source": [
        "sf_fit = sf_model.fit(data_small)\nsf_odf = sf_fit.odf(sphere)\n\nfodf_spheres = actor.odf_slicer(sf_odf, sphere=sphere, scale=0.8, colormap=\"plasma\")\n\nscene = window.Scene()\nscene.add(fodf_spheres)\n\nwindow.record(scene=scene, out_path=\"sf_odfs.png\", size=(1000, 1000))\nif interactive:\n    window.show(scene)"
      ]
    },
    {
      "cell_type": "markdown",
      "metadata": {},
      "source": [
        "We can extract the peaks from the ODF, and plot these as well\n\n"
      ]
    },
    {
      "cell_type": "code",
      "execution_count": null,
      "metadata": {
        "collapsed": false
      },
      "outputs": [],
      "source": [
        "sf_peaks = dpp.peaks_from_model(\n    sf_model,\n    data_small,\n    sphere,\n    relative_peak_threshold=0.5,\n    min_separation_angle=25,\n    return_sh=False,\n)\n\n\nscene.clear()\nfodf_peaks = actor.peak_slicer(sf_peaks.peak_dirs, peaks_values=sf_peaks.peak_values)\nscene.add(fodf_peaks)\n\nwindow.record(scene=scene, out_path=\"sf_peaks.png\", size=(1000, 1000))\nif interactive:\n    window.show(scene)"
      ]
    },
    {
      "cell_type": "markdown",
      "metadata": {},
      "source": [
        "Finally, we plot both the peaks and the ODFs, overlaid:\n\n"
      ]
    },
    {
      "cell_type": "code",
      "execution_count": null,
      "metadata": {
        "collapsed": false
      },
      "outputs": [],
      "source": [
        "fodf_spheres.GetProperty().SetOpacity(0.4)\nscene.add(fodf_spheres)\n\nwindow.record(scene=scene, out_path=\"sf_both.png\", size=(1000, 1000))\nif interactive:\n    window.show(scene)"
      ]
    },
    {
      "cell_type": "markdown",
      "metadata": {},
      "source": [
        ".. rst-class:: centered small fst-italic fw-semibold\n\nSFM Peaks and ODFs.\n\n\nTo see how to use this information in tracking, proceed to\n`sphx_glr_examples_built_fiber_tracking_tracking_sfm.py`.\n\n## References\n\n.. footbibliography::\n\n\n"
      ]
    },
    {
      "cell_type": "markdown",
      "metadata": {},
      "source": [
        ".. include:: ../../links_names.inc\n\n\n"
      ]
    }
  ],
  "metadata": {
    "kernelspec": {
      "display_name": "Python 3",
      "language": "python",
      "name": "python3"
    },
    "language_info": {
      "codemirror_mode": {
        "name": "ipython",
        "version": 3
      },
      "file_extension": ".py",
      "mimetype": "text/x-python",
      "name": "python",
      "nbconvert_exporter": "python",
      "pygments_lexer": "ipython3",
      "version": "3.12.8"
    }
  },
  "nbformat": 4,
  "nbformat_minor": 0
}