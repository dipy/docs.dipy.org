{
  "cells": [
    {
      "cell_type": "markdown",
      "metadata": {},
      "source": [
        "\n# Tissue Classification using Diffusion MRI with DAM\n\nThis example demonstrates tissue classification of white matter (WM) and gray matter\n(GM) from multi-shell diffusion MRI data using the Directional Average Maps (DAM)\nproposed by :footcite:p:`Cheng2020`. DAM uses the diffusion properties of the tissue to\nclassify the voxels into WM and GM by fitting a polynomial model to the diffusion\nsignal. The process involves preprocessing steps including skull-stripping with\nmedian otsu, denoising with Patch2Self, and then perform tissue classification.\n\nLet's start by loading the necessary modules:\n"
      ]
    },
    {
      "cell_type": "code",
      "execution_count": null,
      "metadata": {
        "collapsed": false
      },
      "outputs": [],
      "source": [
        "import matplotlib.pyplot as plt\n\nfrom dipy.core.gradients import gradient_table\nfrom dipy.data import get_fnames\nfrom dipy.denoise.patch2self import patch2self\nfrom dipy.io.gradients import read_bvals_bvecs\nfrom dipy.io.image import load_nifti\nfrom dipy.segment.mask import median_otsu\nfrom dipy.segment.tissue import dam_classifier\nfrom dipy.viz.plotting import image_mosaic"
      ]
    },
    {
      "cell_type": "markdown",
      "metadata": {},
      "source": [
        "First we fetch the diffusion image, bvalues and bvectors from the cfin dataset.\n\n"
      ]
    },
    {
      "cell_type": "code",
      "execution_count": null,
      "metadata": {
        "collapsed": false
      },
      "outputs": [],
      "source": [
        "fraw, fbval, fbvec, t1_fname = get_fnames(name=\"cfin_multib\")\n\ndata, affine = load_nifti(fraw)\nbvals, bvecs = read_bvals_bvecs(fbval, fbvec)\ngtab = gradient_table(bvals, bvecs=bvecs)"
      ]
    },
    {
      "cell_type": "markdown",
      "metadata": {},
      "source": [
        "After loading the diffusion data, we can apply the median_otsu algorithm to\nskull-strip the data and obtain a binary mask. We can then use the mask to\ndenoise the data using the Patch2Self algorithm.\n\n"
      ]
    },
    {
      "cell_type": "code",
      "execution_count": null,
      "metadata": {
        "collapsed": false
      },
      "outputs": [],
      "source": [
        "b0_mask, mask = median_otsu(data, median_radius=2, numpass=1, vol_idx=[0, 1])\ndenoised_arr = patch2self(b0_mask, bvals=bvals, b0_denoising=False)"
      ]
    },
    {
      "cell_type": "markdown",
      "metadata": {},
      "source": [
        "Now we can use the DAM classifier to classify the voxels into WM and GM.\nThe DAM classifier requires the denoised data, the bvalues, and the mask.\nThe DAM classifier returns the WM and GM masks.\nIt is important to note that the DAM classifier is a threshold-based classifier\nand the threshold values can be adjusted based on the data. The `wm_threshold`\nparameter controls the sensitivity of the classifier.\nFor data like HCP, threshold of 0.5 proves to be a good choice. For data like\ncfin, higher threshold values like 0.7 or 0.8 are more suitable.\n\n"
      ]
    },
    {
      "cell_type": "code",
      "execution_count": null,
      "metadata": {
        "collapsed": false
      },
      "outputs": [],
      "source": [
        "wm_mask, gm_mask = dam_classifier(denoised_arr, bvals, wm_threshold=0.7)"
      ]
    },
    {
      "cell_type": "markdown",
      "metadata": {},
      "source": [
        "Now we can visualize the WM and GM masks.\n\n"
      ]
    },
    {
      "cell_type": "code",
      "execution_count": null,
      "metadata": {
        "collapsed": false
      },
      "outputs": [],
      "source": [
        "images = [\n    data[:, :, data.shape[2] // 2, 0],  # DWI (b0)\n    wm_mask[:, :, data.shape[2] // 2],  # White Matter Mask\n    gm_mask[:, :, data.shape[2] // 2],  # Grey Matter Mask\n]\n\nax_labels = [\"DWI (b0)\", \"White Matter Mask\", \"Grey Matter Mask\"]\nax_kwargs = [{\"cmap\": \"gray\"} for _ in images]\n\nfig, ax = image_mosaic(\n    images, ax_labels=ax_labels, ax_kwargs=ax_kwargs, figsize=(10, 5)\n)\n\nplt.show()"
      ]
    },
    {
      "cell_type": "markdown",
      "metadata": {},
      "source": [
        ".. rst-class:: centered small fst-italic fw-semibold\n\nOriginal B0 image (left), White matter (center) and gray matter (right) are\nbinary masks as obtained from DAM.\n\n\n## References\n\n.. footbibliography::\n\n"
      ]
    },
    {
      "cell_type": "markdown",
      "metadata": {},
      "source": [
        ".. include:: ../../links_names.inc\n\n\n"
      ]
    }
  ],
  "metadata": {
    "kernelspec": {
      "display_name": "Python 3",
      "language": "python",
      "name": "python3"
    },
    "language_info": {
      "codemirror_mode": {
        "name": "ipython",
        "version": 3
      },
      "file_extension": ".py",
      "mimetype": "text/x-python",
      "name": "python",
      "nbconvert_exporter": "python",
      "pygments_lexer": "ipython3",
      "version": "3.10.13"
    }
  },
  "nbformat": 4,
  "nbformat_minor": 0
}