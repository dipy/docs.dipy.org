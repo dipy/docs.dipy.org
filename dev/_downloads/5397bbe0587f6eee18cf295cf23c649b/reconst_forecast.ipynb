{
  "cells": [
    {
      "cell_type": "markdown",
      "metadata": {},
      "source": [
        "\n# Crossing invariant fiber response function with FORECAST model\n\nWe show how to obtain a voxel specific response function in the form of\naxially symmetric tensor and the fODF using the FORECAST model from\n:footcite:p:`Anderson2005`, :footcite:p:`Kaden2016a` and\n:footcite:p:`Zucchelli2017`.\n\nFirst import the necessary modules:\n"
      ]
    },
    {
      "cell_type": "code",
      "execution_count": null,
      "metadata": {
        "collapsed": false
      },
      "outputs": [],
      "source": [
        "import os.path as op\n\nimport matplotlib.pyplot as plt\nimport nibabel as nib\nimport numpy as np\n\nfrom dipy.core.gradients import gradient_table\nfrom dipy.data import fetch_hbn, get_sphere\nfrom dipy.reconst.forecast import ForecastModel\nfrom dipy.viz import actor, window"
      ]
    },
    {
      "cell_type": "markdown",
      "metadata": {},
      "source": [
        "Download and read the data for this tutorial. Our implementation of FORECAST\nrequires multi-shell `data.fetch_hbn()` provides data that was acquired using\nb-values of 1000 and 2000 as part of the Healthy Brain Network study\n:footcite:p:`Alexander2017` and was preprocessed and quality controlled in the\nHBN-POD2 dataset :footcite:p:`RichieHalford2022`.\n\n"
      ]
    },
    {
      "cell_type": "code",
      "execution_count": null,
      "metadata": {
        "collapsed": false
      },
      "outputs": [],
      "source": [
        "data_path = fetch_hbn([\"NDARAA948VFH\"])[1]\ndwi_path = op.join(\n    data_path, \"derivatives\", \"qsiprep\", \"sub-NDARAA948VFH\", \"ses-HBNsiteRU\", \"dwi\"\n)\n\nimg = nib.load(\n    op.join(\n        dwi_path,\n        \"sub-NDARAA948VFH_ses-HBNsiteRU_acq-64dir_space-T1w_desc-preproc_dwi.nii.gz\",\n    )\n)\n\ngtab = gradient_table(\n    op.join(\n        dwi_path,\n        \"sub-NDARAA948VFH_ses-HBNsiteRU_acq-64dir_space-T1w_desc-preproc_dwi.bval\",\n    ),\n    bvecs=op.join(\n        dwi_path,\n        \"sub-NDARAA948VFH_ses-HBNsiteRU_acq-64dir_space-T1w_desc-preproc_dwi.bvec\",\n    ),\n)\n\ndata = np.asarray(img.dataobj)\n\nmask_img = nib.load(\n    op.join(\n        dwi_path,\n        \"sub-NDARAA948VFH_ses-HBNsiteRU_acq-64dir_space-T1w_desc-brain_mask.nii.gz\",\n    )\n)\n\nbrain_mask = mask_img.get_fdata()"
      ]
    },
    {
      "cell_type": "markdown",
      "metadata": {},
      "source": [
        "Let us consider only a single slice for the FORECAST fitting\n\n"
      ]
    },
    {
      "cell_type": "code",
      "execution_count": null,
      "metadata": {
        "collapsed": false
      },
      "outputs": [],
      "source": [
        "data_small = data[:, :, 50:51]\nmask_small = brain_mask[:, :, 50:51]"
      ]
    },
    {
      "cell_type": "markdown",
      "metadata": {},
      "source": [
        "Instantiate the FORECAST Model.\n\n\"sh_order_max\" is the spherical harmonics order (l) used for the fODF.\n\ndec_alg is the spherical deconvolution algorithm used for the FORECAST basis\nfitting, in this case we used the Constrained Spherical Deconvolution (CSD)\nalgorithm.\n\n"
      ]
    },
    {
      "cell_type": "code",
      "execution_count": null,
      "metadata": {
        "collapsed": false
      },
      "outputs": [],
      "source": [
        "fm = ForecastModel(gtab, sh_order_max=6, dec_alg=\"CSD\")"
      ]
    },
    {
      "cell_type": "markdown",
      "metadata": {},
      "source": [
        "Fit the FORECAST to the data\n\n"
      ]
    },
    {
      "cell_type": "code",
      "execution_count": null,
      "metadata": {
        "collapsed": false
      },
      "outputs": [],
      "source": [
        "f_fit = fm.fit(data_small, mask=mask_small)"
      ]
    },
    {
      "cell_type": "markdown",
      "metadata": {},
      "source": [
        "Calculate the crossing invariant tensor indices :footcite:p:`Kaden2016a`: the\nparallel diffusivity, the perpendicular diffusivity, the fractional anisotropy\nand the mean diffusivity.\n\n"
      ]
    },
    {
      "cell_type": "code",
      "execution_count": null,
      "metadata": {
        "collapsed": false
      },
      "outputs": [],
      "source": [
        "d_par = f_fit.dpar\nd_perp = f_fit.dperp\nfa = f_fit.fractional_anisotropy()\nmd = f_fit.mean_diffusivity()"
      ]
    },
    {
      "cell_type": "markdown",
      "metadata": {},
      "source": [
        "Show the indices and save them in FORECAST_indices.png.\n\n"
      ]
    },
    {
      "cell_type": "code",
      "execution_count": null,
      "metadata": {
        "collapsed": false
      },
      "outputs": [],
      "source": [
        "fig = plt.figure(figsize=(6, 6))\nax1 = fig.add_subplot(2, 2, 1, title=\"parallel diffusivity\")\nax1.set_axis_off()\nind = ax1.imshow(\n    d_par[:, :, 0].T, interpolation=\"nearest\", origin=\"lower\", cmap=plt.cm.gray\n)\nplt.colorbar(ind, shrink=0.6)\nax2 = fig.add_subplot(2, 2, 2, title=\"perpendicular diffusivity\")\nax2.set_axis_off()\nind = ax2.imshow(\n    d_perp[:, :, 0].T, interpolation=\"nearest\", origin=\"lower\", cmap=plt.cm.gray\n)\nplt.colorbar(ind, shrink=0.6)\nax3 = fig.add_subplot(2, 2, 3, title=\"fractional anisotropy\")\nax3.set_axis_off()\nind = ax3.imshow(\n    fa[:, :, 0].T, interpolation=\"nearest\", origin=\"lower\", cmap=plt.cm.gray\n)\nplt.colorbar(ind, shrink=0.6)\nax4 = fig.add_subplot(2, 2, 4, title=\"mean diffusivity\")\nax4.set_axis_off()\nind = ax4.imshow(\n    md[:, :, 0].T, interpolation=\"nearest\", origin=\"lower\", cmap=plt.cm.gray\n)\nplt.colorbar(ind, shrink=0.6)\nplt.savefig(\"FORECAST_indices.png\", dpi=300, bbox_inches=\"tight\")"
      ]
    },
    {
      "cell_type": "markdown",
      "metadata": {},
      "source": [
        ".. rst-class:: centered small fst-italic fw-semibold\n\nFORECAST scalar indices.\n\n\nLoad an ODF reconstruction sphere\n\n"
      ]
    },
    {
      "cell_type": "code",
      "execution_count": null,
      "metadata": {
        "collapsed": false
      },
      "outputs": [],
      "source": [
        "sphere = get_sphere(name=\"repulsion724\")"
      ]
    },
    {
      "cell_type": "markdown",
      "metadata": {},
      "source": [
        "Compute the fODFs.\n\n"
      ]
    },
    {
      "cell_type": "code",
      "execution_count": null,
      "metadata": {
        "collapsed": false
      },
      "outputs": [],
      "source": [
        "odf = f_fit.odf(sphere)\nprint(f\"fODF.shape {odf.shape}\")"
      ]
    },
    {
      "cell_type": "markdown",
      "metadata": {},
      "source": [
        "Display a part of the fODFs\n\n"
      ]
    },
    {
      "cell_type": "code",
      "execution_count": null,
      "metadata": {
        "collapsed": false
      },
      "outputs": [],
      "source": [
        "odf_actor = actor.odf_slicer(\n    odf[30:60, 30:60, :], sphere=sphere, colormap=\"plasma\", scale=0.6\n)\nscene = window.Scene()\nscene.add(odf_actor)\nwindow.record(scene=scene, out_path=\"fODFs.png\", size=(600, 600), magnification=4)"
      ]
    },
    {
      "cell_type": "markdown",
      "metadata": {},
      "source": [
        ".. rst-class:: centered small fst-italic fw-semibold\n\nFiber Orientation Distribution Functions, in a small ROI of the brain.\n\n\n## References\n\n.. footbibliography::\n\n\n"
      ]
    },
    {
      "cell_type": "markdown",
      "metadata": {},
      "source": [
        ".. include:: ../../links_names.inc\n\n\n"
      ]
    }
  ],
  "metadata": {
    "kernelspec": {
      "display_name": "Python 3",
      "language": "python",
      "name": "python3"
    },
    "language_info": {
      "codemirror_mode": {
        "name": "ipython",
        "version": 3
      },
      "file_extension": ".py",
      "mimetype": "text/x-python",
      "name": "python",
      "nbconvert_exporter": "python",
      "pygments_lexer": "ipython3",
      "version": "3.10.13"
    }
  },
  "nbformat": 4,
  "nbformat_minor": 0
}