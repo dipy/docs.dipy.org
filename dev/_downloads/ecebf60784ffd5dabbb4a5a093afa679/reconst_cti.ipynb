{
  "cells": [
    {
      "cell_type": "markdown",
      "metadata": {},
      "source": [
        "\n# Reconstruction of the diffusion signal with the correlation tensor model\n\nCorrelation Tensor MRI (CTI) is a method that uses double diffusion\nencoding data to resolve sources of kurtosis. It is similar to the Q-space\nTrajectory Imaging method\n(see `sphx_glr_examples_built_reconstruction_reconst_qti.py`) [NetoHe2020]_.\nHowever, in addition to the kurtosis sources associated with diffusion\nvariance across compartments (``K_aniso`` and ``K_iso``, which are related to\nmicroscopic anisotropy and the variance of the mean diffusivities of\ncompartments, respectively), CTI also measures K_micro. This quantifies\nnon-Gaussian diffusion effects that deviate from the multiple Gaussian\ncomponent tissue representation, such as restricted diffusion, exchange,\nand structural disorder in compartments like cross-sectional variance\n[NovelloL2022]_ [AlvesR2022]_.\n\nAlthough the CorrelationTensorModel and the DiffusionKurtosisTensorFit may\nshare some similarities, they have significantly different representations for\nthe diffusion-weighted signal. This difference leads to the necessity for a\nunique ``design matrix`` specifically for CTI.\nThe CorrelationTensorModel expresses the diffusion-weighted signal as:\n\n\\begin{align}\begin{align}\n    \\log E_{\\Delta}(q_1, q_2) &= \\left(q_{1i}q_{1j}\n    + q_{2i}q_{2j}\right) \\Delta D_{ij} \\\n    &+ q_{1i}q_{2j}Q_{ij} \\\n    &+ \frac{1}{6} \\left( q_{1i}q_{1j}q_{1k}q_{1l}\n    + q_{2i}q_{2j}q_{2k}q_{2l} \right) \\\n    &\\quad \\times \\Delta^2 D^2 W_{ijkl} \\\n    &+ \frac{1}{4} q_{1i}q_{1j}q_{2k}q_{2l}Z_{ijkl} \\\n    &+ \\frac{1}{6} \\left( q_{1i}q_{1j}q_{1k}q_{2l}\n    + q_{2i}q_{2j}q_{2k}q_{1l} \right) S_{ijkl} \\\n    &+ O(q^6)\n    \\end{align}\n\n    where: $\\Delta D_{ij}$ refers to the elements of the total diffusion\n    tensor (DT) and $W_{ijkl}$ are the elements of the total kurtosis tensor\n    (KT) and $D$ is the mean diffusivity and $Q_{ij}$ are the elements of a 2nd\n    order correlation tensor Q.\n    $Z_{ijkl}$ and $S_{ijkl}$ are the elements of the 4th order displacement\n    correlation tensors Z and S, respectively.\\end{align}\n\nHowever it differentiates from the DiffusionKurtosis Model by calculating the\ndifferent sources of kurtosis.\n\nIn the following example we show how to fit the correlation tensor model on a\nreal life dataset and how to estimate correlation tensor based statistics.\n\nFirst, we'll import all relevant modules.\n"
      ]
    },
    {
      "cell_type": "code",
      "execution_count": null,
      "metadata": {
        "collapsed": false
      },
      "outputs": [],
      "source": [
        "import matplotlib.pyplot as plt\n\nimport dipy.reconst.cti as cti\nfrom dipy.io import read_bvals_bvecs\nfrom dipy.core.gradients import gradient_table\nfrom dipy.io.image import load_nifti\nfrom dipy.data import get_fnames"
      ]
    },
    {
      "cell_type": "markdown",
      "metadata": {},
      "source": [
        "For CTI analysis, data must be acquired using double diffusion encoding, taking\ninto account different pairs of b-values and gradient directions between the\ntwo diffusion epochs, as discussed by Henriques et al. in Magn Reson Med 2021\n[NetoHe2021]._\nTo run CTI we need to have separate b-value and b-vector files for each DDE\ndiffusion epoch. In this tutorial, a sample DDE dataset and respective b-value\nand b-vector files for the two epochs are fetched. If you want to process your\nown DDE data compatible with CTI, you will have to change the below lines of\ncode to add the paths of your data.\nThe users should also ensure that the data is formatted correctly for the CTI\nanalysis they are performing.\n\n"
      ]
    },
    {
      "cell_type": "code",
      "execution_count": null,
      "metadata": {
        "collapsed": false
      },
      "outputs": [],
      "source": [
        "fdata, fbvals1, fbvecs1, fbvals2, fbvecs2, fmask = get_fnames('cti_rat1')\ndata, affine = load_nifti(fdata)\nbvals1, bvecs1 = read_bvals_bvecs(fbvals1, fbvecs1)\nbvals2, bvecs2 = read_bvals_bvecs(fbvals2, fbvecs2)"
      ]
    },
    {
      "cell_type": "markdown",
      "metadata": {},
      "source": [
        "In this example, the function load_nifti is used to load the CTI data saved in\nfilefdata and returns the data as a nibabel Nifti1Image object along with the\naffine transformation. The b-values and b-vectors for two different gradient\ntables are loaded from ``bvals1.bval`` and ``bvec1.bvec``, and ``bvals2.bval``\nand ``bvec2.bvec``, respectively, using the ``read_bvals_bvecs`` function. For\nCTI reconstruction in DIPY, we need to define the b-values and b-vectors for\neach diffusion epoch in separate gradient tables, as done in the above line of\ncode.\n\n"
      ]
    },
    {
      "cell_type": "code",
      "execution_count": null,
      "metadata": {
        "collapsed": false
      },
      "outputs": [],
      "source": [
        "gtab1 = gradient_table(bvals1, bvecs1)\ngtab2 = gradient_table(bvals2, bvecs2)"
      ]
    },
    {
      "cell_type": "markdown",
      "metadata": {},
      "source": [
        "Before fitting the data, we perform some data pre-processing. We first compute\na brain mask to avoid unnecessary calculations on the background of the image.\n\n"
      ]
    },
    {
      "cell_type": "code",
      "execution_count": null,
      "metadata": {
        "collapsed": false
      },
      "outputs": [],
      "source": [
        "mask, mask_affine = load_nifti(fmask)"
      ]
    },
    {
      "cell_type": "markdown",
      "metadata": {},
      "source": [
        "Now that we've loaded the data and generated the two gradient tables we can go\nforward with CTI fitting. For this, the CTI model is first defined for\nGradientTable objects gtab1 and gtab2 by instantiating the\nCorrelationTensorModel object in the following way:\n\n"
      ]
    },
    {
      "cell_type": "code",
      "execution_count": null,
      "metadata": {
        "collapsed": false
      },
      "outputs": [],
      "source": [
        "ctimodel = cti.CorrelationTensorModel(gtab1, gtab2)"
      ]
    },
    {
      "cell_type": "markdown",
      "metadata": {},
      "source": [
        "To fit the data using the defined model object, we call the fit function of\nthis object.\n\n"
      ]
    },
    {
      "cell_type": "code",
      "execution_count": null,
      "metadata": {
        "collapsed": false
      },
      "outputs": [],
      "source": [
        "ctifit = ctimodel.fit(data, mask=mask)"
      ]
    },
    {
      "cell_type": "markdown",
      "metadata": {},
      "source": [
        "The fit method for the CTI model produces a CorrelationTensorFit object, which\ncontains the attributes of both the DKI and DTI models. Given that CTI is a\nbuilt upon DKI, which itself extends the DTI model, the\nCorrelationTensorFit instance captures a comprehensive set of parameters and\nattributes from these underlying models.\n\nFor instance, the CTI model inherently estimates all DTI and DKI statistics,\nsuch as mean, axial, and radial diffusivities (MD, AD, RD) as well as the mean,\naxial, and radial kurtosis (MK, AK, RK).\nTo better illustrate the extraction of main DTI/DKI parameters using the CTI\nmodel, consider the following lines of code:\n\n"
      ]
    },
    {
      "cell_type": "code",
      "execution_count": null,
      "metadata": {
        "collapsed": false
      },
      "outputs": [],
      "source": [
        "AD = ctifit.ad\nMD = ctifit.md\nRD = ctifit.rd\nMK = ctifit.mk()\nAK = ctifit.ak()\nRK = ctifit.rk()"
      ]
    },
    {
      "cell_type": "markdown",
      "metadata": {},
      "source": [
        "However, in addition to these metrics, CTI also provides unique sources of\ninformation, not available in DTI and DKI. Below we draw a feature map of the 3\ndifferent sources of kurtosis which can exclusively be calculated from the CTI\nmodel.\n\n"
      ]
    },
    {
      "cell_type": "code",
      "execution_count": null,
      "metadata": {
        "collapsed": false
      },
      "outputs": [],
      "source": [
        "kiso_map = ctifit.K_iso\nkaniso_map = ctifit.K_aniso\nkmicro_map = ctifit.K_micro\n\nslice_idx = 0\nfig, axarr = plt.subplots(1, 3, figsize=(15, 5))\n\naxarr[0].imshow(kiso_map[:, :, slice_idx], cmap='gray',\n                origin='lower', vmin=0, vmax=1)\naxarr[0].set_title('Kiso Map')\n\naxarr[1].imshow(kaniso_map[:, :, slice_idx], cmap='gray',\n                origin='lower', vmin=0, vmax=1)\naxarr[1].set_title('Kaniso Map')\n\naxarr[2].imshow(kmicro_map[:, :, slice_idx], cmap='gray',\n                origin='lower', vmin=0, vmax=1)\naxarr[2].set_title('Kmicro Map')\n\nplt.tight_layout()\nplt.show()"
      ]
    },
    {
      "cell_type": "markdown",
      "metadata": {},
      "source": [
        "## References\n.. [NetoHe2020] Henriques, R.N., Jespersen, S.N., Shemesh, N., 2020.\n    Correlation tensor magnetic resonance imaging. Neuroimage 211.\n    doi: 10.1016/j.neuroimage.2020.116605\n.. [NovelloL2022] Novello, L., Henriques, R.N., Ianus, A., Feiweier, T.,\n    Shemesh, N., Jovicich, J. 2022.\n    In vivo Correlation Tensor MRI reveals microscopic kurtosis in the human\n    brain on a clinical 3T scanner. Neuroimage 254: 119137\n    doi: 10.1016/j.neuroimage.2022.119137\n.. [AlvesR2022] Alves, R., Henriques, R.N., Kerkel\u00e4, L., Chavarr\u00edas C.,\nJespersen, S.N., Shemesh, N.\n    2022. Correlation Tensor MRI deciphers underlying kurtosis sources in\n    stroke, Neuroimage 247: 118833. doi: 10.1016/j.neuroimage.2021.118833\n.. [NetHe2021] Henriques, R.N., Jespersen, S.N., Shemesh, N., 2021.\nEvidence for microscopic kurtosis in neural tissue revealed by correlation\ntensor MRI. Magn. Reson. Med. 1-20. doi: 10.1002/mrm.28938\n\n"
      ]
    },
    {
      "cell_type": "markdown",
      "metadata": {},
      "source": [
        ".. include:: ../../links_names.inc\n\n\n"
      ]
    }
  ],
  "metadata": {
    "kernelspec": {
      "display_name": "Python 3",
      "language": "python",
      "name": "python3"
    },
    "language_info": {
      "codemirror_mode": {
        "name": "ipython",
        "version": 3
      },
      "file_extension": ".py",
      "mimetype": "text/x-python",
      "name": "python",
      "nbconvert_exporter": "python",
      "pygments_lexer": "ipython3",
      "version": "3.9.13"
    }
  },
  "nbformat": 4,
  "nbformat_minor": 0
}