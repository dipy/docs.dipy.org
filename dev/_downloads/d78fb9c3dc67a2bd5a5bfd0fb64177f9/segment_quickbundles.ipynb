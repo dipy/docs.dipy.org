{
  "cells": [
    {
      "cell_type": "markdown",
      "metadata": {},
      "source": [
        "\n# Tractography Clustering with QuickBundles\n\nThis example explains how we can use QuickBundles\n:footcite:p:`Garyfallidis2012a` to simplify/cluster streamlines.\n\nFirst import the necessary modules.\n"
      ]
    },
    {
      "cell_type": "code",
      "execution_count": null,
      "metadata": {
        "collapsed": false
      },
      "outputs": [],
      "source": [
        "import numpy as np\n\nfrom dipy.data import get_fnames\nfrom dipy.io.pickles import save_pickle\nfrom dipy.io.streamline import load_tractogram\nfrom dipy.segment.clustering import QuickBundles\nfrom dipy.viz import actor, colormap, window"
      ]
    },
    {
      "cell_type": "markdown",
      "metadata": {},
      "source": [
        "For educational purposes we will try to cluster a small streamline bundle\nknown from neuroanatomy as the fornix.\n\n"
      ]
    },
    {
      "cell_type": "code",
      "execution_count": null,
      "metadata": {
        "collapsed": false
      },
      "outputs": [],
      "source": [
        "fname = get_fnames(name=\"fornix\")"
      ]
    },
    {
      "cell_type": "markdown",
      "metadata": {},
      "source": [
        "Load fornix streamlines.\n\n"
      ]
    },
    {
      "cell_type": "code",
      "execution_count": null,
      "metadata": {
        "collapsed": false
      },
      "outputs": [],
      "source": [
        "fornix = load_tractogram(fname, \"same\", bbox_valid_check=False)\nstreamlines = fornix.streamlines"
      ]
    },
    {
      "cell_type": "markdown",
      "metadata": {},
      "source": [
        "Perform QuickBundles clustering using the MDF metric and a 10mm distance\nthreshold. Keep in mind that since the MDF metric requires streamlines to\nhave the same number of points, the clustering algorithm will internally use\na representation of streamlines that have been automatically\ndownsampled/upsampled so they have only 12 points (To set manually the\nnumber of points, see `clustering-examples-ResampleFeature`).\n\n"
      ]
    },
    {
      "cell_type": "code",
      "execution_count": null,
      "metadata": {
        "collapsed": false
      },
      "outputs": [],
      "source": [
        "qb = QuickBundles(threshold=10.0)\nclusters = qb.cluster(streamlines)"
      ]
    },
    {
      "cell_type": "markdown",
      "metadata": {},
      "source": [
        "`clusters` is a `ClusterMap` object which contains attributes that\nprovide information about the clustering result.\n\n"
      ]
    },
    {
      "cell_type": "code",
      "execution_count": null,
      "metadata": {
        "collapsed": false
      },
      "outputs": [],
      "source": [
        "print(\"Nb. clusters:\", len(clusters))\nprint(\"Cluster sizes:\", map(len, clusters))\nprint(\"Small clusters:\", clusters < 10)\nprint(\"Streamlines indices of the first cluster:\\n\", clusters[0].indices)\nprint(\"Centroid of the last cluster:\\n\", clusters[-1].centroid)"
      ]
    },
    {
      "cell_type": "markdown",
      "metadata": {},
      "source": [
        "`clusters` also has attributes such as `centroids` (cluster representatives),\nand methods like `add`, `remove`, and `clear` to modify the clustering\nresult.\n\nLet's first show the initial dataset.\n\n"
      ]
    },
    {
      "cell_type": "code",
      "execution_count": null,
      "metadata": {
        "collapsed": false
      },
      "outputs": [],
      "source": [
        "# Enables/disables interactive visualization\ninteractive = False\n\nscene = window.Scene()\nscene.SetBackground(1, 1, 1)\nscene.add(actor.streamtube(streamlines, colors=window.colors.white))\nwindow.record(scene=scene, out_path=\"fornix_initial.png\", size=(600, 600))\nif interactive:\n    window.show(scene)"
      ]
    },
    {
      "cell_type": "markdown",
      "metadata": {},
      "source": [
        ".. rst-class:: centered small fst-italic fw-semibold\n\nInitial Fornix dataset.\n\n\nShow the centroids of the fornix after clustering (with random colors):\n\n"
      ]
    },
    {
      "cell_type": "code",
      "execution_count": null,
      "metadata": {
        "collapsed": false
      },
      "outputs": [],
      "source": [
        "colormap = colormap.create_colormap(np.arange(len(clusters)))\n\nscene.clear()\nscene.SetBackground(1, 1, 1)\nscene.add(actor.streamtube(streamlines, colors=window.colors.white, opacity=0.05))\nscene.add(actor.streamtube(clusters.centroids, colors=colormap, linewidth=0.4))\nwindow.record(scene=scene, out_path=\"fornix_centroids.png\", size=(600, 600))\nif interactive:\n    window.show(scene)"
      ]
    },
    {
      "cell_type": "markdown",
      "metadata": {},
      "source": [
        ".. rst-class:: centered small fst-italic fw-semibold\n\nShowing the different QuickBundles centroids with random colors.\n\n\nShow the labeled fornix (colors from centroids).\n\n"
      ]
    },
    {
      "cell_type": "code",
      "execution_count": null,
      "metadata": {
        "collapsed": false
      },
      "outputs": [],
      "source": [
        "colormap_full = np.ones((len(streamlines), 3))\nfor cluster, color in zip(clusters, colormap):\n    colormap_full[cluster.indices] = color\n\nscene.clear()\nscene.SetBackground(1, 1, 1)\nscene.add(actor.streamtube(streamlines, colors=colormap_full))\nwindow.record(scene=scene, out_path=\"fornix_clusters.png\", size=(600, 600))\nif interactive:\n    window.show(scene)"
      ]
    },
    {
      "cell_type": "markdown",
      "metadata": {},
      "source": [
        ".. rst-class:: centered small fst-italic fw-semibold\n\nShowing the different clusters.\n\n\nIt is also possible to save the complete `ClusterMap` object with pickling.\n\n"
      ]
    },
    {
      "cell_type": "code",
      "execution_count": null,
      "metadata": {
        "collapsed": false
      },
      "outputs": [],
      "source": [
        "save_pickle(\"QB.pkl\", clusters)"
      ]
    },
    {
      "cell_type": "markdown",
      "metadata": {},
      "source": [
        "Finally, here is a video of QuickBundles applied on a larger dataset.\n\n.. raw:: html\n\n    <iframe width=\"420\" height=\"315\" src=\"https://www.youtube.com/embed/kstL7KKqu94\" frameborder=\"0\" allowfullscreen></iframe>  # noqa: E501\n\n\n## References\n\n.. footbibliography::\n\n\n"
      ]
    },
    {
      "cell_type": "markdown",
      "metadata": {},
      "source": [
        ".. include:: ../../links_names.inc\n\n\n"
      ]
    }
  ],
  "metadata": {
    "kernelspec": {
      "display_name": "Python 3",
      "language": "python",
      "name": "python3"
    },
    "language_info": {
      "codemirror_mode": {
        "name": "ipython",
        "version": 3
      },
      "file_extension": ".py",
      "mimetype": "text/x-python",
      "name": "python",
      "nbconvert_exporter": "python",
      "pygments_lexer": "ipython3",
      "version": "3.10.13"
    }
  },
  "nbformat": 4,
  "nbformat_minor": 0
}